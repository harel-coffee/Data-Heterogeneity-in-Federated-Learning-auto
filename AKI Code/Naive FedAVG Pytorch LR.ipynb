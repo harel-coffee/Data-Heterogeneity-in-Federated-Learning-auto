{
 "cells": [
  {
   "cell_type": "code",
   "execution_count": 1,
   "id": "768bae9b",
   "metadata": {},
   "outputs": [],
   "source": [
    "import numpy as np\n",
    "import pandas as pd\n",
    "import os\n",
    "import pprint\n",
    "import sklearn\n",
    "from sklearn import preprocessing\n",
    "from sklearn.decomposition import PCA\n",
    "import warnings\n",
    "import matplotlib\n",
    "from os import listdir\n",
    "import seaborn as sns\n",
    "import scipy\n",
    "import sys\n",
    "import pickle\n",
    "import miceforest as mf\n",
    "warnings.filterwarnings(\"ignore\")\n",
    "import functools\n",
    "from functools import reduce\n",
    "from mc4.algorithm import mc4_aggregator\n",
    "from copy import deepcopy\n",
    "\n",
    "import sklearn.neighbors._base\n",
    "sys.modules['sklearn.neighbors.base'] = sklearn.neighbors._base\n",
    "\n",
    "from sklearn.preprocessing import StandardScaler, MinMaxScaler\n",
    "import missingpy\n",
    "from sklearn.experimental import enable_iterative_imputer\n",
    "from sklearn.model_selection import train_test_split\n",
    "from sklearn.ensemble import RandomForestClassifier\n",
    "from sklearn.metrics import classification_report, confusion_matrix, accuracy_score, ConfusionMatrixDisplay\n",
    "from sklearn.metrics import brier_score_loss, precision_score, recall_score, f1_score, log_loss, roc_auc_score\n",
    "from collections import Counter\n",
    "import torch\n",
    "from torch import nn\n",
    "import torch.nn.functional as F\n",
    "from tqdm import tqdm\n",
    "import copy\n",
    "\n",
    "import warnings\n",
    "warnings.filterwarnings(\"ignore\")\n",
    "\n",
    "from imblearn.over_sampling import SMOTE\n",
    "from imblearn.under_sampling import RandomUnderSampler\n",
    "from imblearn.over_sampling import RandomOverSampler\n",
    "from imblearn.under_sampling import TomekLinks\n",
    "from imblearn.under_sampling import NearMiss\n",
    "from collections import Counter\n",
    "\n",
    "import shap\n",
    "import matplotlib.pyplot as plt\n",
    "import statsmodels.api as sm\n",
    "from torch.utils.data import Dataset, DataLoader"
   ]
  },
  {
   "cell_type": "code",
   "execution_count": 2,
   "id": "d6f12808",
   "metadata": {},
   "outputs": [],
   "source": [
    "rs = 42"
   ]
  },
  {
   "cell_type": "code",
   "execution_count": 3,
   "id": "4cd4c506",
   "metadata": {},
   "outputs": [],
   "source": [
    "import random\n",
    "\n",
    "def _init_fn(worker_id):\n",
    "    np.random.seed(int(rs))\n",
    "    \n",
    "def seed_torch(seed=42):\n",
    "    random.seed(seed)\n",
    "    os.environ['PYTHONHASHSEED'] = str(seed)\n",
    "    np.random.seed(seed)\n",
    "    torch.manual_seed(seed)\n",
    "    torch.cuda.manual_seed(seed)\n",
    "    torch.cuda.manual_seed_all(seed) # if you are using multi-GPU.\n",
    "    torch.backends.cudnn.benchmark = False\n",
    "    torch.backends.cudnn.deterministic = True\n",
    "\n",
    "seed_torch()"
   ]
  },
  {
   "cell_type": "code",
   "execution_count": 4,
   "id": "48a7af32",
   "metadata": {},
   "outputs": [],
   "source": [
    "# Undersample Test Set\n",
    "test_under_sampler = 0\n",
    "do_class_weight = 1\n",
    "\n",
    "# Undersample Train Set\n",
    "do_smote = 0\n",
    "do_random_under_sampler = 1\n",
    "do_random_over_sampler = 0\n",
    "do_tomek_links = 0\n",
    "do_near_miss = 0\n",
    "\n",
    "# Data Cleaning\n",
    "redo_cleaning = 0\n",
    "remove_outliers = 1"
   ]
  },
  {
   "cell_type": "code",
   "execution_count": 5,
   "id": "1e0f250e",
   "metadata": {},
   "outputs": [],
   "source": [
    "def find_csv_filenames( path_to_dir, suffix=\".csv\" ):\n",
    "    filenames = listdir(path_to_dir)\n",
    "    return [ filename for filename in filenames if filename.endswith( suffix ) ]"
   ]
  },
  {
   "cell_type": "code",
   "execution_count": 6,
   "id": "658fe3ab",
   "metadata": {},
   "outputs": [],
   "source": [
    "os.chdir('..')"
   ]
  },
  {
   "cell_type": "code",
   "execution_count": 7,
   "id": "010fa6f0",
   "metadata": {},
   "outputs": [],
   "source": [
    "prediction_window = '48h'"
   ]
  },
  {
   "cell_type": "code",
   "execution_count": 8,
   "id": "cc5951ef",
   "metadata": {},
   "outputs": [],
   "source": [
    "data_directory = 'AKI Data/eicu_aki/new data/'\n",
    "prediction_directory = 'observation' + prediction_window + '_prediction24h/'\n",
    "\n",
    "data_files = find_csv_filenames(data_directory+prediction_directory)\n",
    "\n",
    "hosps = [x.replace('.csv', '') for x in data_files]"
   ]
  },
  {
   "cell_type": "code",
   "execution_count": 9,
   "id": "c5b1d530",
   "metadata": {},
   "outputs": [],
   "source": [
    "model_directory = 'AKI Models/' + prediction_window + '/Pytorch LR/'"
   ]
  },
  {
   "cell_type": "markdown",
   "id": "5aaf1e9d",
   "metadata": {},
   "source": [
    "#### Loading Cleaned Data"
   ]
  },
  {
   "cell_type": "code",
   "execution_count": 10,
   "id": "b9bfcf7e",
   "metadata": {},
   "outputs": [],
   "source": [
    "def get_features_diag(data):\n",
    "    features = list(data_dictionary[hosp])\n",
    "    features.remove(list(data_dictionary[hosp])[-1])\n",
    "    AKI_diag = list(data_dictionary[hosp])[-1]\n",
    "    return features, AKI_diag\n",
    "\n",
    "\n",
    "def do_training_modifications(X_train, y_train):\n",
    "    if do_smote:\n",
    "        oversample = SMOTE(random_state=rs)\n",
    "        X_train, y_train = oversample.fit_resample(X_train, y_train)\n",
    "    if do_random_under_sampler:\n",
    "        rus = RandomUnderSampler(replacement=True, random_state=rs)\n",
    "        X_train, y_train = rus.fit_resample(X_train, y_train)\n",
    "    if do_random_over_sampler:\n",
    "        ros = RandomOverSampler(random_state=rs)\n",
    "        X_train, y_train = ros.fit_resample(X_train, y_train)\n",
    "    if do_tomek_links:\n",
    "        tl = TomekLinks(random_state=rs)\n",
    "        X_train, y_train = tl.fit_resample(X_train, y_train)\n",
    "    if do_near_miss:\n",
    "        nm = NearMiss(random_state=rs)\n",
    "        X_train, y_train = nm.fit_resample(X_train, y_train)  \n",
    "    return X_train, y_train\n",
    "\n",
    "def normalize_data(data_dictionary, hosp):\n",
    "    df = deepcopy(data_dictionary[hosp])\n",
    "    demographic_index = list(df).index('is_female')\n",
    "    medical_signs = list(df)[:demographic_index]\n",
    "    medication_index = list(df).index('ACETAMIN')\n",
    "    medications = list(df)[medication_index:len(list(data))-1]\n",
    "    demographic_binary = ['is_female', 'race_black', 'race_hispanic', 'race_asian', \n",
    "                        'race_other', 'electivesurgery']\n",
    "    binary_features = medications + demographic_binary\n",
    "    continuous_features = medical_signs + ['age', 'BMI']\n",
    "\n",
    "    df[continuous_features] = (df[continuous_features]-df[continuous_features].mean())/df[continuous_features].std()\n",
    "    df[binary_features] = df[binary_features].replace([0],-1)\n",
    "    return df"
   ]
  },
  {
   "cell_type": "code",
   "execution_count": 11,
   "id": "8a45ed37",
   "metadata": {},
   "outputs": [],
   "source": [
    "data_dictionary = dict.fromkeys(hosps)\n",
    "temp_data_dictionary = dict.fromkeys(hosps)"
   ]
  },
  {
   "cell_type": "code",
   "execution_count": 12,
   "id": "b9af51fb",
   "metadata": {},
   "outputs": [],
   "source": [
    "for hosp in data_dictionary:\n",
    "    file = str(hosp) + '.csv'\n",
    "    data = pd.read_csv(data_directory + prediction_directory + \"cleaned/\" + file)\n",
    "    data = data.loc[:, ~data.columns.str.contains('^Unnamed')]\n",
    "    data_dictionary[hosp] = data\n",
    "    \n",
    "for hosp in temp_data_dictionary:\n",
    "    file = str(hosp) + '.csv'\n",
    "    data = pd.read_csv(data_directory + prediction_directory + \"cleaned/unscaled/\" + file)\n",
    "    data = data.loc[:, ~data.columns.str.contains('^Unnamed')]\n",
    "    temp_data_dictionary[hosp] = data"
   ]
  },
  {
   "cell_type": "code",
   "execution_count": 13,
   "id": "9d06732e",
   "metadata": {},
   "outputs": [],
   "source": [
    "for hosp in data_dictionary:\n",
    "    data_dictionary[hosp] = normalize_data(data_dictionary, hosp)"
   ]
  },
  {
   "cell_type": "markdown",
   "id": "08ddd4fa",
   "metadata": {},
   "source": [
    "#### Classes and Functions for Training"
   ]
  },
  {
   "cell_type": "code",
   "execution_count": 14,
   "id": "d0d9774c",
   "metadata": {},
   "outputs": [],
   "source": [
    "class LR(nn.Module):\n",
    "    def __init__(self,input_shape):\n",
    "        super(LR,self).__init__()\n",
    "        self.fc1 = nn.Linear(input_shape,1)\n",
    "    \n",
    "    def forward(self,x):\n",
    "        x = torch.sigmoid(self.fc1(x))\n",
    "        return x\n",
    "        \n",
    "    def fit(self, X_train, y_train, epochs=100, lr=0.001):\n",
    "        X_train = X_train.values\n",
    "        y_train = y_train.values\n",
    "        class_weights = sklearn.utils.compute_class_weight('balanced', classes=np.unique(np.squeeze(y_train)),\n",
    "                                                           y=np.squeeze(y_train))\n",
    "        trainset = dataset(X_train, y_train)\n",
    "        train_loader = DataLoader(trainset, batch_size=64, shuffle=True, num_workers = 0, worker_init_fn=_init_fn)\n",
    "        criterion = nn.BCELoss()\n",
    "        optimizer = torch.optim.SGD(self.parameters(), lr=lr)\n",
    "        self.train_model(train_loader, criterion, optimizer, epochs, class_weights)\n",
    "        return self\n",
    "    \n",
    "    def predict_prob(self, X):\n",
    "        with torch.no_grad():\n",
    "            return np.array(self(torch.tensor(X,dtype=torch.float32)).flatten())\n",
    "        \n",
    "    def get_predictions(self, X_test):\n",
    "        with torch.no_grad():\n",
    "            predicted = self(torch.tensor(X_test,dtype=torch.float32))\n",
    "            predictions_one_encoded = predicted.reshape(-1).detach().numpy().round()\n",
    "            return np.array(predicted).flatten(), predictions_one_encoded\n",
    "        \n",
    "    def train_model(self, train_loader, criterion, optimizer, epochs, class_weights):\n",
    "        for i in range(epochs):\n",
    "            for j,(x_train,y_train) in enumerate(train_loader):\n",
    "                #calculate output\n",
    "                output = self(x_train)\n",
    "                # set criterion weight\n",
    "                batch_class_weights = y_train.clone().detach()\n",
    "                batch_class_weights[batch_class_weights == 0] = class_weights[0]\n",
    "                batch_class_weights[batch_class_weights == 1] = class_weights[1]\n",
    "                criterion.weight = batch_class_weights.reshape(-1,1)\n",
    "                #calculate loss\n",
    "                loss = criterion(output,y_train.reshape(-1,1))\n",
    "                #backprop\n",
    "                loss.backward()\n",
    "                optimizer.step()\n",
    "                optimizer.zero_grad() \n",
    "                \n",
    "    def get_weights(self):\n",
    "        return self.state_dict()"
   ]
  },
  {
   "cell_type": "code",
   "execution_count": 15,
   "id": "01aa107b",
   "metadata": {},
   "outputs": [],
   "source": [
    "class dataset(Dataset):\n",
    "    def __init__(self,x,y):\n",
    "        self.x = torch.tensor(x,dtype=torch.float32)\n",
    "        self.y = torch.tensor(y,dtype=torch.float32)\n",
    "        self.length = self.x.shape[0]\n",
    "    def __getitem__(self,idx):\n",
    "        return self.x[idx],self.y[idx]\n",
    "    def __len__(self):\n",
    "        return self.length   "
   ]
  },
  {
   "cell_type": "code",
   "execution_count": 16,
   "id": "89d27c78",
   "metadata": {},
   "outputs": [],
   "source": [
    "def evaluate_model_optim(model, y_test, X_test, print_dist=False):\n",
    "    y_test = y_test.values\n",
    "    probs, predictions = model.get_predictions(X_test.values)\n",
    "    y_pred_coded = predictions\n",
    "    probs = probs.flatten()\n",
    "    if print_dist == True:\n",
    "        print(\"Distribution of Test Predictions\")\n",
    "        pred_class_distribution(y_test, y_pred_coded)\n",
    "        print(\"###########\")\n",
    "    metric=[]\n",
    "    metric.append(['accuracy',np.round(accuracy_score(y_test,y_pred_coded), 3)])\n",
    "    roc_score = np.round(roc_auc_score(y_test, probs), 3)\n",
    "    metric.append(['roc',np.round(roc_score, 3)])\n",
    "    metric.append(['precision',np.round(precision_score(y_test,y_pred_coded), 3)])\n",
    "    metric.append(['recall',np.round(recall_score(y_test,y_pred_coded), 3)])\n",
    "    return metric\n",
    "\n",
    "def pred_class_distribution(y_test, y_pred_coded):\n",
    "    zero_wrong, zero_right, one_wrong, one_right = [0] * 4\n",
    "    for i in range(0, len(y_pred_coded)):\n",
    "        if y_test[i] == 0:\n",
    "            if y_pred_coded[i] == 0:\n",
    "                zero_right += 1\n",
    "            else:\n",
    "                zero_wrong += 1\n",
    "        if y_test[i] == 1:\n",
    "            if y_pred_coded[i] == 1:\n",
    "                one_right += 1\n",
    "            else:\n",
    "                one_wrong += 1\n",
    "    print(\"Number of 0 Class Predictions Right: \" + str(zero_right))\n",
    "    print(\"Number of 0 Class Predictions Wrong: \" + str(zero_wrong))\n",
    "    print(\"Number of 1 Class Predictions Right: \" + str(one_right))\n",
    "    print(\"Number of 1 Class Predictions Wrong: \" + str(one_wrong))"
   ]
  },
  {
   "cell_type": "code",
   "execution_count": 17,
   "id": "cd692606",
   "metadata": {},
   "outputs": [],
   "source": [
    "def display_metrics(metrics, stand_dev = None):\n",
    "    if stand_dev is None:\n",
    "        print(\"Accuracy: {}\".format(metrics[0][1]))\n",
    "        print(\"AUC: {}\".format(metrics[1][1]))\n",
    "        print(\"Precision: {}\".format(metrics[2][1]))\n",
    "        print(\"Recall: {}\".format(metrics[3][1]))\n",
    "    else:\n",
    "        s_acc = str(metrics[0][1]) + \" ± \" + str(stand_dev[0][1])\n",
    "        s_auc = str(metrics[1][1]) + \" ± \" + str(stand_dev[1][1])\n",
    "        s_prec = str(metrics[2][1]) + \" ± \" + str(stand_dev[2][1])\n",
    "        s_rec = str(metrics[3][1]) + \" ± \" + str(stand_dev[3][1])\n",
    "        print(\"Accuracy: \" + s_acc)\n",
    "        print(\"AUC: \" + s_auc)\n",
    "        print(\"Precision: \" + s_prec)\n",
    "        print(\"Recall: \" + s_rec)\n",
    "#         print(s_acc)\n",
    "#         print(s_auc)\n",
    "#         print(s_prec)\n",
    "#         print(s_rec)"
   ]
  },
  {
   "cell_type": "code",
   "execution_count": 18,
   "id": "25707a83",
   "metadata": {},
   "outputs": [],
   "source": [
    "def get_cross_validated_scores(hosps, model_name='fed'):\n",
    "    splits = 5\n",
    "    cv = sklearn.model_selection.StratifiedKFold(n_splits=splits,shuffle=True, random_state=rs)\n",
    "    \n",
    "    all_accs = []\n",
    "    all_aucs = []\n",
    "    all_precs = []\n",
    "    all_recs = []\n",
    "    all_macro_predictions = []\n",
    "    all_macro_test = []\n",
    "    \n",
    "    for split_count in range(splits):    \n",
    "        X_training_dictionary = dict.fromkeys(hosps)\n",
    "        X_testing_dictionary = dict.fromkeys(hosps)\n",
    "        y_training_dictionary = dict.fromkeys(hosps)\n",
    "        y_testing_dictionary = dict.fromkeys(hosps)\n",
    "\n",
    "        for hosp in data_dictionary:\n",
    "            data = data_dictionary[hosp]\n",
    "            features, AKI_diag = get_features_diag(data)\n",
    "            X = data[features]\n",
    "            Y = data[AKI_diag]\n",
    "            train, test = get_fold_info(split_count, cv.split(X, Y))\n",
    "            X_training_dictionary[hosp] = X.iloc[train]\n",
    "            X_testing_dictionary[hosp] = X.iloc[test]\n",
    "            y_training_dictionary[hosp] = Y.iloc[train]\n",
    "            y_testing_dictionary[hosp] = Y.iloc[test]\n",
    "        \n",
    "        input_size = len(features)\n",
    "        model = create_federated_model(X_training_dictionary, y_training_dictionary, input_size, num_epochs = 200)\n",
    "        filename = model_directory + model_name + '_CV' + str(split_count+1) + '.pckl'\n",
    "        pickle.dump(model, open(filename, 'wb'))\n",
    "        \n",
    "        accs = []\n",
    "        aucs = []\n",
    "        precs = []\n",
    "        recs = []\n",
    "        macro_predictions = []\n",
    "        macro_test = []\n",
    "        \n",
    "        for hosp in hosps:\n",
    "            probs, y_pred_coded = model.get_predictions(X_testing_dictionary[hosp].values)\n",
    "            fpr, tpr, t = sklearn.metrics.roc_curve(y_testing_dictionary[hosp].values, probs)\n",
    "            acc = accuracy_score(y_testing_dictionary[hosp].values, y_pred_coded)\n",
    "            roc_auc = sklearn.metrics.auc(fpr, tpr)\n",
    "            prec = precision_score(y_testing_dictionary[hosp].values,y_pred_coded)\n",
    "            rec = recall_score(y_testing_dictionary[hosp].values,y_pred_coded)\n",
    "            aucs.append(roc_auc), accs.append(acc), precs.append(prec), recs.append(rec)\n",
    "            macro_predictions.append(probs)\n",
    "            macro_test.append(y_testing_dictionary[hosp].values)\n",
    "\n",
    "        all_accs.append(accs), all_aucs.append(aucs), all_precs.append(precs), all_recs.append(recs)\n",
    "        all_macro_predictions.append(np.array(macro_predictions)), all_macro_test.append(np.array(macro_test))\n",
    "    \n",
    "    all_accs = np.array(all_accs)\n",
    "    all_aucs = np.array(all_aucs)\n",
    "    all_precs = np.array(all_precs)\n",
    "    all_recs = np.array(all_recs)\n",
    "    all_macro_predictions = np.array(all_macro_predictions)\n",
    "    all_macro_test = np.array(all_macro_test)\n",
    "    \n",
    "    metrics_dictionary = dict.fromkeys(hosps)\n",
    "    stds_dictionary = dict.fromkeys(hosps)\n",
    "    roc_info_dictionary = dict.fromkeys(hosps)\n",
    "    \n",
    "    for i, hosp in enumerate(hosps):\n",
    "        metric = []\n",
    "        stds = []\n",
    "        mean_acc = np.round(np.mean(all_accs[:, i]), 3)\n",
    "        mean_auc = np.round(np.mean(all_aucs[:, i]), 3)\n",
    "        mean_prec = np.round(np.mean(all_precs[:, i]), 3)\n",
    "        mean_rec = np.round(np.mean(all_recs[:, i]), 3)\n",
    "        metric.append(['accuracy', mean_acc]), metric.append(['roc', mean_auc])\n",
    "        metric.append(['prec', mean_prec]), metric.append(['rec', mean_rec])\n",
    "        std_acc = np.round(np.std(all_accs[:, i]), 3)\n",
    "        std_auc = np.round(np.std(all_aucs[:, i]), 3)\n",
    "        std_prec = np.round(np.std(all_precs[:, i]), 3)\n",
    "        std_rec = np.round(np.std(all_recs[:, i]), 3)\n",
    "        stds.append(['accuracy', std_acc]), stds.append(['roc', std_auc])\n",
    "        stds.append(['prec', std_prec]), stds.append(['rec', std_rec])\n",
    "        metrics_dictionary[hosp] = metric\n",
    "        stds_dictionary[hosp] = stds\n",
    "        \n",
    "        roc_info = []\n",
    "        all_predictions = np.concatenate(all_macro_predictions[:, i])\n",
    "        all_test = np.concatenate(all_macro_test[:, i])\n",
    "        fpr, tpr, t = sklearn.metrics.roc_curve(all_test, all_predictions)\n",
    "        roc_info = [fpr, tpr, t]\n",
    "        roc_info_dictionary[hosp] = roc_info\n",
    "    \n",
    "    return metrics_dictionary, stds_dictionary, roc_info_dictionary\n",
    "\n",
    "\n",
    "def get_fold_info(split_count, gen):\n",
    "    j = 0\n",
    "    for train, test in gen:\n",
    "        train = train\n",
    "        test = test\n",
    "        if split_count == j:\n",
    "            break\n",
    "        j += 1\n",
    "    return train, test"
   ]
  },
  {
   "cell_type": "markdown",
   "id": "da047186",
   "metadata": {},
   "source": [
    "#### Main Federated Script"
   ]
  },
  {
   "cell_type": "code",
   "execution_count": 19,
   "id": "b9ae9861",
   "metadata": {},
   "outputs": [],
   "source": [
    "def create_federated_model(X_training_dictionary, y_training_dictionary, input_size, num_epochs = 200):\n",
    "    device = 'cpu'\n",
    "    # Set the model to train and send it to device.\n",
    "    global_model = LR(input_size)\n",
    "    global_model.to(device)\n",
    "    global_model.train()\n",
    "    # copy weights\n",
    "    global_weights = global_model.state_dict()\n",
    "    for epoch in tqdm(range(num_epochs)):\n",
    "        local_weights = []\n",
    "        global_model.train()\n",
    "        for hosp in hosps:\n",
    "            local_model = copy.deepcopy(global_model)\n",
    "            X_train = X_training_dictionary[hosp]\n",
    "            y_train = y_training_dictionary[hosp]\n",
    "            local_model = local_model.fit(X_train, y_train, epochs=1, lr=0.01)\n",
    "            w = local_model.get_weights()\n",
    "            local_weights.append(copy.deepcopy(w))\n",
    "        # update global weights\n",
    "        global_weights = average_weights(local_weights)\n",
    "        # update global weights\n",
    "        global_model.load_state_dict(global_weights)\n",
    "    return global_model"
   ]
  },
  {
   "cell_type": "code",
   "execution_count": 20,
   "id": "99f04c26",
   "metadata": {},
   "outputs": [],
   "source": [
    "def average_weights(w):\n",
    "    w_avg = copy.deepcopy(w[0])\n",
    "    for key in w_avg.keys():\n",
    "        for i in range(1, len(w)):\n",
    "            w_avg[key] += w[i][key]\n",
    "        w_avg[key] = torch.div(w_avg[key], len(w))\n",
    "    return w_avg"
   ]
  },
  {
   "cell_type": "markdown",
   "id": "f0cb477b",
   "metadata": {},
   "source": [
    "#### Cross Validated Federated Model"
   ]
  },
  {
   "cell_type": "code",
   "execution_count": null,
   "id": "af7f2682",
   "metadata": {},
   "outputs": [],
   "source": [
    "metrics_dictionary, stds_dictionary, roc_info_dictionary = get_cross_validated_scores(hosps, model_name='fed')"
   ]
  },
  {
   "cell_type": "code",
   "execution_count": null,
   "id": "35930161",
   "metadata": {
    "scrolled": true
   },
   "outputs": [],
   "source": [
    "for hosp in hosps:\n",
    "    print(\"Performance of Hosp {}:\".format(hosp))\n",
    "    display_metrics(metrics_dictionary[hosp], stand_dev = stds_dictionary[hosp])\n",
    "    print(\"\\n\")"
   ]
  },
  {
   "cell_type": "code",
   "execution_count": null,
   "id": "54d85b8a",
   "metadata": {},
   "outputs": [],
   "source": [
    "filename = model_directory + 'FedLocalModelPerformances.pckl'\n",
    "pickle.dump([metrics_dictionary, stds_dictionary, roc_info_dictionary], open(filename, 'wb'))"
   ]
  },
  {
   "cell_type": "markdown",
   "id": "b0b3cc1c",
   "metadata": {},
   "source": [
    "#### Federated Model Trained on All Training Data"
   ]
  },
  {
   "cell_type": "code",
   "execution_count": null,
   "id": "eae5dc21",
   "metadata": {
    "scrolled": true
   },
   "outputs": [],
   "source": [
    "X_training_dictionary = dict.fromkeys(hosps)\n",
    "X_testing_dictionary = dict.fromkeys(hosps)\n",
    "y_training_dictionary = dict.fromkeys(hosps)\n",
    "y_testing_dictionary = dict.fromkeys(hosps)\n",
    "\n",
    "for hosp in data_dictionary:\n",
    "    data = data_dictionary[hosp]\n",
    "    features, AKI_diag = get_features_diag(data)\n",
    "    X = data[features]\n",
    "    Y = data[AKI_diag]\n",
    "    X_train, X_test, y_train, y_test = train_test_split(X, Y, test_size=0.20, random_state=rs)\n",
    "    X_training_dictionary[hosp] = X_train\n",
    "    X_testing_dictionary[hosp] = X_test\n",
    "    y_training_dictionary[hosp] = y_train\n",
    "    y_testing_dictionary[hosp] = y_test\n",
    "\n",
    "global_model = create_federated_model(X_training_dictionary, y_training_dictionary, len(features), num_epochs = 200)\n",
    "\n",
    "filename = model_directory + 'fed' + '_full.pckl'\n",
    "pickle.dump(global_model, open(filename, 'wb'))\n",
    "\n",
    "full_metrics_dictionary = dict.fromkeys(hosps + ['Agg'])\n",
    "\n",
    "all_X_tests = []\n",
    "all_y_tests = []\n",
    "\n",
    "for hosp in hosps:\n",
    "    X_test = X_testing_dictionary[hosp]\n",
    "    y_test = y_testing_dictionary[hosp]\n",
    "    all_X_tests.append(X_test)\n",
    "    all_y_tests.append(y_test)\n",
    "    metric = evaluate_model_optim(global_model, y_test, X_test, print_dist=True)\n",
    "    full_metrics_dictionary[hosp] = metric\n",
    "    \n",
    "agg_X_test = pd.concat(all_X_tests)\n",
    "agg_y_test = pd.concat(all_y_tests)\n",
    "\n",
    "metric = evaluate_model_optim(global_model, agg_y_test, agg_X_test, print_dist=False)\n",
    "full_metrics_dictionary['Agg'] = metric"
   ]
  },
  {
   "cell_type": "code",
   "execution_count": null,
   "id": "21f6579a",
   "metadata": {
    "scrolled": true
   },
   "outputs": [],
   "source": [
    "# Print Performances\n",
    "comb_hosps = hosps + ['Agg']\n",
    "for hosp in comb_hosps:\n",
    "    print(\"Performance of Hosp {}:\".format(hosp))\n",
    "    display_metrics(full_metrics_dictionary[hosp])\n",
    "    print(\"\\n\")"
   ]
  },
  {
   "cell_type": "markdown",
   "id": "11eb1548",
   "metadata": {},
   "source": [
    "### Model Feature Importances"
   ]
  },
  {
   "cell_type": "code",
   "execution_count": 21,
   "id": "729a8bcf",
   "metadata": {},
   "outputs": [],
   "source": [
    "def load_cv_models(hosp):\n",
    "    model_name = 'fed'\n",
    "    cv_models = []\n",
    "    for i in range(0, 5):\n",
    "        fold = i + 1\n",
    "        filename = model_directory + model_name + '_CV' + str(fold) + \".pckl\"\n",
    "        model = pickle.load(open(filename, 'rb'))\n",
    "        cv_models.append(model)\n",
    "    return cv_models"
   ]
  },
  {
   "cell_type": "markdown",
   "id": "f7e728e9",
   "metadata": {},
   "source": [
    "### SHAP"
   ]
  },
  {
   "cell_type": "code",
   "execution_count": 22,
   "id": "b7479dbd",
   "metadata": {},
   "outputs": [],
   "source": [
    "calculate_shap_importances = 1\n",
    "import caffeine\n",
    "caffeine.on(display=False)"
   ]
  },
  {
   "cell_type": "code",
   "execution_count": 23,
   "id": "a584bbc2",
   "metadata": {},
   "outputs": [],
   "source": [
    "def get_shap_feature_rankings(hosp):\n",
    "    cv_models = load_cv_models(hosp)\n",
    "    agg_data = pd.concat(data_dictionary.values())\n",
    "    features, AKI_diag = get_features_diag(agg_data)\n",
    "    X = agg_data[features]\n",
    "    Y = agg_data[AKI_diag]\n",
    "    df_folds = []\n",
    "    for shap_model in cv_models:\n",
    "        explainer = shap.KernelExplainer(shap_model.predict_prob, shap.sample(X, 100))\n",
    "        shap_values = explainer.shap_values(shap.sample(X, 1000)) #Reducing sample size b/c of how long it takes\n",
    "        vals = np.abs(shap_values)\n",
    "        temp = pd.DataFrame(list(zip(X.columns, sum(vals))), columns=['col_name','feature_importance_vals'])\n",
    "        temp.sort_values(by=['feature_importance_vals'], ascending=False,inplace=True)\n",
    "        temp = temp.set_index('col_name')\n",
    "        col_name = 'feature_importance_vals'\n",
    "        min_value = temp[col_name].min()\n",
    "        temp1 = temp[temp[col_name] > min_value]\n",
    "        temp2 = temp[temp[col_name] == min_value]\n",
    "        temp1[col_name] = temp1[col_name].rank(ascending=False)\n",
    "        temp2[col_name] = temp1[col_name].max() + 1\n",
    "        temp = pd.concat([temp1, temp2]).astype(int)\n",
    "        df_folds.append(temp)\n",
    "    df_final = reduce(lambda left,right: pd.merge(left,right, left_index=True, right_index=True), df_folds)\n",
    "    imp_features = mc4_aggregator(df_final, header_row = 0, index_col = 0) \n",
    "    imp_features = dict(sorted(imp_features.items(), key=lambda item: item[1]))\n",
    "    a = np.array(list(imp_features.items()))[:, 0]\n",
    "    return a"
   ]
  },
  {
   "cell_type": "markdown",
   "id": "d56c92cc",
   "metadata": {},
   "source": [
    "#### Federated Model"
   ]
  },
  {
   "cell_type": "code",
   "execution_count": 24,
   "id": "1945bd00",
   "metadata": {},
   "outputs": [
    {
     "name": "stderr",
     "output_type": "stream",
     "text": [
      "100%|█████████████████████████████████████████| 200/200 [00:27<00:00,  7.40it/s]\n"
     ]
    },
    {
     "data": {
      "application/vnd.jupyter.widget-view+json": {
       "model_id": "1cc2a723a3b1473ca087ae4a5de9454e",
       "version_major": 2,
       "version_minor": 0
      },
      "text/plain": [
       "  0%|          | 0/1000 [00:00<?, ?it/s]"
      ]
     },
     "metadata": {},
     "output_type": "display_data"
    }
   ],
   "source": [
    "if calculate_shap_importances:\n",
    "    agg_data = pd.concat(data_dictionary.values())\n",
    "    features, AKI_diag = get_features_diag(agg_data)\n",
    "    \n",
    "    # Creating training set from all hosp data for shap federated model\n",
    "    X_training_shap_dictionary = dict.fromkeys(hosps)\n",
    "    y_training_shap_dictionary = dict.fromkeys(hosps)\n",
    "    for hosp in data_dictionary:\n",
    "        data = data_dictionary[hosp]\n",
    "        features, AKI_diag = get_features_diag(data)\n",
    "        X = data[features]\n",
    "        Y = data[AKI_diag]\n",
    "        X_training_shap_dictionary[hosp] = X\n",
    "        y_training_shap_dictionary[hosp] = Y\n",
    "    \n",
    "    X = agg_data[features]\n",
    "    Y = agg_data[AKI_diag]\n",
    "    \n",
    "    shap_model = create_federated_model(X_training_shap_dictionary, y_training_shap_dictionary, len(features), num_epochs = 200)\n",
    "    explainer = shap.KernelExplainer(shap_model.predict_prob, shap.sample(X, 100))\n",
    "    shap_values = explainer.shap_values(shap.sample(X, 1000))\n",
    "\n",
    "    vals = np.abs(shap_values)\n",
    "    feature_importance = pd.DataFrame(list(zip(X.columns, sum(vals))), columns=['col_name','feature_importance_vals'])\n",
    "    feature_importance.sort_values(by=['feature_importance_vals'], ascending=False,inplace=True)"
   ]
  },
  {
   "cell_type": "code",
   "execution_count": 25,
   "id": "49233cda",
   "metadata": {},
   "outputs": [
    {
     "data": {
      "image/png": "[encoded data removed]",
      "text/plain": [
       "<Figure size 720x720 with 10 Axes>"
      ]
     },
     "metadata": {
      "needs_background": "light"
     },
     "output_type": "display_data"
    }
   ],
   "source": [
    "if calculate_shap_importances:\n",
    "    num_rows = 5\n",
    "    num_cols = 2\n",
    "    df_temp = pd.read_csv(\"AKI Code/Feature Importances/Federated Pytorch LR_\" + prediction_window + \"_SHAPImportantFeatures.csv\")\n",
    "    top_features = (df_temp['fed'].values)[0:10]\n",
    "    fig, axes = plt.subplots(nrows=num_rows, ncols=num_cols, figsize=(10,10))\n",
    "    for i, feature in enumerate(top_features):\n",
    "        idx = np.where(X.columns==feature)[0][0]\n",
    "        unscaled_agg_data = pd.concat(temp_data_dictionary.values())\n",
    "        unscaled_X = unscaled_agg_data[features]\n",
    "        x = shap.sample(unscaled_X, 1000).iloc[:,idx]\n",
    "        y_sv = shap_values[:,idx]\n",
    "        lowess = sm.nonparametric.lowess(y_sv, x, frac=.3)\n",
    "        ax = axes[divmod(i, num_cols)]\n",
    "        ax.hlines(y=0, xmin=np.min(x), xmax=np.max(x), linestyles='dashed', color='black')\n",
    "        ax.plot(*list(zip(*lowess)), color=\"red\", )\n",
    "        shap.dependence_plot(feature, shap_values, shap.sample(unscaled_X, 1000), ax=ax, show=False,\n",
    "                             interaction_index=None)\n",
    "        ax.set(ylabel=None)\n",
    "    fig.tight_layout()"
   ]
  },
  {
   "cell_type": "code",
   "execution_count": null,
   "id": "a2b98beb",
   "metadata": {},
   "outputs": [],
   "source": [
    "# if calculate_shap_importances:\n",
    "#     temp_df = feature_importance.set_index('col_name')\n",
    "#     temp_df = temp_df.rename(columns={\"feature_importance_vals\": \"Agg\"})\n",
    "#     temp_df.to_csv(\"AKI Code/Feature Importances/Federated Pytorch LR_\" + prediction_window + \"_SHAPFeatureImportanceScores.csv\")"
   ]
  },
  {
   "cell_type": "code",
   "execution_count": null,
   "id": "811eba9a",
   "metadata": {
    "scrolled": true
   },
   "outputs": [],
   "source": [
    "if calculate_shap_importances:\n",
    "    top_features = get_shap_feature_rankings('fed')\n",
    "    shap_top_df = pd.DataFrame(data={'fed':top_features})\n",
    "    shap_top_df.to_csv(\"AKI Code/Feature Importances/Federated Pytorch LR_\" + prediction_window + \"_SHAPImportantFeatures.csv\")"
   ]
  },
  {
   "cell_type": "code",
   "execution_count": null,
   "id": "ca6ffb04",
   "metadata": {},
   "outputs": [],
   "source": [
    "caffeine.off()"
   ]
  }
 ],
 "metadata": {
  "kernelspec": {
   "display_name": "Python 3 (ipykernel)",
   "language": "python",
   "name": "python3"
  },
  "language_info": {
   "codemirror_mode": {
    "name": "ipython",
    "version": 3
   },
   "file_extension": ".py",
   "mimetype": "text/x-python",
   "name": "python",
   "nbconvert_exporter": "python",
   "pygments_lexer": "ipython3",
   "version": "3.8.12"
  }
 },
 "nbformat": 4,
 "nbformat_minor": 5
}
