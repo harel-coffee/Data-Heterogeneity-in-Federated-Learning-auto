{
 "cells": [
  {
   "cell_type": "code",
   "execution_count": 1,
   "id": "1a801f51",
   "metadata": {},
   "outputs": [],
   "source": [
    "import numpy as np\n",
    "import pandas as pd\n",
    "import os\n",
    "import pprint\n",
    "import sklearn\n",
    "from sklearn import preprocessing\n",
    "from sklearn.decomposition import PCA\n",
    "import warnings\n",
    "import matplotlib\n",
    "from os import listdir\n",
    "import seaborn as sns\n",
    "import scipy\n",
    "import sys\n",
    "\n",
    "import sklearn.neighbors._base\n",
    "sys.modules['sklearn.neighbors.base'] = sklearn.neighbors._base\n",
    "\n",
    "import warnings\n",
    "warnings.filterwarnings(\"ignore\")\n",
    "\n",
    "import shap\n",
    "import matplotlib.pyplot as plt"
   ]
  },
  {
   "cell_type": "code",
   "execution_count": 2,
   "id": "dea0b3cf",
   "metadata": {},
   "outputs": [],
   "source": [
    "rs = 42"
   ]
  },
  {
   "cell_type": "code",
   "execution_count": 3,
   "id": "9e70961d",
   "metadata": {},
   "outputs": [],
   "source": [
    "do_shap_scores = 0\n",
    "do_soft_rankings = 1"
   ]
  },
  {
   "cell_type": "code",
   "execution_count": 4,
   "id": "81e529f3",
   "metadata": {},
   "outputs": [],
   "source": [
    "os.chdir('..')"
   ]
  },
  {
   "cell_type": "code",
   "execution_count": 5,
   "id": "de82c6a5",
   "metadata": {},
   "outputs": [],
   "source": [
    "prediction_window = \"24h\""
   ]
  },
  {
   "cell_type": "code",
   "execution_count": 6,
   "id": "e4d08194",
   "metadata": {},
   "outputs": [],
   "source": [
    "data_directory = 'AKI Data/eicu_aki/new data/'\n",
    "prediction_directory = 'observation' + prediction_window + '_prediction24h/'"
   ]
  },
  {
   "cell_type": "code",
   "execution_count": 7,
   "id": "d625f748",
   "metadata": {},
   "outputs": [],
   "source": [
    "def find_csv_filenames( path_to_dir, suffix=\".csv\" ):\n",
    "    filenames = listdir(path_to_dir)\n",
    "    return [ filename for filename in filenames if filename.endswith( suffix ) ]"
   ]
  },
  {
   "cell_type": "code",
   "execution_count": 8,
   "id": "3e0b34f3",
   "metadata": {},
   "outputs": [],
   "source": [
    "data_files = find_csv_filenames(data_directory+prediction_directory)\n",
    "hosps = [x.replace('.csv', '') for x in data_files]"
   ]
  },
  {
   "cell_type": "markdown",
   "id": "f463df0b",
   "metadata": {},
   "source": [
    "#### Loading in Files for First Architecture"
   ]
  },
  {
   "cell_type": "code",
   "execution_count": 9,
   "id": "337b2a8c",
   "metadata": {},
   "outputs": [],
   "source": [
    "model_type = 'Pytorch MLP'"
   ]
  },
  {
   "cell_type": "code",
   "execution_count": 10,
   "id": "386b7a9c",
   "metadata": {},
   "outputs": [],
   "source": [
    "df_top_features = pd.read_csv(f\"AKI Code/Feature Importances/{model_type}_\" + prediction_window + \"_SHAPImportantFeatures.csv\")\n",
    "df_top_features = df_top_features.loc[:, ~df_top_features.columns.str.contains('^Unnamed')]\n",
    "df_top_features = df_top_features.iloc[0:100]"
   ]
  },
  {
   "cell_type": "code",
   "execution_count": 11,
   "id": "fcac1bdf",
   "metadata": {},
   "outputs": [],
   "source": [
    "# Getting list of features and shape for eventual score dataframe\n",
    "file = str(420) + '.csv'\n",
    "data = pd.read_csv(data_directory + prediction_directory + \"cleaned/\" + file)\n",
    "data = data.loc[:, ~data.columns.str.contains('^Unnamed')]\n",
    "feats_index = list(data)\n",
    "feats_index.remove('AKI_label')\n",
    "# 7 hospitals, 1 aggregate\n",
    "feats_score_shape = (len(feats_index), (7+1))"
   ]
  },
  {
   "cell_type": "code",
   "execution_count": 12,
   "id": "963076ca",
   "metadata": {},
   "outputs": [],
   "source": [
    "if do_soft_rankings:\n",
    "    init_data = np.zeros(feats_score_shape)\n",
    "    df_soft_rankings = pd.DataFrame(data = init_data, columns=list(df_top_features), index=feats_index)\n",
    "\n",
    "    s = df_top_features.shape[0] \n",
    "    features = np.unique(df_top_features.values)\n",
    "    for feature in features:\n",
    "        loc = np.where(df_top_features.values == feature)\n",
    "        rows = loc[0]\n",
    "        cols = loc[1]\n",
    "        feature_index = df_soft_rankings.index.get_loc(feature)\n",
    "        for i in range(0, len(cols)):\n",
    "            df_soft_rankings.iloc[feature_index, cols[i]] = np.exp((-1 * (rows[i] + 1))/s)\n",
    "    df_feat_scores = df_soft_rankings"
   ]
  },
  {
   "cell_type": "markdown",
   "id": "a816b372",
   "metadata": {},
   "source": [
    "#### Local Feature Importances for First Architecture"
   ]
  },
  {
   "cell_type": "code",
   "execution_count": 13,
   "id": "ab1eb49c",
   "metadata": {},
   "outputs": [],
   "source": [
    "df_top_features_local_first = df_top_features.drop(columns=['Agg'])\n",
    "df_feat_scores_local_first = df_feat_scores.drop(columns=['Agg'])\n",
    "\n",
    "features, counts = np.unique(df_top_features_local_first.values, return_counts=True)\n",
    "props = counts/7\n",
    "feature_site_props_first = {features[i]: props[i] for i in range(len(features))}\n",
    "\n",
    "feature_col_dict_first = dict.fromkeys(features)\n",
    "for feature in feature_col_dict_first:\n",
    "    loc = np.where(df_top_features_local_first.values == feature)\n",
    "    cols = loc[1]\n",
    "    feature_col_dict_first[feature] = cols\n",
    "\n",
    "feature_score_dict_first = dict.fromkeys(features)\n",
    "for feature in feature_score_dict_first:\n",
    "    idx = feature_col_dict_first[feature]\n",
    "    feature_score_dict_first[feature] = df_feat_scores_local_first.iloc[:, idx].loc[feature].values\n",
    "\n",
    "feature_median_dict_first = dict.fromkeys(features)\n",
    "for feature in feature_median_dict_first:\n",
    "    feature_median_dict_first[feature] = np.median(feature_score_dict_first[feature])\n",
    "values_first = feature_median_dict_first.values()"
   ]
  },
  {
   "cell_type": "markdown",
   "id": "80e900b5",
   "metadata": {},
   "source": [
    "#### Aggregate Feature Importances for First Architecture"
   ]
  },
  {
   "cell_type": "code",
   "execution_count": 14,
   "id": "b005cb29",
   "metadata": {},
   "outputs": [],
   "source": [
    "df_top_features_agg_first = df_top_features['Agg']\n",
    "df_feat_scores_agg_first = df_feat_scores['Agg']\n",
    "\n",
    "agg_feature_score_dict_first = dict.fromkeys(df_top_features_agg_first.values)\n",
    "for feature in agg_feature_score_dict_first:\n",
    "    agg_feature_score_dict_first[feature] = df_feat_scores_agg_first.loc[feature]"
   ]
  },
  {
   "cell_type": "markdown",
   "id": "150d6ed0",
   "metadata": {},
   "source": [
    "#### Federated Feature Importances for First Architecture"
   ]
  },
  {
   "cell_type": "code",
   "execution_count": 15,
   "id": "318536aa",
   "metadata": {},
   "outputs": [],
   "source": [
    "df_top_fed_features = pd.read_csv(f\"AKI Code/Feature Importances/Federated {model_type}_\" + prediction_window + \"_SHAPImportantFeatures.csv\")\n",
    "df_top_fed_features = df_top_fed_features.loc[:, ~df_top_fed_features.columns.str.contains('^Unnamed')]\n",
    "df_top_fed_features_first = df_top_fed_features.iloc[0:100]"
   ]
  },
  {
   "cell_type": "code",
   "execution_count": 16,
   "id": "9ca52048",
   "metadata": {},
   "outputs": [],
   "source": [
    "if do_soft_rankings:\n",
    "    init_data = np.zeros((len(feats_index), 1))\n",
    "    df_soft_rankings = pd.DataFrame(data = init_data, columns=list(df_top_fed_features_first), index=feats_index)\n",
    "\n",
    "    s = df_top_fed_features_first.shape[0] \n",
    "    features = np.unique(df_top_fed_features_first.values)\n",
    "    for feature in features:\n",
    "        loc = np.where(df_top_fed_features_first.values == feature)\n",
    "        rows = loc[0]\n",
    "        cols = loc[1]\n",
    "        feature_index = df_soft_rankings.index.get_loc(feature)\n",
    "        for i in range(0, len(cols)):\n",
    "            df_soft_rankings.iloc[feature_index, cols[i]] = np.exp((-1 * (rows[i] + 1))/s)\n",
    "    df_fed_feat_scores_first = df_soft_rankings"
   ]
  },
  {
   "cell_type": "code",
   "execution_count": 17,
   "id": "f7bdbcda",
   "metadata": {},
   "outputs": [],
   "source": [
    "df_all_scores_first = pd.merge(df_feat_scores, df_fed_feat_scores_first, left_index=True, right_index=True)"
   ]
  },
  {
   "cell_type": "code",
   "execution_count": 18,
   "id": "d27da715",
   "metadata": {},
   "outputs": [],
   "source": [
    "df_top_features_fed_first = df_top_fed_features_first['fed']\n",
    "df_feat_scores_fed_first = df_all_scores_first['fed']"
   ]
  },
  {
   "cell_type": "code",
   "execution_count": 19,
   "id": "7fba562c",
   "metadata": {},
   "outputs": [],
   "source": [
    "fed_feature_score_dict_first = dict.fromkeys(df_top_features_fed_first.values)\n",
    "for feature in fed_feature_score_dict_first:\n",
    "    fed_feature_score_dict_first[feature] = df_feat_scores_fed_first.loc[feature]"
   ]
  },
  {
   "cell_type": "markdown",
   "id": "9409ec50",
   "metadata": {},
   "source": [
    "#### Loading in Files for Second Architecture"
   ]
  },
  {
   "cell_type": "code",
   "execution_count": 20,
   "id": "6c564591",
   "metadata": {},
   "outputs": [],
   "source": [
    "model_type = 'XGBoost'"
   ]
  },
  {
   "cell_type": "code",
   "execution_count": 21,
   "id": "f1da9cf3",
   "metadata": {},
   "outputs": [],
   "source": [
    "df_top_features = pd.read_csv(f\"AKI Code/Feature Importances/{model_type}_\" + prediction_window + \"_SHAPImportantFeatures.csv\")\n",
    "df_top_features = df_top_features.loc[:, ~df_top_features.columns.str.contains('^Unnamed')]\n",
    "df_top_features = df_top_features.iloc[0:100]"
   ]
  },
  {
   "cell_type": "code",
   "execution_count": 22,
   "id": "ceca32af",
   "metadata": {},
   "outputs": [],
   "source": [
    "if do_soft_rankings:\n",
    "    init_data = np.zeros(feats_score_shape)\n",
    "    df_soft_rankings = pd.DataFrame(data = init_data, columns=list(df_top_features), index=feats_index)\n",
    "\n",
    "    s = df_top_features.shape[0] \n",
    "    features = np.unique(df_top_features.values)\n",
    "    for feature in features:\n",
    "        loc = np.where(df_top_features.values == feature)\n",
    "        rows = loc[0]\n",
    "        cols = loc[1]\n",
    "        feature_index = df_soft_rankings.index.get_loc(feature)\n",
    "        for i in range(0, len(cols)):\n",
    "            df_soft_rankings.iloc[feature_index, cols[i]] = np.exp((-1 * (rows[i] + 1))/s)\n",
    "    df_feat_scores = df_soft_rankings"
   ]
  },
  {
   "cell_type": "markdown",
   "id": "2c128ed1",
   "metadata": {},
   "source": [
    "#### Local Feature Importances for Second Architecture"
   ]
  },
  {
   "cell_type": "code",
   "execution_count": 23,
   "id": "8c7fd2cb",
   "metadata": {},
   "outputs": [],
   "source": [
    "df_top_features_local_sec = df_top_features.drop(columns=['Agg'])\n",
    "df_feat_scores_local_sec = df_feat_scores.drop(columns=['Agg'])\n",
    "\n",
    "features, counts = np.unique(df_top_features_local_sec.values, return_counts=True)\n",
    "props = counts/7\n",
    "feature_site_props_sec = {features[i]: props[i] for i in range(len(features))}\n",
    "\n",
    "feature_col_dict_sec = dict.fromkeys(features)\n",
    "for feature in feature_col_dict_sec:\n",
    "    loc = np.where(df_top_features_local_sec.values == feature)\n",
    "    cols = loc[1]\n",
    "    feature_col_dict_sec[feature] = cols\n",
    "\n",
    "feature_score_dict_sec = dict.fromkeys(features)\n",
    "for feature in feature_score_dict_sec:\n",
    "    idx = feature_col_dict_sec[feature]\n",
    "    feature_score_dict_sec[feature] = df_feat_scores_local_sec.iloc[:, idx].loc[feature].values\n",
    "\n",
    "feature_median_dict_sec = dict.fromkeys(features)\n",
    "for feature in feature_median_dict_sec:\n",
    "    feature_median_dict_sec[feature] = np.median(feature_score_dict_sec[feature])\n",
    "values_sec = feature_median_dict_sec.values()"
   ]
  },
  {
   "cell_type": "markdown",
   "id": "0ef9e50c",
   "metadata": {},
   "source": [
    "#### Aggregate Feature Importances for Second Architecture"
   ]
  },
  {
   "cell_type": "code",
   "execution_count": 24,
   "id": "3ff7c270",
   "metadata": {},
   "outputs": [],
   "source": [
    "df_top_features_agg_sec = df_top_features['Agg']\n",
    "df_feat_scores_agg_sec = df_feat_scores['Agg']"
   ]
  },
  {
   "cell_type": "code",
   "execution_count": 25,
   "id": "50d2c682",
   "metadata": {},
   "outputs": [],
   "source": [
    "agg_feature_score_dict_sec = dict.fromkeys(df_top_features_agg_sec.values)\n",
    "for feature in agg_feature_score_dict_sec:\n",
    "    agg_feature_score_dict_sec[feature] = df_feat_scores_agg_sec.loc[feature]"
   ]
  },
  {
   "cell_type": "markdown",
   "id": "7c006178",
   "metadata": {},
   "source": [
    "#### Federated Feature Importances for Second Architecture"
   ]
  },
  {
   "cell_type": "code",
   "execution_count": 26,
   "id": "ff3dfc6f",
   "metadata": {},
   "outputs": [],
   "source": [
    "df_top_fed_features = pd.read_csv(f\"AKI Code/Feature Importances/Federated {model_type}_\" + prediction_window + \"_SHAPImportantFeatures.csv\")\n",
    "df_top_fed_features = df_top_fed_features.loc[:, ~df_top_fed_features.columns.str.contains('^Unnamed')]\n",
    "df_top_fed_features_sec = df_top_fed_features.iloc[0:100]"
   ]
  },
  {
   "cell_type": "code",
   "execution_count": 27,
   "id": "3a01d66c",
   "metadata": {},
   "outputs": [],
   "source": [
    "if do_soft_rankings:\n",
    "    init_data = np.zeros((len(feats_index), 1))\n",
    "    df_soft_rankings = pd.DataFrame(data = init_data, columns=list(df_top_fed_features_sec), index=feats_index)\n",
    "\n",
    "    s = df_top_fed_features_sec.shape[0] \n",
    "    features = np.unique(df_top_fed_features_sec.values)\n",
    "    for feature in features:\n",
    "        loc = np.where(df_top_fed_features_sec.values == feature)\n",
    "        rows = loc[0]\n",
    "        cols = loc[1]\n",
    "        feature_index = df_soft_rankings.index.get_loc(feature)\n",
    "        for i in range(0, len(cols)):\n",
    "            df_soft_rankings.iloc[feature_index, cols[i]] = np.exp((-1 * (rows[i] + 1))/s)\n",
    "    df_fed_feat_scores_sec = df_soft_rankings"
   ]
  },
  {
   "cell_type": "code",
   "execution_count": 28,
   "id": "dc738848",
   "metadata": {},
   "outputs": [],
   "source": [
    "df_all_scores_sec = pd.merge(df_feat_scores, df_fed_feat_scores_sec, left_index=True, right_index=True)"
   ]
  },
  {
   "cell_type": "code",
   "execution_count": 29,
   "id": "62dfecbb",
   "metadata": {},
   "outputs": [],
   "source": [
    "df_top_features_fed_sec = df_top_fed_features_sec['fed']\n",
    "df_feat_scores_fed_sec = df_all_scores_sec['fed']"
   ]
  },
  {
   "cell_type": "code",
   "execution_count": 30,
   "id": "89d7b4c6",
   "metadata": {},
   "outputs": [],
   "source": [
    "fed_feature_score_dict_sec = dict.fromkeys(df_top_features_fed_sec.values)\n",
    "for feature in fed_feature_score_dict_sec:\n",
    "    fed_feature_score_dict_sec[feature] = df_feat_scores_fed_sec.loc[feature]"
   ]
  },
  {
   "cell_type": "code",
   "execution_count": 31,
   "id": "44dc9f29",
   "metadata": {},
   "outputs": [
    {
     "data": {
      "text/html": [
       "<div>\n",
       "<style scoped>\n",
       "    .dataframe tbody tr th:only-of-type {\n",
       "        vertical-align: middle;\n",
       "    }\n",
       "\n",
       "    .dataframe tbody tr th {\n",
       "        vertical-align: top;\n",
       "    }\n",
       "\n",
       "    .dataframe thead th {\n",
       "        text-align: right;\n",
       "    }\n",
       "</style>\n",
       "<table border=\"1\" class=\"dataframe\">\n",
       "  <thead>\n",
       "    <tr style=\"text-align: right;\">\n",
       "      <th></th>\n",
       "      <th>420</th>\n",
       "      <th>122</th>\n",
       "      <th>243</th>\n",
       "      <th>252</th>\n",
       "      <th>458</th>\n",
       "      <th>199</th>\n",
       "      <th>73</th>\n",
       "      <th>Agg</th>\n",
       "      <th>fed</th>\n",
       "    </tr>\n",
       "  </thead>\n",
       "  <tbody>\n",
       "    <tr>\n",
       "      <th>heartrate_first</th>\n",
       "      <td>0.810584</td>\n",
       "      <td>0.631284</td>\n",
       "      <td>0.755784</td>\n",
       "      <td>0.726149</td>\n",
       "      <td>0.802519</td>\n",
       "      <td>0.860708</td>\n",
       "      <td>0.733447</td>\n",
       "      <td>0.571209</td>\n",
       "      <td>0.000000</td>\n",
       "    </tr>\n",
       "    <tr>\n",
       "      <th>sysbp_first</th>\n",
       "      <td>0.537944</td>\n",
       "      <td>0.496585</td>\n",
       "      <td>0.663650</td>\n",
       "      <td>0.878095</td>\n",
       "      <td>0.810584</td>\n",
       "      <td>0.472367</td>\n",
       "      <td>0.904837</td>\n",
       "      <td>0.711770</td>\n",
       "      <td>0.588605</td>\n",
       "    </tr>\n",
       "    <tr>\n",
       "      <th>diasbp_first</th>\n",
       "      <td>0.771052</td>\n",
       "      <td>0.690734</td>\n",
       "      <td>0.771052</td>\n",
       "      <td>0.771052</td>\n",
       "      <td>0.644036</td>\n",
       "      <td>0.565525</td>\n",
       "      <td>0.913931</td>\n",
       "      <td>0.637628</td>\n",
       "      <td>0.000000</td>\n",
       "    </tr>\n",
       "    <tr>\n",
       "      <th>meanbp_first</th>\n",
       "      <td>0.852144</td>\n",
       "      <td>0.000000</td>\n",
       "      <td>0.548812</td>\n",
       "      <td>0.733447</td>\n",
       "      <td>0.726149</td>\n",
       "      <td>0.913931</td>\n",
       "      <td>0.554327</td>\n",
       "      <td>0.895834</td>\n",
       "      <td>0.852144</td>\n",
       "    </tr>\n",
       "    <tr>\n",
       "      <th>resprate_first</th>\n",
       "      <td>0.748264</td>\n",
       "      <td>0.427415</td>\n",
       "      <td>0.826959</td>\n",
       "      <td>0.690734</td>\n",
       "      <td>0.704688</td>\n",
       "      <td>0.631284</td>\n",
       "      <td>0.571209</td>\n",
       "      <td>0.394554</td>\n",
       "      <td>0.000000</td>\n",
       "    </tr>\n",
       "    <tr>\n",
       "      <th>...</th>\n",
       "      <td>...</td>\n",
       "      <td>...</td>\n",
       "      <td>...</td>\n",
       "      <td>...</td>\n",
       "      <td>...</td>\n",
       "      <td>...</td>\n",
       "      <td>...</td>\n",
       "      <td>...</td>\n",
       "      <td>...</td>\n",
       "    </tr>\n",
       "    <tr>\n",
       "      <th>XANAX</th>\n",
       "      <td>0.000000</td>\n",
       "      <td>0.000000</td>\n",
       "      <td>0.000000</td>\n",
       "      <td>0.000000</td>\n",
       "      <td>0.000000</td>\n",
       "      <td>0.000000</td>\n",
       "      <td>0.000000</td>\n",
       "      <td>0.000000</td>\n",
       "      <td>0.000000</td>\n",
       "    </tr>\n",
       "    <tr>\n",
       "      <th>ZESTRIL</th>\n",
       "      <td>0.000000</td>\n",
       "      <td>0.000000</td>\n",
       "      <td>0.000000</td>\n",
       "      <td>0.000000</td>\n",
       "      <td>0.000000</td>\n",
       "      <td>0.000000</td>\n",
       "      <td>0.000000</td>\n",
       "      <td>0.000000</td>\n",
       "      <td>0.000000</td>\n",
       "    </tr>\n",
       "    <tr>\n",
       "      <th>ZOCOR</th>\n",
       "      <td>0.000000</td>\n",
       "      <td>0.000000</td>\n",
       "      <td>0.000000</td>\n",
       "      <td>0.000000</td>\n",
       "      <td>0.000000</td>\n",
       "      <td>0.000000</td>\n",
       "      <td>0.000000</td>\n",
       "      <td>0.000000</td>\n",
       "      <td>0.000000</td>\n",
       "    </tr>\n",
       "    <tr>\n",
       "      <th>ZOLPIDEM</th>\n",
       "      <td>0.000000</td>\n",
       "      <td>0.449329</td>\n",
       "      <td>0.000000</td>\n",
       "      <td>0.000000</td>\n",
       "      <td>0.000000</td>\n",
       "      <td>0.000000</td>\n",
       "      <td>0.000000</td>\n",
       "      <td>0.000000</td>\n",
       "      <td>0.000000</td>\n",
       "    </tr>\n",
       "    <tr>\n",
       "      <th>ZOSYN</th>\n",
       "      <td>0.000000</td>\n",
       "      <td>0.000000</td>\n",
       "      <td>0.000000</td>\n",
       "      <td>0.000000</td>\n",
       "      <td>0.000000</td>\n",
       "      <td>0.000000</td>\n",
       "      <td>0.000000</td>\n",
       "      <td>0.000000</td>\n",
       "      <td>0.000000</td>\n",
       "    </tr>\n",
       "  </tbody>\n",
       "</table>\n",
       "<p>354 rows × 9 columns</p>\n",
       "</div>"
      ],
      "text/plain": [
       "                      420       122       243       252       458       199  \\\n",
       "heartrate_first  0.810584  0.631284  0.755784  0.726149  0.802519  0.860708   \n",
       "sysbp_first      0.537944  0.496585  0.663650  0.878095  0.810584  0.472367   \n",
       "diasbp_first     0.771052  0.690734  0.771052  0.771052  0.644036  0.565525   \n",
       "meanbp_first     0.852144  0.000000  0.548812  0.733447  0.726149  0.913931   \n",
       "resprate_first   0.748264  0.427415  0.826959  0.690734  0.704688  0.631284   \n",
       "...                   ...       ...       ...       ...       ...       ...   \n",
       "XANAX            0.000000  0.000000  0.000000  0.000000  0.000000  0.000000   \n",
       "ZESTRIL          0.000000  0.000000  0.000000  0.000000  0.000000  0.000000   \n",
       "ZOCOR            0.000000  0.000000  0.000000  0.000000  0.000000  0.000000   \n",
       "ZOLPIDEM         0.000000  0.449329  0.000000  0.000000  0.000000  0.000000   \n",
       "ZOSYN            0.000000  0.000000  0.000000  0.000000  0.000000  0.000000   \n",
       "\n",
       "                       73       Agg       fed  \n",
       "heartrate_first  0.733447  0.571209  0.000000  \n",
       "sysbp_first      0.904837  0.711770  0.588605  \n",
       "diasbp_first     0.913931  0.637628  0.000000  \n",
       "meanbp_first     0.554327  0.895834  0.852144  \n",
       "resprate_first   0.571209  0.394554  0.000000  \n",
       "...                   ...       ...       ...  \n",
       "XANAX            0.000000  0.000000  0.000000  \n",
       "ZESTRIL          0.000000  0.000000  0.000000  \n",
       "ZOCOR            0.000000  0.000000  0.000000  \n",
       "ZOLPIDEM         0.000000  0.000000  0.000000  \n",
       "ZOSYN            0.000000  0.000000  0.000000  \n",
       "\n",
       "[354 rows x 9 columns]"
      ]
     },
     "execution_count": 31,
     "metadata": {},
     "output_type": "execute_result"
    }
   ],
   "source": [
    "df_all_scores_sec"
   ]
  },
  {
   "cell_type": "markdown",
   "id": "86308d72",
   "metadata": {},
   "source": [
    "### Comparison Analysis Between Models"
   ]
  },
  {
   "cell_type": "markdown",
   "id": "66199ec5",
   "metadata": {},
   "source": [
    "#### At Each Hospital"
   ]
  },
  {
   "cell_type": "code",
   "execution_count": 32,
   "id": "d641482b",
   "metadata": {
    "scrolled": false
   },
   "outputs": [
    {
     "data": {
      "image/png": "[encoded data removed]",
      "text/plain": [
       "<Figure size 1440x432 with 3 Axes>"
      ]
     },
     "metadata": {
      "needs_background": "light"
     },
     "output_type": "display_data"
    },
    {
     "data": {
      "text/plain": [
       "<Figure size 432x432 with 0 Axes>"
      ]
     },
     "metadata": {},
     "output_type": "display_data"
    },
    {
     "data": {
      "text/plain": [
       "<Figure size 432x432 with 0 Axes>"
      ]
     },
     "metadata": {},
     "output_type": "display_data"
    },
    {
     "data": {
      "text/plain": [
       "<Figure size 432x432 with 0 Axes>"
      ]
     },
     "metadata": {},
     "output_type": "display_data"
    }
   ],
   "source": [
    "num_rows = 1\n",
    "num_cols = 3\n",
    "\n",
    "fig, axes = plt.subplots(nrows=num_rows, ncols=num_cols, figsize=(20,6))\n",
    "# fig.delaxes(axes[(2, 1)])\n",
    "# fig.delaxes(axes[(2, 2)])\n",
    "colors = ['b', 'g', 'r', 'c', 'm', 'y', 'k']\n",
    "\n",
    "select_hosps = ['420', '252', '73']\n",
    "for i, hosp in enumerate(select_hosps):\n",
    "    hosp_local_dict_first = dict(zip(df_all_scores_first.index, df_all_scores_first[hosp]))\n",
    "    hosp_local_dict_sec = dict(zip(df_all_scores_sec.index, df_all_scores_sec[hosp]))\n",
    "    hosp_local_dict_first = {x:y for x,y in hosp_local_dict_first.items() if y!=0}\n",
    "    hosp_local_dict_sec = {x:y for x,y in hosp_local_dict_sec.items() if y!=0}\n",
    "\n",
    "    df_first = pd.DataFrame(data={'feature':hosp_local_dict_first.keys(), 'First Architecture Importances':hosp_local_dict_first.values()})\n",
    "    df_sec = pd.DataFrame(data={'feature':hosp_local_dict_sec.keys(), 'Second Architecture Importances':hosp_local_dict_sec.values()})\n",
    "\n",
    "    plt.figure(figsize=(6,6))        \n",
    "\n",
    "    df_plot = pd.merge(df_first, df_sec, on='feature')\n",
    "    first_arch_values = df_plot['First Architecture Importances'].values\n",
    "    second_arch_values = df_plot['Second Architecture Importances'].values     \n",
    "\n",
    "    slope, intercept, r_value, p_value, std_err = scipy.stats.linregress(first_arch_values, second_arch_values)\n",
    "    my_rho = np.corrcoef(first_arch_values, second_arch_values)\n",
    "\n",
    "#     ax = axes[divmod(i, num_cols)]\n",
    "    ax = axes[i]\n",
    "    g = sns.regplot(data=df_plot, x=\"First Architecture Importances\", y=\"Second Architecture Importances\", ax=ax, color=colors[i])\n",
    "    g.set_xlabel(\"MLP Importances\")\n",
    "    g.set_ylabel(\"LR Importances\")\n",
    "    ax.set_title(hosp + \" Feature Importances Between Architectures, PC = {}\".format(np.round(my_rho[0, 1], 2)))\n",
    "    \n",
    "plt.tight_layout()"
   ]
  },
  {
   "cell_type": "markdown",
   "id": "1e5072f8",
   "metadata": {},
   "source": [
    "#### Across All Hospitals"
   ]
  },
  {
   "cell_type": "code",
   "execution_count": 33,
   "id": "e74b314b",
   "metadata": {},
   "outputs": [
    {
     "data": {
      "text/plain": [
       "Text(0.5, 1.0, 'Local Hospital Feature Importances Between Architectures, PC = 0.44')"
      ]
     },
     "execution_count": 33,
     "metadata": {},
     "output_type": "execute_result"
    },
    {
     "data": {
      "image/png": "[encoded data removed]",
      "text/plain": [
       "<Figure size 432x432 with 1 Axes>"
      ]
     },
     "metadata": {
      "needs_background": "light"
     },
     "output_type": "display_data"
    }
   ],
   "source": [
    "df_first = pd.DataFrame(data={'feature':feature_median_dict_first.keys(), 'First Architecture Importances':feature_median_dict_first.values()})\n",
    "df_sec = pd.DataFrame(data={'feature':feature_median_dict_sec.keys(), 'Second Architecture Importances':feature_median_dict_sec.values()})\n",
    "\n",
    "plt.figure(figsize=(6,6))        \n",
    "\n",
    "df_plot = pd.merge(df_first, df_sec, on='feature')\n",
    "first_arch_values = df_plot['First Architecture Importances'].values\n",
    "second_arch_values = df_plot['Second Architecture Importances'].values   \n",
    "\n",
    "slope, intercept, r_value, p_value, std_err = scipy.stats.linregress(first_arch_values, second_arch_values)\n",
    "my_rho = np.corrcoef(first_arch_values, second_arch_values)\n",
    "\n",
    "g = sns.regplot(data=df_plot, x=\"First Architecture Importances\", y=\"Second Architecture Importances\")\n",
    "g.set_xlabel(\"MLP Importances\")\n",
    "g.set_ylabel(\"LR Importances\")\n",
    "plt.title(\"Local Hospital Feature Importances Between Architectures, PC = {}\".format(np.round(my_rho[0, 1], 2)))"
   ]
  },
  {
   "cell_type": "markdown",
   "id": "e1151353",
   "metadata": {},
   "source": [
    "#### Pooled Data"
   ]
  },
  {
   "cell_type": "code",
   "execution_count": 34,
   "id": "4b4026e3",
   "metadata": {},
   "outputs": [
    {
     "data": {
      "text/plain": [
       "Text(0.5, 1.0, 'Pooled Data Feature Importances Between Architectures, PC = 0.47')"
      ]
     },
     "execution_count": 34,
     "metadata": {},
     "output_type": "execute_result"
    },
    {
     "data": {
      "image/png": "[encoded data removed]",
      "text/plain": [
       "<Figure size 432x432 with 1 Axes>"
      ]
     },
     "metadata": {
      "needs_background": "light"
     },
     "output_type": "display_data"
    }
   ],
   "source": [
    "df_first = pd.DataFrame(data={'feature':agg_feature_score_dict_first.keys(), 'First Architecture Importances':agg_feature_score_dict_first.values()})\n",
    "df_sec = pd.DataFrame(data={'feature':agg_feature_score_dict_sec.keys(), 'Second Architecture Importances':agg_feature_score_dict_sec.values()})\n",
    "\n",
    "plt.figure(figsize=(6,6))        \n",
    "\n",
    "df_plot = pd.merge(df_first, df_sec, on='feature')\n",
    "first_arch_values = df_plot['First Architecture Importances'].values\n",
    "second_arch_values = df_plot['Second Architecture Importances'].values\n",
    "\n",
    "slope, intercept, r_value, p_value, std_err = scipy.stats.linregress(first_arch_values, second_arch_values)\n",
    "my_rho = np.corrcoef(first_arch_values, second_arch_values)\n",
    "\n",
    "g = sns.regplot(data=df_plot, x=\"First Architecture Importances\", y=\"Second Architecture Importances\")\n",
    "g.set_xlabel(\"MLP Importances\")\n",
    "g.set_ylabel(\"LR Importances\")\n",
    "plt.title(\"Pooled Data Feature Importances Between Architectures, PC = {}\".format(np.round(my_rho[0, 1], 2)))"
   ]
  },
  {
   "cell_type": "markdown",
   "id": "1dcef713",
   "metadata": {},
   "source": [
    "#### Federated Environments"
   ]
  },
  {
   "cell_type": "code",
   "execution_count": 35,
   "id": "9b8e4e66",
   "metadata": {},
   "outputs": [
    {
     "data": {
      "text/plain": [
       "Text(0.5, 1.0, 'Federated Feature Importances Between Architectures, PC = 0.44')"
      ]
     },
     "execution_count": 35,
     "metadata": {},
     "output_type": "execute_result"
    },
    {
     "data": {
      "image/png": "[encoded data removed]",
      "text/plain": [
       "<Figure size 432x432 with 1 Axes>"
      ]
     },
     "metadata": {
      "needs_background": "light"
     },
     "output_type": "display_data"
    }
   ],
   "source": [
    "df_first = pd.DataFrame(data={'feature':fed_feature_score_dict_first.keys(), 'First Architecture Importances':fed_feature_score_dict_first.values()})\n",
    "df_sec = pd.DataFrame(data={'feature':fed_feature_score_dict_sec.keys(), 'Second Architecture Importances':fed_feature_score_dict_sec.values()})\n",
    "\n",
    "plt.figure(figsize=(6,6))        \n",
    "\n",
    "df_plot = pd.merge(df_first, df_sec, on='feature')\n",
    "first_arch_values = df_plot['First Architecture Importances'].values\n",
    "second_arch_values = df_plot['Second Architecture Importances'].values\n",
    "\n",
    "slope, intercept, r_value, p_value, std_err = scipy.stats.linregress(first_arch_values, second_arch_values)\n",
    "my_rho = np.corrcoef(first_arch_values, second_arch_values)\n",
    "\n",
    "g = sns.regplot(data=df_plot, x=\"First Architecture Importances\", y=\"Second Architecture Importances\")\n",
    "g.set_xlabel(\"MLP Importances\")\n",
    "g.set_ylabel(\"LR Importances\")\n",
    "plt.title(\"Federated Feature Importances Between Architectures, PC = {}\".format(np.round(my_rho[0, 1], 2)))"
   ]
  }
 ],
 "metadata": {
  "kernelspec": {
   "display_name": "Python 3 (ipykernel)",
   "language": "python",
   "name": "python3"
  },
  "language_info": {
   "codemirror_mode": {
    "name": "ipython",
    "version": 3
   },
   "file_extension": ".py",
   "mimetype": "text/x-python",
   "name": "python",
   "nbconvert_exporter": "python",
   "pygments_lexer": "ipython3",
   "version": "3.8.12"
  }
 },
 "nbformat": 4,
 "nbformat_minor": 5
}
