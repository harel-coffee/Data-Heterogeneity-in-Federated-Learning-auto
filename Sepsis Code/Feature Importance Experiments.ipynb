{
 "cells": [
  {
   "cell_type": "code",
   "execution_count": 1,
   "id": "1a801f51",
   "metadata": {},
   "outputs": [],
   "source": [
    "import numpy as np\n",
    "import pandas as pd\n",
    "import os\n",
    "import pprint\n",
    "import sklearn\n",
    "from sklearn import preprocessing\n",
    "from sklearn.decomposition import PCA\n",
    "import warnings\n",
    "import matplotlib\n",
    "from os import listdir\n",
    "import seaborn as sns\n",
    "import scipy\n",
    "import sys\n",
    "import copy\n",
    "import pickle\n",
    "from scipy import stats\n",
    "\n",
    "import sklearn.neighbors._base\n",
    "sys.modules['sklearn.neighbors.base'] = sklearn.neighbors._base\n",
    "\n",
    "import warnings\n",
    "warnings.filterwarnings(\"ignore\")\n",
    "\n",
    "import shap\n",
    "import matplotlib.pyplot as plt"
   ]
  },
  {
   "cell_type": "code",
   "execution_count": 2,
   "id": "dea0b3cf",
   "metadata": {},
   "outputs": [],
   "source": [
    "rs = 42"
   ]
  },
  {
   "cell_type": "code",
   "execution_count": 3,
   "id": "9e70961d",
   "metadata": {},
   "outputs": [],
   "source": [
    "do_shap_scores = 0\n",
    "do_soft_rankings = 1"
   ]
  },
  {
   "cell_type": "markdown",
   "id": "f463df0b",
   "metadata": {},
   "source": [
    "### Loading in Files"
   ]
  },
  {
   "cell_type": "code",
   "execution_count": 4,
   "id": "81e529f3",
   "metadata": {},
   "outputs": [],
   "source": [
    "os.chdir('..')"
   ]
  },
  {
   "cell_type": "code",
   "execution_count": 5,
   "id": "de82c6a5",
   "metadata": {},
   "outputs": [],
   "source": [
    "prediction_window = \"\""
   ]
  },
  {
   "cell_type": "code",
   "execution_count": 6,
   "id": "e4d08194",
   "metadata": {},
   "outputs": [],
   "source": [
    "data_directory = 'Sepsis Data/'\n",
    "prediction_directory = 'sepsis/'\n",
    "model_type = 'XGBoost'\n",
    "num_features_to_look = 10"
   ]
  },
  {
   "cell_type": "code",
   "execution_count": 7,
   "id": "386b7a9c",
   "metadata": {},
   "outputs": [],
   "source": [
    "df_top_features = pd.read_csv(f\"Sepsis Code/Feature Importances/{model_type}_\" + prediction_window + \"_SHAPImportantFeatures.csv\")\n",
    "df_top_features = df_top_features.loc[:, ~df_top_features.columns.str.contains('^Unnamed')]\n",
    "df_top_features = df_top_features.iloc[0:num_features_to_look]"
   ]
  },
  {
   "cell_type": "code",
   "execution_count": 8,
   "id": "d950b9bf",
   "metadata": {},
   "outputs": [],
   "source": [
    "# Getting list of features and shape for eventual score dataframe\n",
    "file = str(420) + '.csv'\n",
    "data = pd.read_csv(data_directory + prediction_directory + \"cleaned/\" + file)\n",
    "data = data.loc[:, ~data.columns.str.contains('^Unnamed')]\n",
    "feats_index = list(data)\n",
    "feats_index.remove('sepsis_label')\n",
    "# 7 hospitals, 1 aggregate\n",
    "feats_score_shape = (len(feats_index), (7+1))"
   ]
  },
  {
   "cell_type": "code",
   "execution_count": 9,
   "id": "da9de219",
   "metadata": {},
   "outputs": [],
   "source": [
    "feat_ds_df = pd.read_csv('Sepsis Data/Feature_Dissimilarities.csv')"
   ]
  },
  {
   "cell_type": "markdown",
   "id": "7d230c5b",
   "metadata": {},
   "source": [
    "#### Using SHAP Scores"
   ]
  },
  {
   "cell_type": "code",
   "execution_count": 10,
   "id": "5613d06f",
   "metadata": {},
   "outputs": [],
   "source": [
    "# Retired code\n",
    "if do_shap_scores:\n",
    "    from sklearn import preprocessing\n",
    "\n",
    "    scaler = preprocessing.MinMaxScaler()\n",
    "    min_max_scaler = preprocessing.MinMaxScaler()\n",
    "    feat_scores_array = min_max_scaler.fit_transform(df_feat_scores)\n",
    "    df_feat_scores = pd.DataFrame(feat_scores_array, columns=df_feat_scores.columns, index=df_feat_scores.index)"
   ]
  },
  {
   "cell_type": "markdown",
   "id": "23353b65",
   "metadata": {},
   "source": [
    "#### Using Soft Ranking Scores\n",
    "Same methodology used in transportablity paper"
   ]
  },
  {
   "cell_type": "code",
   "execution_count": 11,
   "id": "963076ca",
   "metadata": {},
   "outputs": [],
   "source": [
    "if do_soft_rankings:\n",
    "    init_data = np.zeros(feats_score_shape)\n",
    "    df_soft_rankings = pd.DataFrame(data = init_data, columns=list(df_top_features), index=feats_index)\n",
    "\n",
    "    s = df_top_features.shape[0] \n",
    "    features = np.unique(df_top_features.values)\n",
    "    for feature in features:\n",
    "        loc = np.where(df_top_features.values == feature)\n",
    "        rows = loc[0]\n",
    "        cols = loc[1]\n",
    "        feature_index = df_soft_rankings.index.get_loc(feature)\n",
    "        for i in range(0, len(cols)):\n",
    "            df_soft_rankings.iloc[feature_index, cols[i]] = np.exp((-1 * (rows[i] + 1))/s)\n",
    "    df_feat_scores = df_soft_rankings"
   ]
  },
  {
   "cell_type": "markdown",
   "id": "a816b372",
   "metadata": {},
   "source": [
    "### Analysis between Local Sites"
   ]
  },
  {
   "cell_type": "code",
   "execution_count": 12,
   "id": "ab1eb49c",
   "metadata": {},
   "outputs": [],
   "source": [
    "df_top_features_local = df_top_features.drop(columns=['Agg'])\n",
    "df_feat_scores_local = df_feat_scores.drop(columns=['Agg'])\n",
    "\n",
    "features, counts = np.unique(df_top_features_local.values, return_counts=True)\n",
    "props = counts/7\n",
    "feature_site_props = {features[i]: props[i] for i in range(len(features))}\n",
    "\n",
    "feature_col_dict = dict.fromkeys(features)\n",
    "for feature in feature_col_dict:\n",
    "    loc = np.where(df_top_features_local.values == feature)\n",
    "    cols = loc[1]\n",
    "    feature_col_dict[feature] = cols\n",
    "\n",
    "feature_score_dict = dict.fromkeys(features)\n",
    "for feature in feature_score_dict:\n",
    "    idx = feature_col_dict[feature]\n",
    "    feature_score_dict[feature] = df_feat_scores_local.iloc[:, idx].loc[feature].values\n",
    "\n",
    "feature_mean_dict = dict.fromkeys(features)\n",
    "for feature in feature_mean_dict:\n",
    "    feature_mean_dict[feature] = np.mean(feature_score_dict[feature])\n",
    "values = feature_mean_dict.values()\n",
    "\n",
    "feature_iqr_dict = dict.fromkeys(features)\n",
    "for feature in feature_score_dict:\n",
    "    idx = feature_col_dict[feature]\n",
    "    q75, q25 = np.percentile(idx, [75 ,25])\n",
    "    iqr = q75 - q25\n",
    "    feature_iqr_dict[feature] = iqr"
   ]
  },
  {
   "cell_type": "markdown",
   "id": "57d4f746",
   "metadata": {},
   "source": [
    "#### Plotting Local Analyses"
   ]
  },
  {
   "cell_type": "code",
   "execution_count": 13,
   "id": "faa6080c",
   "metadata": {},
   "outputs": [
    {
     "data": {
      "image/png": "[encoded data removed]",
      "text/plain": [
       "<Figure size 412x360 with 1 Axes>"
      ]
     },
     "metadata": {
      "needs_background": "light"
     },
     "output_type": "display_data"
    }
   ],
   "source": [
    "soft_importances = []\n",
    "feature_frequency = []\n",
    "features = []\n",
    "iqrs = []\n",
    "for feature in feature_mean_dict:\n",
    "    soft_importances.append(feature_mean_dict[feature])\n",
    "    feature_frequency.append(feature_site_props[feature])\n",
    "    features.append(feature)\n",
    "    iqrs.append(feature_iqr_dict[feature])\n",
    "\n",
    "data_df = pd.DataFrame(data={'features':features, 'frequency':feature_frequency,\n",
    "                             'score':soft_importances, 'IQR':iqrs})\n",
    "x, y = data_df['score'].min(), data_df['score'].max()\n",
    "data_df['scaled_score'] = (data_df['score'] - x) / (y - x)\n",
    "data_df['unique_important_score'] = (1 - data_df['frequency']) * data_df['score']\n",
    "data_df_local = copy.deepcopy(data_df)\n",
    "\n",
    "g = sns.relplot(\n",
    "    data=data_df,\n",
    "    x=\"score\", y=\"frequency\", hue=\"IQR\"\n",
    ")\n",
    "plt.yticks(np.unique(props))\n",
    "\n",
    "# for i in range(data_df.shape[0]):\n",
    "#     if data_df.score[i] > 0.9:\n",
    "#         plt.text(x=data_df.score[i]+0.01,y=data_df.frequency[i]+0.01,s=data_df.features[i],\n",
    "#                  fontdict=dict(color='black',size=10))\n",
    "\n",
    "g.set_axis_labels(\"Mean Scaled Importance\", \"Frequency of Appearances\", labelpad=10)\n",
    "g._legend.remove()\n",
    "# g.set(title='Local Feature Importances')"
   ]
  },
  {
   "cell_type": "markdown",
   "id": "67635a39",
   "metadata": {},
   "source": [
    "### Analysis with Aggregate Model"
   ]
  },
  {
   "cell_type": "code",
   "execution_count": 14,
   "id": "b005cb29",
   "metadata": {},
   "outputs": [],
   "source": [
    "df_top_features_agg = df_top_features['Agg']\n",
    "df_feat_scores_agg = df_feat_scores['Agg']"
   ]
  },
  {
   "cell_type": "code",
   "execution_count": 15,
   "id": "0805fe41",
   "metadata": {},
   "outputs": [],
   "source": [
    "agg_feature_score_dict = dict.fromkeys(df_top_features_agg.values)\n",
    "for feature in agg_feature_score_dict:\n",
    "    agg_feature_score_dict[feature] = df_feat_scores_agg.loc[feature]"
   ]
  },
  {
   "cell_type": "markdown",
   "id": "0f38b692",
   "metadata": {},
   "source": [
    "#### Plotting Aggregate Analysis"
   ]
  },
  {
   "cell_type": "markdown",
   "id": "469fc43f",
   "metadata": {},
   "source": [
    "- Agg Model Feature Importances vs How Many Sites Had it As a Top 100 Feature\n",
    "    - Should expect to be linear with a positive slope (assuming aggregate model uses features that more institutions use"
   ]
  },
  {
   "cell_type": "code",
   "execution_count": 16,
   "id": "296cc3ff",
   "metadata": {},
   "outputs": [
    {
     "data": {
      "text/plain": [
       "Text(6.799999999999997, 0.5, 'Frequency of Appearances')"
      ]
     },
     "execution_count": 16,
     "metadata": {},
     "output_type": "execute_result"
    },
    {
     "data": {
      "image/png": "[encoded data removed]",
      "text/plain": [
       "<Figure size 360x360 with 1 Axes>"
      ]
     },
     "metadata": {
      "needs_background": "light"
     },
     "output_type": "display_data"
    }
   ],
   "source": [
    "agg_importances = []\n",
    "feature_frequency = []\n",
    "features = []\n",
    "for feature in agg_feature_score_dict:\n",
    "    agg_importances.append(agg_feature_score_dict[feature])\n",
    "    if feature in feature_site_props:\n",
    "        feature_frequency.append(feature_site_props[feature])\n",
    "    else:\n",
    "        feature_frequency.append(0)\n",
    "    features.append(feature)\n",
    "\n",
    "data_df = pd.DataFrame(data={'features':features, 'frequency':feature_frequency, 'score':agg_importances})\n",
    "x, y = data_df['score'].min(), data_df['score'].max()\n",
    "data_df['scaled_score'] = (data_df['score'] - x) / (y - x)\n",
    "data_df['unique_important_score'] = (1 - data_df['frequency']) * data_df['score']\n",
    "data_df_agg = copy.deepcopy(data_df)\n",
    "\n",
    "slope, intercept, r_value, p_value, std_err = scipy.stats.linregress(agg_importances, feature_frequency)\n",
    "my_rho = np.corrcoef(agg_importances, feature_frequency)\n",
    "\n",
    "g = sns.relplot(\n",
    "    data=data_df,\n",
    "    x=\"score\", y=\"frequency\")\n",
    "plt.yticks(np.unique(props))\n",
    "\n",
    "# for i in range(data_df.shape[0]):\n",
    "#     if data_df.score[i] > 0.9:\n",
    "#         plt.text(x=data_df.score[i]+0.01,y=data_df.frequency[i]+0.01,s=data_df.features[i],\n",
    "#                  fontdict=dict(color='black',size=10))\n",
    "\n",
    "plt.xlabel(\"Importance Score\")\n",
    "plt.ylabel(\"Frequency of Appearances\")\n",
    "# plt.title(\"Agg Model Feature Importances vs How Many Sites Had it As a Top 100 Feature, PC = {}\".format(np.round(my_rho[0, 1], 2)))"
   ]
  },
  {
   "cell_type": "code",
   "execution_count": 17,
   "id": "c101053c",
   "metadata": {},
   "outputs": [
    {
     "data": {
      "image/png": "[encoded data removed]",
      "text/plain": [
       "<Figure size 432x288 with 1 Axes>"
      ]
     },
     "metadata": {
      "needs_background": "light"
     },
     "output_type": "display_data"
    }
   ],
   "source": [
    "# Predicting Unique Importance of Model\n",
    "inc_feats = ['features', 'unique_important_score']\n",
    "df_data = pd.merge(data_df_agg[inc_feats], data_df_local[inc_feats], on='features')\n",
    "df_data = df_data.rename(columns={'unique_important_score_x':'unique_important_score_agg', 'unique_important_score_y':'unique_important_score_local'})\n",
    "slope, intercept, r_value, p_value, std_err = stats.linregress(df_data['unique_important_score_local'],df_data['unique_important_score_agg'])\n",
    "my_rho = np.round(np.corrcoef(df_data['unique_important_score_local'], df_data['unique_important_score_agg'])[0, 1], 2)\n",
    "ax = sns.regplot(x=\"unique_important_score_local\", y=\"unique_important_score_agg\", data=df_data,\n",
    "                 line_kws={'label':\"y={0:.1f}x+{1:.1f}, p={2:.2f}\".format(slope, intercept, my_rho)})\n",
    "ax.legend()\n",
    "# plt.title(\"Local Unique Importance Scores vs Pooled Unique Importance Scores\")\n",
    "plt.xlabel(\"Local UIS\")\n",
    "plt.ylabel(\"Pooled UIS\")\n",
    "plt.show()"
   ]
  },
  {
   "cell_type": "markdown",
   "id": "d390aea0",
   "metadata": {},
   "source": [
    "### Adding Federated Models"
   ]
  },
  {
   "cell_type": "code",
   "execution_count": 18,
   "id": "318536aa",
   "metadata": {},
   "outputs": [],
   "source": [
    "df_top_fed_features = pd.read_csv(f\"Sepsis Code/Feature Importances/Federated {model_type}_\" + prediction_window + \"_SHAPImportantFeatures.csv\")\n",
    "df_top_fed_features = df_top_fed_features.loc[:, ~df_top_fed_features.columns.str.contains('^Unnamed')]\n",
    "df_top_fed_features = df_top_fed_features.iloc[0:num_features_to_look]"
   ]
  },
  {
   "cell_type": "code",
   "execution_count": 19,
   "id": "9ca52048",
   "metadata": {},
   "outputs": [],
   "source": [
    "if do_soft_rankings:\n",
    "    init_data = np.zeros((len(feats_index), 1))\n",
    "    df_soft_rankings = pd.DataFrame(data = init_data, columns=list(df_top_fed_features), index=feats_index)\n",
    "\n",
    "    s = df_top_fed_features.shape[0] \n",
    "    features = np.unique(df_top_fed_features.values)\n",
    "    for feature in features:\n",
    "        loc = np.where(df_top_fed_features.values == feature)\n",
    "        rows = loc[0]\n",
    "        cols = loc[1]\n",
    "        feature_index = df_soft_rankings.index.get_loc(feature)\n",
    "        for i in range(0, len(cols)):\n",
    "            df_soft_rankings.iloc[feature_index, cols[i]] = np.exp((-1 * (rows[i] + 1))/s)\n",
    "    df_fed_feat_scores = df_soft_rankings"
   ]
  },
  {
   "cell_type": "code",
   "execution_count": 20,
   "id": "f7bdbcda",
   "metadata": {},
   "outputs": [],
   "source": [
    "df_all_scores = pd.merge(df_feat_scores, df_fed_feat_scores, left_index=True, right_index=True)"
   ]
  },
  {
   "cell_type": "code",
   "execution_count": 21,
   "id": "1c2b8db8",
   "metadata": {},
   "outputs": [
    {
     "data": {
      "text/html": [
       "<div>\n",
       "<style scoped>\n",
       "    .dataframe tbody tr th:only-of-type {\n",
       "        vertical-align: middle;\n",
       "    }\n",
       "\n",
       "    .dataframe tbody tr th {\n",
       "        vertical-align: top;\n",
       "    }\n",
       "\n",
       "    .dataframe thead th {\n",
       "        text-align: right;\n",
       "    }\n",
       "</style>\n",
       "<table border=\"1\" class=\"dataframe\">\n",
       "  <thead>\n",
       "    <tr style=\"text-align: right;\">\n",
       "      <th></th>\n",
       "      <th>420</th>\n",
       "      <th>122</th>\n",
       "      <th>243</th>\n",
       "      <th>252</th>\n",
       "      <th>458</th>\n",
       "      <th>199</th>\n",
       "      <th>73</th>\n",
       "      <th>Agg</th>\n",
       "      <th>fed</th>\n",
       "    </tr>\n",
       "  </thead>\n",
       "  <tbody>\n",
       "    <tr>\n",
       "      <th>heartrate_first</th>\n",
       "      <td>0.449329</td>\n",
       "      <td>0.670320</td>\n",
       "      <td>0.0</td>\n",
       "      <td>0.740818</td>\n",
       "      <td>0.0</td>\n",
       "      <td>0.548812</td>\n",
       "      <td>0.00000</td>\n",
       "      <td>0.367879</td>\n",
       "      <td>0.0</td>\n",
       "    </tr>\n",
       "    <tr>\n",
       "      <th>sysbp_first</th>\n",
       "      <td>0.000000</td>\n",
       "      <td>0.000000</td>\n",
       "      <td>0.0</td>\n",
       "      <td>0.000000</td>\n",
       "      <td>0.0</td>\n",
       "      <td>0.406570</td>\n",
       "      <td>0.00000</td>\n",
       "      <td>0.000000</td>\n",
       "      <td>0.0</td>\n",
       "    </tr>\n",
       "    <tr>\n",
       "      <th>diasbp_first</th>\n",
       "      <td>0.000000</td>\n",
       "      <td>0.000000</td>\n",
       "      <td>0.0</td>\n",
       "      <td>0.000000</td>\n",
       "      <td>0.0</td>\n",
       "      <td>0.449329</td>\n",
       "      <td>0.67032</td>\n",
       "      <td>0.000000</td>\n",
       "      <td>0.0</td>\n",
       "    </tr>\n",
       "    <tr>\n",
       "      <th>meanbp_first</th>\n",
       "      <td>0.000000</td>\n",
       "      <td>0.000000</td>\n",
       "      <td>0.0</td>\n",
       "      <td>0.000000</td>\n",
       "      <td>0.0</td>\n",
       "      <td>0.000000</td>\n",
       "      <td>0.00000</td>\n",
       "      <td>0.000000</td>\n",
       "      <td>0.0</td>\n",
       "    </tr>\n",
       "    <tr>\n",
       "      <th>resprate_first</th>\n",
       "      <td>0.548812</td>\n",
       "      <td>0.606531</td>\n",
       "      <td>0.0</td>\n",
       "      <td>0.818731</td>\n",
       "      <td>0.0</td>\n",
       "      <td>0.496585</td>\n",
       "      <td>0.00000</td>\n",
       "      <td>0.818731</td>\n",
       "      <td>0.0</td>\n",
       "    </tr>\n",
       "  </tbody>\n",
       "</table>\n",
       "</div>"
      ],
      "text/plain": [
       "                      420       122  243       252  458       199       73  \\\n",
       "heartrate_first  0.449329  0.670320  0.0  0.740818  0.0  0.548812  0.00000   \n",
       "sysbp_first      0.000000  0.000000  0.0  0.000000  0.0  0.406570  0.00000   \n",
       "diasbp_first     0.000000  0.000000  0.0  0.000000  0.0  0.449329  0.67032   \n",
       "meanbp_first     0.000000  0.000000  0.0  0.000000  0.0  0.000000  0.00000   \n",
       "resprate_first   0.548812  0.606531  0.0  0.818731  0.0  0.496585  0.00000   \n",
       "\n",
       "                      Agg  fed  \n",
       "heartrate_first  0.367879  0.0  \n",
       "sysbp_first      0.000000  0.0  \n",
       "diasbp_first     0.000000  0.0  \n",
       "meanbp_first     0.000000  0.0  \n",
       "resprate_first   0.818731  0.0  "
      ]
     },
     "execution_count": 21,
     "metadata": {},
     "output_type": "execute_result"
    }
   ],
   "source": [
    "df_all_scores.head()"
   ]
  },
  {
   "cell_type": "markdown",
   "id": "751adf4d",
   "metadata": {},
   "source": [
    "#### Analysis with Federated Models"
   ]
  },
  {
   "cell_type": "code",
   "execution_count": 22,
   "id": "d27da715",
   "metadata": {},
   "outputs": [],
   "source": [
    "df_top_features_fed = df_top_fed_features['fed']\n",
    "df_feat_scores_fed = df_all_scores['fed']"
   ]
  },
  {
   "cell_type": "code",
   "execution_count": 23,
   "id": "7fba562c",
   "metadata": {},
   "outputs": [],
   "source": [
    "fed_feature_score_dict = dict.fromkeys(df_top_features_fed.values)\n",
    "for feature in fed_feature_score_dict:\n",
    "    fed_feature_score_dict[feature] = df_feat_scores_fed.loc[feature]"
   ]
  },
  {
   "cell_type": "markdown",
   "id": "03a0a17b",
   "metadata": {},
   "source": [
    "#### Plotting Federated Analysis"
   ]
  },
  {
   "cell_type": "code",
   "execution_count": 24,
   "id": "56683a19",
   "metadata": {},
   "outputs": [
    {
     "data": {
      "text/plain": [
       "Text(6.799999999999997, 0.5, 'Frequency of Appearances')"
      ]
     },
     "execution_count": 24,
     "metadata": {},
     "output_type": "execute_result"
    },
    {
     "data": {
      "image/png": "[encoded data removed]",
      "text/plain": [
       "<Figure size 360x360 with 1 Axes>"
      ]
     },
     "metadata": {
      "needs_background": "light"
     },
     "output_type": "display_data"
    }
   ],
   "source": [
    "fed_importances = []\n",
    "feature_frequency = []\n",
    "features = []\n",
    "for feature in fed_feature_score_dict:\n",
    "    fed_importances.append(fed_feature_score_dict[feature])\n",
    "    if feature in feature_site_props:\n",
    "        feature_frequency.append(feature_site_props[feature])\n",
    "    else:\n",
    "        feature_frequency.append(0)\n",
    "    features.append(feature)\n",
    "\n",
    "data_df = pd.DataFrame(data={'features':features, 'frequency':feature_frequency, 'score':fed_importances})\n",
    "\n",
    "x, y = data_df['score'].min(), data_df['score'].max()\n",
    "data_df['scaled_score'] = (data_df['score'] - x) / (y - x)\n",
    "data_df['unique_important_score'] = (1 - data_df['frequency']) * data_df['score']\n",
    "data_df_fed = copy.deepcopy(data_df)\n",
    "\n",
    "slope, intercept, r_value, p_value, std_err = scipy.stats.linregress(fed_importances, feature_frequency)\n",
    "my_rho = np.corrcoef(fed_importances, feature_frequency)\n",
    "\n",
    "g = sns.relplot(\n",
    "    data=data_df,\n",
    "    x=\"score\", y=\"frequency\")\n",
    "plt.yticks(np.unique(props))\n",
    "\n",
    "plt.xlabel(\"Importance Score\")\n",
    "plt.ylabel(\"Frequency of Appearances\")\n",
    "# plt.title(\"Fed Model Feature Importances vs How Many Sites Had it As a Top 100 Feature, PC = {}\".format(np.round(my_rho[0, 1], 2)))"
   ]
  },
  {
   "cell_type": "code",
   "execution_count": null,
   "id": "327ba1a9",
   "metadata": {},
   "outputs": [],
   "source": [
    "# Predicting Unique Importance of Model\n",
    "inc_feats = ['features', 'unique_important_score']\n",
    "df_data = pd.merge(data_df_fed[inc_feats], data_df_local[inc_feats], on='features')\n",
    "df_data = df_data.rename(columns={'unique_important_score_x':'unique_important_score_fed', 'unique_important_score_y':'unique_important_score_local'})\n",
    "slope, intercept, r_value, p_value, std_err = stats.linregress(df_data['unique_important_score_local'],df_data['unique_important_score_fed'])\n",
    "my_rho = np.round(np.corrcoef(df_data['unique_important_score_local'], df_data['unique_important_score_fed'])[0, 1], 2)\n",
    "ax = sns.regplot(x=\"unique_important_score_local\", y=\"unique_important_score_fed\", data=df_data,\n",
    "                 line_kws={'label':\"y={0:.1f}x+{1:.1f}, p={2:.2f}\".format(slope,intercept,my_rho)})\n",
    "ax.legend()\n",
    "# plt.title(\"Local Unique Importance Scores vs Federated Unique Importance Scores\")\n",
    "plt.xlabel(\"Local UIS\")\n",
    "plt.ylabel(\"Federated UIS\")\n",
    "plt.show()"
   ]
  }
 ],
 "metadata": {
  "kernelspec": {
   "display_name": "Python 3 (ipykernel)",
   "language": "python",
   "name": "python3"
  },
  "language_info": {
   "codemirror_mode": {
    "name": "ipython",
    "version": 3
   },
   "file_extension": ".py",
   "mimetype": "text/x-python",
   "name": "python",
   "nbconvert_exporter": "python",
   "pygments_lexer": "ipython3",
   "version": "3.8.12"
  }
 },
 "nbformat": 4,
 "nbformat_minor": 5
}
