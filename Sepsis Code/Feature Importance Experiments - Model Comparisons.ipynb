{
 "cells": [
  {
   "cell_type": "code",
   "execution_count": 1,
   "id": "1a801f51",
   "metadata": {},
   "outputs": [],
   "source": [
    "import numpy as np\n",
    "import pandas as pd\n",
    "import os\n",
    "import pprint\n",
    "import sklearn\n",
    "from sklearn import preprocessing\n",
    "from sklearn.decomposition import PCA\n",
    "import warnings\n",
    "import matplotlib\n",
    "from os import listdir\n",
    "import seaborn as sns\n",
    "import scipy\n",
    "import sys\n",
    "\n",
    "import sklearn.neighbors._base\n",
    "sys.modules['sklearn.neighbors.base'] = sklearn.neighbors._base\n",
    "\n",
    "import warnings\n",
    "warnings.filterwarnings(\"ignore\")\n",
    "\n",
    "import shap\n",
    "import matplotlib.pyplot as plt"
   ]
  },
  {
   "cell_type": "code",
   "execution_count": 2,
   "id": "dea0b3cf",
   "metadata": {},
   "outputs": [],
   "source": [
    "rs = 42"
   ]
  },
  {
   "cell_type": "code",
   "execution_count": 3,
   "id": "9e70961d",
   "metadata": {},
   "outputs": [],
   "source": [
    "do_shap_scores = 0\n",
    "do_soft_rankings = 1"
   ]
  },
  {
   "cell_type": "code",
   "execution_count": 4,
   "id": "81e529f3",
   "metadata": {},
   "outputs": [],
   "source": [
    "os.chdir('..')"
   ]
  },
  {
   "cell_type": "code",
   "execution_count": 5,
   "id": "de82c6a5",
   "metadata": {},
   "outputs": [],
   "source": [
    "prediction_window = \"\""
   ]
  },
  {
   "cell_type": "code",
   "execution_count": 6,
   "id": "e4d08194",
   "metadata": {},
   "outputs": [],
   "source": [
    "data_directory = 'Sepsis Data/'\n",
    "prediction_directory = 'sepsis/'"
   ]
  },
  {
   "cell_type": "code",
   "execution_count": 7,
   "id": "d625f748",
   "metadata": {},
   "outputs": [],
   "source": [
    "def find_csv_filenames( path_to_dir, suffix=\".csv\" ):\n",
    "    filenames = listdir(path_to_dir)\n",
    "    return [ filename for filename in filenames if filename.endswith( suffix ) ]"
   ]
  },
  {
   "cell_type": "code",
   "execution_count": 8,
   "id": "3e0b34f3",
   "metadata": {},
   "outputs": [],
   "source": [
    "data_files = find_csv_filenames(data_directory+prediction_directory)\n",
    "hosps = [x.replace('.csv', '') for x in data_files]"
   ]
  },
  {
   "cell_type": "markdown",
   "id": "f463df0b",
   "metadata": {},
   "source": [
    "#### Loading in Files for First Architecture"
   ]
  },
  {
   "cell_type": "code",
   "execution_count": 9,
   "id": "2e0efbf8",
   "metadata": {},
   "outputs": [],
   "source": [
    "model_type = 'Pytorch MLP'"
   ]
  },
  {
   "cell_type": "code",
   "execution_count": 10,
   "id": "386b7a9c",
   "metadata": {},
   "outputs": [],
   "source": [
    "df_top_features = pd.read_csv(f\"Sepsis Code/Feature Importances/{model_type}_\" + prediction_window + \"_SHAPImportantFeatures.csv\")\n",
    "df_top_features = df_top_features.loc[:, ~df_top_features.columns.str.contains('^Unnamed')]\n",
    "df_top_features = df_top_features.iloc[0:100]"
   ]
  },
  {
   "cell_type": "code",
   "execution_count": 11,
   "id": "fcac1bdf",
   "metadata": {},
   "outputs": [],
   "source": [
    "# Getting list of features and shape for eventual score dataframe\n",
    "file = str(420) + '.csv'\n",
    "data = pd.read_csv(data_directory + prediction_directory + \"cleaned/\" + file)\n",
    "data = data.loc[:, ~data.columns.str.contains('^Unnamed')]\n",
    "feats_index = list(data)\n",
    "feats_index.remove('sepsis_label')\n",
    "# 7 hospitals, 1 aggregate\n",
    "feats_score_shape = (len(feats_index), (7+1))"
   ]
  },
  {
   "cell_type": "code",
   "execution_count": 12,
   "id": "963076ca",
   "metadata": {},
   "outputs": [],
   "source": [
    "if do_soft_rankings:\n",
    "    init_data = np.zeros(feats_score_shape)\n",
    "    df_soft_rankings = pd.DataFrame(data = init_data, columns=list(df_top_features), index=feats_index)\n",
    "\n",
    "    s = df_top_features.shape[0] \n",
    "    features = np.unique(df_top_features.values)\n",
    "    for feature in features:\n",
    "        loc = np.where(df_top_features.values == feature)\n",
    "        rows = loc[0]\n",
    "        cols = loc[1]\n",
    "        feature_index = df_soft_rankings.index.get_loc(feature)\n",
    "        for i in range(0, len(cols)):\n",
    "            df_soft_rankings.iloc[feature_index, cols[i]] = np.exp((-1 * (rows[i] + 1))/s)\n",
    "    df_feat_scores = df_soft_rankings"
   ]
  },
  {
   "cell_type": "code",
   "execution_count": 13,
   "id": "a42aef80",
   "metadata": {
    "scrolled": true
   },
   "outputs": [
    {
     "data": {
      "text/html": [
       "<div>\n",
       "<style scoped>\n",
       "    .dataframe tbody tr th:only-of-type {\n",
       "        vertical-align: middle;\n",
       "    }\n",
       "\n",
       "    .dataframe tbody tr th {\n",
       "        vertical-align: top;\n",
       "    }\n",
       "\n",
       "    .dataframe thead th {\n",
       "        text-align: right;\n",
       "    }\n",
       "</style>\n",
       "<table border=\"1\" class=\"dataframe\">\n",
       "  <thead>\n",
       "    <tr style=\"text-align: right;\">\n",
       "      <th></th>\n",
       "      <th>420</th>\n",
       "      <th>122</th>\n",
       "      <th>243</th>\n",
       "      <th>252</th>\n",
       "      <th>458</th>\n",
       "      <th>199</th>\n",
       "      <th>73</th>\n",
       "      <th>Agg</th>\n",
       "    </tr>\n",
       "  </thead>\n",
       "  <tbody>\n",
       "    <tr>\n",
       "      <th>0</th>\n",
       "      <td>PIPERACILLIN</td>\n",
       "      <td>age</td>\n",
       "      <td>PIPERACILLIN</td>\n",
       "      <td>VANCOMYCIN</td>\n",
       "      <td>resprate_min</td>\n",
       "      <td>VANCOMYCIN</td>\n",
       "      <td>PIPERACILLIN</td>\n",
       "      <td>hematocrit_min</td>\n",
       "    </tr>\n",
       "    <tr>\n",
       "      <th>1</th>\n",
       "      <td>MIDAZOLAM</td>\n",
       "      <td>SODIUM CHLORIDE</td>\n",
       "      <td>sysbp_min</td>\n",
       "      <td>ONDANSETRON</td>\n",
       "      <td>bg_baseexcess_min</td>\n",
       "      <td>diasbp_first</td>\n",
       "      <td>sodium_first</td>\n",
       "      <td>VANCOMYCIN</td>\n",
       "    </tr>\n",
       "    <tr>\n",
       "      <th>2</th>\n",
       "      <td>LISPRO</td>\n",
       "      <td>tempc_max</td>\n",
       "      <td>FENTANYL</td>\n",
       "      <td>BMI</td>\n",
       "      <td>heartrate_last</td>\n",
       "      <td>SODIUM CHLORIDE</td>\n",
       "      <td>age</td>\n",
       "      <td>hemoglobin_first</td>\n",
       "    </tr>\n",
       "    <tr>\n",
       "      <th>3</th>\n",
       "      <td>CEFEPIME</td>\n",
       "      <td>bicarbonate_first</td>\n",
       "      <td>ACETAMIN</td>\n",
       "      <td>meanbp_min</td>\n",
       "      <td>bg_pao2_first</td>\n",
       "      <td>tempc_first</td>\n",
       "      <td>electivesurgery</td>\n",
       "      <td>creatinine_first</td>\n",
       "    </tr>\n",
       "    <tr>\n",
       "      <th>4</th>\n",
       "      <td>creatinine_first</td>\n",
       "      <td>diasbp_min</td>\n",
       "      <td>albumin_min</td>\n",
       "      <td>resprate_first</td>\n",
       "      <td>glucose_first</td>\n",
       "      <td>glucose_last</td>\n",
       "      <td>bg_paco2_min</td>\n",
       "      <td>bg_paco2_last</td>\n",
       "    </tr>\n",
       "    <tr>\n",
       "      <th>5</th>\n",
       "      <td>CEFTRIAXONE</td>\n",
       "      <td>bg_baseexcess_max</td>\n",
       "      <td>heartrate_min</td>\n",
       "      <td>tempc_max</td>\n",
       "      <td>hematocrit_min</td>\n",
       "      <td>sysbp_max</td>\n",
       "      <td>bg_paco2_last</td>\n",
       "      <td>wbc_first</td>\n",
       "    </tr>\n",
       "    <tr>\n",
       "      <th>6</th>\n",
       "      <td>bg_ph_min</td>\n",
       "      <td>diasbp_first</td>\n",
       "      <td>race_other</td>\n",
       "      <td>hematocrit_min</td>\n",
       "      <td>tempc_max</td>\n",
       "      <td>spo2_first</td>\n",
       "      <td>HYDROMORPHONE</td>\n",
       "      <td>platelet_last</td>\n",
       "    </tr>\n",
       "    <tr>\n",
       "      <th>7</th>\n",
       "      <td>tempc_max</td>\n",
       "      <td>heartrate_first</td>\n",
       "      <td>sysbp_first</td>\n",
       "      <td>bg_ph_last</td>\n",
       "      <td>hemoglobin_first</td>\n",
       "      <td>POTASSIUM CHLORIDE</td>\n",
       "      <td>REFRESH P.M. OP OINT</td>\n",
       "      <td>bg_baseexcess_min</td>\n",
       "    </tr>\n",
       "    <tr>\n",
       "      <th>8</th>\n",
       "      <td>bg_pao2fio2ratio_last</td>\n",
       "      <td>calcium_last</td>\n",
       "      <td>FUROSEMIDE</td>\n",
       "      <td>meanbp_last</td>\n",
       "      <td>wbc_last</td>\n",
       "      <td>hematocrit_first</td>\n",
       "      <td>ONDANSETRON</td>\n",
       "      <td>bg_baseexcess_first</td>\n",
       "    </tr>\n",
       "    <tr>\n",
       "      <th>9</th>\n",
       "      <td>heartrate_first</td>\n",
       "      <td>diasbp_last</td>\n",
       "      <td>sysbp_max</td>\n",
       "      <td>ACETAMIN</td>\n",
       "      <td>calcium_min</td>\n",
       "      <td>calcium_min</td>\n",
       "      <td>bg_pao2fio2ratio_min</td>\n",
       "      <td>bg_paco2_min</td>\n",
       "    </tr>\n",
       "    <tr>\n",
       "      <th>10</th>\n",
       "      <td>hemoglobin_first</td>\n",
       "      <td>bg_ph_first</td>\n",
       "      <td>CHLORHEXIDINE</td>\n",
       "      <td>glucose_first</td>\n",
       "      <td>potassium_min</td>\n",
       "      <td>creatinine_first</td>\n",
       "      <td>sodium_last</td>\n",
       "      <td>wbc_max</td>\n",
       "    </tr>\n",
       "    <tr>\n",
       "      <th>11</th>\n",
       "      <td>bun_first</td>\n",
       "      <td>meanbp_max</td>\n",
       "      <td>diasbp_last</td>\n",
       "      <td>diasbp_max</td>\n",
       "      <td>wbc_first</td>\n",
       "      <td>hemoglobin_last</td>\n",
       "      <td>FENTANYL</td>\n",
       "      <td>meanbp_min</td>\n",
       "    </tr>\n",
       "    <tr>\n",
       "      <th>12</th>\n",
       "      <td>bg_baseexcess_min</td>\n",
       "      <td>bg_pao2_min</td>\n",
       "      <td>DEXTROSE</td>\n",
       "      <td>bicarbonate_first</td>\n",
       "      <td>sysbp_last</td>\n",
       "      <td>wbc_first</td>\n",
       "      <td>glucose_max</td>\n",
       "      <td>CHLORHEXIDINE</td>\n",
       "    </tr>\n",
       "    <tr>\n",
       "      <th>13</th>\n",
       "      <td>spo2_max</td>\n",
       "      <td>hemoglobin_last</td>\n",
       "      <td>PANTOPRAZOLE</td>\n",
       "      <td>meanbp_max</td>\n",
       "      <td>glucose_last</td>\n",
       "      <td>creatinine_last</td>\n",
       "      <td>bg_baseexcess_last</td>\n",
       "      <td>hematocrit_last</td>\n",
       "    </tr>\n",
       "    <tr>\n",
       "      <th>14</th>\n",
       "      <td>bg_paco2_last</td>\n",
       "      <td>resprate_min</td>\n",
       "      <td>bg_ph_max</td>\n",
       "      <td>wbc_last</td>\n",
       "      <td>hemoglobin_max</td>\n",
       "      <td>wbc_last</td>\n",
       "      <td>CALCIUM GLUCONATE</td>\n",
       "      <td>race_black</td>\n",
       "    </tr>\n",
       "    <tr>\n",
       "      <th>15</th>\n",
       "      <td>resprate_first</td>\n",
       "      <td>bg_ph_last</td>\n",
       "      <td>tempc_max</td>\n",
       "      <td>NOREPINEPHRINE</td>\n",
       "      <td>tempc_first</td>\n",
       "      <td>sysbp_last</td>\n",
       "      <td>tempc_max</td>\n",
       "      <td>hemoglobin_last</td>\n",
       "    </tr>\n",
       "    <tr>\n",
       "      <th>16</th>\n",
       "      <td>sodium_min</td>\n",
       "      <td>bg_paco2_max</td>\n",
       "      <td>lactate_max</td>\n",
       "      <td>bg_paco2_min</td>\n",
       "      <td>IPRATROPIUM</td>\n",
       "      <td>tempc_max</td>\n",
       "      <td>CHLORHEXIDINE</td>\n",
       "      <td>PIPERACILLIN</td>\n",
       "    </tr>\n",
       "    <tr>\n",
       "      <th>17</th>\n",
       "      <td>sysbp_first</td>\n",
       "      <td>bg_baseexcess_first</td>\n",
       "      <td>sysbp_last</td>\n",
       "      <td>is_female</td>\n",
       "      <td>glucose_min</td>\n",
       "      <td>inr_max</td>\n",
       "      <td>bun_first</td>\n",
       "      <td>albumin_min</td>\n",
       "    </tr>\n",
       "    <tr>\n",
       "      <th>18</th>\n",
       "      <td>creatinine_last</td>\n",
       "      <td>resprate_last</td>\n",
       "      <td>bg_paco2_max</td>\n",
       "      <td>FAMOTIDINE</td>\n",
       "      <td>electivesurgery</td>\n",
       "      <td>hemoglobin_max</td>\n",
       "      <td>ASPIRIN</td>\n",
       "      <td>lactate_max</td>\n",
       "    </tr>\n",
       "    <tr>\n",
       "      <th>19</th>\n",
       "      <td>bg_baseexcess_max</td>\n",
       "      <td>glucose_min</td>\n",
       "      <td>inr_max</td>\n",
       "      <td>wbc_first</td>\n",
       "      <td>bg_pao2fio2ratio_max</td>\n",
       "      <td>bg_baseexcess_first</td>\n",
       "      <td>CEFAZOLIN</td>\n",
       "      <td>tempc_max</td>\n",
       "    </tr>\n",
       "  </tbody>\n",
       "</table>\n",
       "</div>"
      ],
      "text/plain": [
       "                      420                  122            243  \\\n",
       "0            PIPERACILLIN                  age   PIPERACILLIN   \n",
       "1               MIDAZOLAM      SODIUM CHLORIDE      sysbp_min   \n",
       "2                  LISPRO            tempc_max       FENTANYL   \n",
       "3                CEFEPIME    bicarbonate_first       ACETAMIN   \n",
       "4        creatinine_first           diasbp_min    albumin_min   \n",
       "5             CEFTRIAXONE    bg_baseexcess_max  heartrate_min   \n",
       "6               bg_ph_min         diasbp_first     race_other   \n",
       "7               tempc_max      heartrate_first    sysbp_first   \n",
       "8   bg_pao2fio2ratio_last         calcium_last     FUROSEMIDE   \n",
       "9         heartrate_first          diasbp_last      sysbp_max   \n",
       "10       hemoglobin_first          bg_ph_first  CHLORHEXIDINE   \n",
       "11              bun_first           meanbp_max    diasbp_last   \n",
       "12      bg_baseexcess_min          bg_pao2_min       DEXTROSE   \n",
       "13               spo2_max      hemoglobin_last   PANTOPRAZOLE   \n",
       "14          bg_paco2_last         resprate_min      bg_ph_max   \n",
       "15         resprate_first           bg_ph_last      tempc_max   \n",
       "16             sodium_min         bg_paco2_max    lactate_max   \n",
       "17            sysbp_first  bg_baseexcess_first     sysbp_last   \n",
       "18        creatinine_last        resprate_last   bg_paco2_max   \n",
       "19      bg_baseexcess_max          glucose_min        inr_max   \n",
       "\n",
       "                  252                   458                  199  \\\n",
       "0          VANCOMYCIN          resprate_min           VANCOMYCIN   \n",
       "1         ONDANSETRON     bg_baseexcess_min         diasbp_first   \n",
       "2                 BMI        heartrate_last      SODIUM CHLORIDE   \n",
       "3          meanbp_min         bg_pao2_first          tempc_first   \n",
       "4      resprate_first         glucose_first         glucose_last   \n",
       "5           tempc_max        hematocrit_min            sysbp_max   \n",
       "6      hematocrit_min             tempc_max           spo2_first   \n",
       "7          bg_ph_last      hemoglobin_first   POTASSIUM CHLORIDE   \n",
       "8         meanbp_last              wbc_last     hematocrit_first   \n",
       "9            ACETAMIN           calcium_min          calcium_min   \n",
       "10      glucose_first         potassium_min     creatinine_first   \n",
       "11         diasbp_max             wbc_first      hemoglobin_last   \n",
       "12  bicarbonate_first            sysbp_last            wbc_first   \n",
       "13         meanbp_max          glucose_last      creatinine_last   \n",
       "14           wbc_last        hemoglobin_max             wbc_last   \n",
       "15     NOREPINEPHRINE           tempc_first           sysbp_last   \n",
       "16       bg_paco2_min           IPRATROPIUM            tempc_max   \n",
       "17          is_female           glucose_min              inr_max   \n",
       "18         FAMOTIDINE       electivesurgery       hemoglobin_max   \n",
       "19          wbc_first  bg_pao2fio2ratio_max  bg_baseexcess_first   \n",
       "\n",
       "                      73                  Agg  \n",
       "0           PIPERACILLIN       hematocrit_min  \n",
       "1           sodium_first           VANCOMYCIN  \n",
       "2                    age     hemoglobin_first  \n",
       "3        electivesurgery     creatinine_first  \n",
       "4           bg_paco2_min        bg_paco2_last  \n",
       "5          bg_paco2_last            wbc_first  \n",
       "6          HYDROMORPHONE        platelet_last  \n",
       "7   REFRESH P.M. OP OINT    bg_baseexcess_min  \n",
       "8            ONDANSETRON  bg_baseexcess_first  \n",
       "9   bg_pao2fio2ratio_min         bg_paco2_min  \n",
       "10           sodium_last              wbc_max  \n",
       "11              FENTANYL           meanbp_min  \n",
       "12           glucose_max        CHLORHEXIDINE  \n",
       "13    bg_baseexcess_last      hematocrit_last  \n",
       "14     CALCIUM GLUCONATE           race_black  \n",
       "15             tempc_max      hemoglobin_last  \n",
       "16         CHLORHEXIDINE         PIPERACILLIN  \n",
       "17             bun_first          albumin_min  \n",
       "18               ASPIRIN          lactate_max  \n",
       "19             CEFAZOLIN            tempc_max  "
      ]
     },
     "execution_count": 13,
     "metadata": {},
     "output_type": "execute_result"
    }
   ],
   "source": [
    "df_top_features.head(20)"
   ]
  },
  {
   "cell_type": "markdown",
   "id": "a816b372",
   "metadata": {},
   "source": [
    "#### Local Feature Importances for First Architecture"
   ]
  },
  {
   "cell_type": "code",
   "execution_count": 14,
   "id": "ab1eb49c",
   "metadata": {},
   "outputs": [],
   "source": [
    "df_top_features_local_first = df_top_features.drop(columns=['Agg'])\n",
    "df_feat_scores_local_first = df_feat_scores.drop(columns=['Agg'])\n",
    "\n",
    "features, counts = np.unique(df_top_features_local_first.values, return_counts=True)\n",
    "props = counts/7\n",
    "feature_site_props_first = {features[i]: props[i] for i in range(len(features))}\n",
    "\n",
    "feature_col_dict_first = dict.fromkeys(features)\n",
    "for feature in feature_col_dict_first:\n",
    "    loc = np.where(df_top_features_local_first.values == feature)\n",
    "    cols = loc[1]\n",
    "    feature_col_dict_first[feature] = cols\n",
    "\n",
    "feature_score_dict_first = dict.fromkeys(features)\n",
    "for feature in feature_score_dict_first:\n",
    "    idx = feature_col_dict_first[feature]\n",
    "    feature_score_dict_first[feature] = df_feat_scores_local_first.iloc[:, idx].loc[feature].values\n",
    "\n",
    "feature_median_dict_first = dict.fromkeys(features)\n",
    "for feature in feature_median_dict_first:\n",
    "    feature_median_dict_first[feature] = np.median(feature_score_dict_first[feature])\n",
    "values_first = feature_median_dict_first.values()"
   ]
  },
  {
   "cell_type": "markdown",
   "id": "80e900b5",
   "metadata": {},
   "source": [
    "#### Aggregate Feature Importances for First Architecture"
   ]
  },
  {
   "cell_type": "code",
   "execution_count": 15,
   "id": "b005cb29",
   "metadata": {},
   "outputs": [],
   "source": [
    "df_top_features_agg_first = df_top_features['Agg']\n",
    "df_feat_scores_agg_first = df_feat_scores['Agg']\n",
    "\n",
    "agg_feature_score_dict_first = dict.fromkeys(df_top_features_agg_first.values)\n",
    "for feature in agg_feature_score_dict_first:\n",
    "    agg_feature_score_dict_first[feature] = df_feat_scores_agg_first.loc[feature]"
   ]
  },
  {
   "cell_type": "markdown",
   "id": "150d6ed0",
   "metadata": {},
   "source": [
    "#### Federated Feature Importances for First Architecture"
   ]
  },
  {
   "cell_type": "code",
   "execution_count": 16,
   "id": "318536aa",
   "metadata": {},
   "outputs": [],
   "source": [
    "df_top_fed_features = pd.read_csv(f\"Sepsis Code/Feature Importances/Federated {model_type}_\" + prediction_window + \"_SHAPImportantFeatures.csv\")\n",
    "df_top_fed_features = df_top_fed_features.loc[:, ~df_top_fed_features.columns.str.contains('^Unnamed')]\n",
    "df_top_fed_features_first = df_top_fed_features.iloc[0:100]"
   ]
  },
  {
   "cell_type": "code",
   "execution_count": 17,
   "id": "9ca52048",
   "metadata": {},
   "outputs": [],
   "source": [
    "if do_soft_rankings:\n",
    "    init_data = np.zeros((len(feats_index), 1))\n",
    "    df_soft_rankings = pd.DataFrame(data = init_data, columns=list(df_top_fed_features_first), index=feats_index)\n",
    "\n",
    "    s = df_top_fed_features_first.shape[0] \n",
    "    features = np.unique(df_top_fed_features_first.values)\n",
    "    for feature in features:\n",
    "        loc = np.where(df_top_fed_features_first.values == feature)\n",
    "        rows = loc[0]\n",
    "        cols = loc[1]\n",
    "        feature_index = df_soft_rankings.index.get_loc(feature)\n",
    "        for i in range(0, len(cols)):\n",
    "            df_soft_rankings.iloc[feature_index, cols[i]] = np.exp((-1 * (rows[i] + 1))/s)\n",
    "    df_fed_feat_scores_first = df_soft_rankings"
   ]
  },
  {
   "cell_type": "code",
   "execution_count": 18,
   "id": "f7bdbcda",
   "metadata": {},
   "outputs": [],
   "source": [
    "df_all_scores_first = pd.merge(df_feat_scores, df_fed_feat_scores_first, left_index=True, right_index=True)"
   ]
  },
  {
   "cell_type": "code",
   "execution_count": 19,
   "id": "d27da715",
   "metadata": {},
   "outputs": [],
   "source": [
    "df_top_features_fed_first = df_top_fed_features_first['fed']\n",
    "df_feat_scores_fed_first = df_all_scores_first['fed']"
   ]
  },
  {
   "cell_type": "code",
   "execution_count": 20,
   "id": "7fba562c",
   "metadata": {},
   "outputs": [],
   "source": [
    "fed_feature_score_dict_first = dict.fromkeys(df_top_features_fed_first.values)\n",
    "for feature in fed_feature_score_dict_first:\n",
    "    fed_feature_score_dict_first[feature] = df_feat_scores_fed_first.loc[feature]"
   ]
  },
  {
   "cell_type": "markdown",
   "id": "9409ec50",
   "metadata": {},
   "source": [
    "#### Loading in Files for Second Architecture"
   ]
  },
  {
   "cell_type": "code",
   "execution_count": 21,
   "id": "21dc27e3",
   "metadata": {},
   "outputs": [],
   "source": [
    "model_type = 'XGBoost'"
   ]
  },
  {
   "cell_type": "code",
   "execution_count": 22,
   "id": "f1da9cf3",
   "metadata": {},
   "outputs": [],
   "source": [
    "df_top_features = pd.read_csv(f\"Sepsis Code/Feature Importances/{model_type}_\" + prediction_window + \"_SHAPImportantFeatures.csv\")\n",
    "df_top_features = df_top_features.loc[:, ~df_top_features.columns.str.contains('^Unnamed')]\n",
    "df_top_features = df_top_features.iloc[0:100]"
   ]
  },
  {
   "cell_type": "code",
   "execution_count": 23,
   "id": "ceca32af",
   "metadata": {},
   "outputs": [],
   "source": [
    "if do_soft_rankings:\n",
    "    init_data = np.zeros(feats_score_shape)\n",
    "    df_soft_rankings = pd.DataFrame(data = init_data, columns=list(df_top_features), index=feats_index)\n",
    "\n",
    "    s = df_top_features.shape[0] \n",
    "    features = np.unique(df_top_features.values)\n",
    "    for feature in features:\n",
    "        loc = np.where(df_top_features.values == feature)\n",
    "        rows = loc[0]\n",
    "        cols = loc[1]\n",
    "        feature_index = df_soft_rankings.index.get_loc(feature)\n",
    "        for i in range(0, len(cols)):\n",
    "            df_soft_rankings.iloc[feature_index, cols[i]] = np.exp((-1 * (rows[i] + 1))/s)\n",
    "    df_feat_scores = df_soft_rankings"
   ]
  },
  {
   "cell_type": "code",
   "execution_count": 24,
   "id": "fd9fcb0e",
   "metadata": {
    "scrolled": true
   },
   "outputs": [
    {
     "data": {
      "text/html": [
       "<div>\n",
       "<style scoped>\n",
       "    .dataframe tbody tr th:only-of-type {\n",
       "        vertical-align: middle;\n",
       "    }\n",
       "\n",
       "    .dataframe tbody tr th {\n",
       "        vertical-align: top;\n",
       "    }\n",
       "\n",
       "    .dataframe thead th {\n",
       "        text-align: right;\n",
       "    }\n",
       "</style>\n",
       "<table border=\"1\" class=\"dataframe\">\n",
       "  <thead>\n",
       "    <tr style=\"text-align: right;\">\n",
       "      <th></th>\n",
       "      <th>420</th>\n",
       "      <th>122</th>\n",
       "      <th>243</th>\n",
       "      <th>252</th>\n",
       "      <th>458</th>\n",
       "      <th>199</th>\n",
       "      <th>73</th>\n",
       "      <th>Agg</th>\n",
       "    </tr>\n",
       "  </thead>\n",
       "  <tbody>\n",
       "    <tr>\n",
       "      <th>0</th>\n",
       "      <td>PIPERACILLIN</td>\n",
       "      <td>tempc_max</td>\n",
       "      <td>PIPERACILLIN</td>\n",
       "      <td>VANCOMYCIN</td>\n",
       "      <td>creatinine_first</td>\n",
       "      <td>VANCOMYCIN</td>\n",
       "      <td>PIPERACILLIN</td>\n",
       "      <td>VANCOMYCIN</td>\n",
       "    </tr>\n",
       "    <tr>\n",
       "      <th>1</th>\n",
       "      <td>CEFEPIME</td>\n",
       "      <td>age</td>\n",
       "      <td>sysbp_min</td>\n",
       "      <td>resprate_first</td>\n",
       "      <td>resprate_min</td>\n",
       "      <td>tempc_first</td>\n",
       "      <td>bun_first</td>\n",
       "      <td>resprate_first</td>\n",
       "    </tr>\n",
       "    <tr>\n",
       "      <th>2</th>\n",
       "      <td>CEFTRIAXONE</td>\n",
       "      <td>resprate_min</td>\n",
       "      <td>FENTANYL</td>\n",
       "      <td>heartrate_first</td>\n",
       "      <td>ALBUTEROL</td>\n",
       "      <td>creatinine_first</td>\n",
       "      <td>bg_paco2_last</td>\n",
       "      <td>tempc_max</td>\n",
       "    </tr>\n",
       "    <tr>\n",
       "      <th>3</th>\n",
       "      <td>MIDAZOLAM</td>\n",
       "      <td>heartrate_first</td>\n",
       "      <td>albumin_min</td>\n",
       "      <td>creatinine_first</td>\n",
       "      <td>creatinine_max</td>\n",
       "      <td>tempc_max</td>\n",
       "      <td>diasbp_first</td>\n",
       "      <td>PIPERACILLIN</td>\n",
       "    </tr>\n",
       "    <tr>\n",
       "      <th>4</th>\n",
       "      <td>creatinine_first</td>\n",
       "      <td>resprate_first</td>\n",
       "      <td>albumin_first</td>\n",
       "      <td>heartrate_max</td>\n",
       "      <td>calcium_min</td>\n",
       "      <td>heartrate_max</td>\n",
       "      <td>CEFAZOLIN</td>\n",
       "      <td>NITROGLYCERIN</td>\n",
       "    </tr>\n",
       "    <tr>\n",
       "      <th>5</th>\n",
       "      <td>resprate_first</td>\n",
       "      <td>heartrate_min</td>\n",
       "      <td>meanbp_min</td>\n",
       "      <td>tempc_min</td>\n",
       "      <td>bg_baseexcess_max</td>\n",
       "      <td>heartrate_first</td>\n",
       "      <td>BMI</td>\n",
       "      <td>resprate_min</td>\n",
       "    </tr>\n",
       "    <tr>\n",
       "      <th>6</th>\n",
       "      <td>tempc_max</td>\n",
       "      <td>diasbp_min</td>\n",
       "      <td>bg_paco2_max</td>\n",
       "      <td>tempc_max</td>\n",
       "      <td>calcium_last</td>\n",
       "      <td>resprate_first</td>\n",
       "      <td>bun_max</td>\n",
       "      <td>bg_baseexcess_last</td>\n",
       "    </tr>\n",
       "    <tr>\n",
       "      <th>7</th>\n",
       "      <td>heartrate_first</td>\n",
       "      <td>albumin_last</td>\n",
       "      <td>resprate_max</td>\n",
       "      <td>BMI</td>\n",
       "      <td>tempc_first</td>\n",
       "      <td>diasbp_first</td>\n",
       "      <td>creatinine_last</td>\n",
       "      <td>sysbp_min</td>\n",
       "    </tr>\n",
       "    <tr>\n",
       "      <th>8</th>\n",
       "      <td>CEFAZOLIN</td>\n",
       "      <td>resprate_last</td>\n",
       "      <td>spo2_min</td>\n",
       "      <td>heartrate_last</td>\n",
       "      <td>tempc_max</td>\n",
       "      <td>sysbp_first</td>\n",
       "      <td>glucose_max</td>\n",
       "      <td>creatinine_first</td>\n",
       "    </tr>\n",
       "    <tr>\n",
       "      <th>9</th>\n",
       "      <td>glucose_min</td>\n",
       "      <td>SODIUM CHLORIDE</td>\n",
       "      <td>creatinine_max</td>\n",
       "      <td>CEFAZOLIN</td>\n",
       "      <td>bun_max</td>\n",
       "      <td>resprate_max</td>\n",
       "      <td>tempc_first</td>\n",
       "      <td>heartrate_first</td>\n",
       "    </tr>\n",
       "    <tr>\n",
       "      <th>10</th>\n",
       "      <td>resprate_max</td>\n",
       "      <td>heartrate_max</td>\n",
       "      <td>spo2_first</td>\n",
       "      <td>SODIUM CHLORIDE</td>\n",
       "      <td>meanbp_min</td>\n",
       "      <td>creatinine_max</td>\n",
       "      <td>wbc_last</td>\n",
       "      <td>heartrate_max</td>\n",
       "    </tr>\n",
       "    <tr>\n",
       "      <th>11</th>\n",
       "      <td>bilirubin_max</td>\n",
       "      <td>bicarbonate_first</td>\n",
       "      <td>resprate_first</td>\n",
       "      <td>urineoutput_sum</td>\n",
       "      <td>diasbp_min</td>\n",
       "      <td>bg_pao2_first</td>\n",
       "      <td>meanbp_max</td>\n",
       "      <td>bg_baseexcess_min</td>\n",
       "    </tr>\n",
       "    <tr>\n",
       "      <th>12</th>\n",
       "      <td>heartrate_max</td>\n",
       "      <td>tempc_first</td>\n",
       "      <td>CHLORHEXIDINE</td>\n",
       "      <td>tempc_first</td>\n",
       "      <td>bg_baseexcess_min</td>\n",
       "      <td>sysbp_last</td>\n",
       "      <td>lactate_last</td>\n",
       "      <td>electivesurgery</td>\n",
       "    </tr>\n",
       "    <tr>\n",
       "      <th>13</th>\n",
       "      <td>age</td>\n",
       "      <td>tempc_last</td>\n",
       "      <td>bicarbonate_max</td>\n",
       "      <td>bg_pao2fio2ratio_first</td>\n",
       "      <td>glucose_last</td>\n",
       "      <td>diasbp_min</td>\n",
       "      <td>resprate_first</td>\n",
       "      <td>SODIUM CHLORIDE</td>\n",
       "    </tr>\n",
       "    <tr>\n",
       "      <th>14</th>\n",
       "      <td>creatinine_min</td>\n",
       "      <td>hematocrit_first</td>\n",
       "      <td>sysbp_last</td>\n",
       "      <td>sysbp_last</td>\n",
       "      <td>resprate_max</td>\n",
       "      <td>calcium_min</td>\n",
       "      <td>glucose_last</td>\n",
       "      <td>bun_max</td>\n",
       "    </tr>\n",
       "    <tr>\n",
       "      <th>15</th>\n",
       "      <td>METRONIDAZOLE</td>\n",
       "      <td>bg_paco2_first</td>\n",
       "      <td>creatinine_min</td>\n",
       "      <td>heartrate_min</td>\n",
       "      <td>sysbp_min</td>\n",
       "      <td>age</td>\n",
       "      <td>heartrate_first</td>\n",
       "      <td>tempc_last</td>\n",
       "    </tr>\n",
       "    <tr>\n",
       "      <th>16</th>\n",
       "      <td>inr_first</td>\n",
       "      <td>resprate_max</td>\n",
       "      <td>hematocrit_max</td>\n",
       "      <td>NOREPINEPHRINE</td>\n",
       "      <td>bg_pao2_first</td>\n",
       "      <td>meanbp_first</td>\n",
       "      <td>tempc_max</td>\n",
       "      <td>bg_pao2_max</td>\n",
       "    </tr>\n",
       "    <tr>\n",
       "      <th>17</th>\n",
       "      <td>AMINOCAPROIC ACID</td>\n",
       "      <td>diasbp_first</td>\n",
       "      <td>tempc_max</td>\n",
       "      <td>bg_pao2_min</td>\n",
       "      <td>glucose_first</td>\n",
       "      <td>wbc_min</td>\n",
       "      <td>bg_pao2_max</td>\n",
       "      <td>CEFAZOLIN</td>\n",
       "    </tr>\n",
       "    <tr>\n",
       "      <th>18</th>\n",
       "      <td>VANCOMYCIN</td>\n",
       "      <td>albumin_first</td>\n",
       "      <td>tempc_min</td>\n",
       "      <td>bg_baseexcess_max</td>\n",
       "      <td>sysbp_first</td>\n",
       "      <td>bg_pao2_max</td>\n",
       "      <td>tempc_min</td>\n",
       "      <td>creatinine_max</td>\n",
       "    </tr>\n",
       "    <tr>\n",
       "      <th>19</th>\n",
       "      <td>diasbp_min</td>\n",
       "      <td>albumin_max</td>\n",
       "      <td>bun_first</td>\n",
       "      <td>resprate_min</td>\n",
       "      <td>albumin_last</td>\n",
       "      <td>calcium_last</td>\n",
       "      <td>hematocrit_min</td>\n",
       "      <td>bun_min</td>\n",
       "    </tr>\n",
       "  </tbody>\n",
       "</table>\n",
       "</div>"
      ],
      "text/plain": [
       "                  420                122              243  \\\n",
       "0        PIPERACILLIN          tempc_max     PIPERACILLIN   \n",
       "1            CEFEPIME                age        sysbp_min   \n",
       "2         CEFTRIAXONE       resprate_min         FENTANYL   \n",
       "3           MIDAZOLAM    heartrate_first      albumin_min   \n",
       "4    creatinine_first     resprate_first    albumin_first   \n",
       "5      resprate_first      heartrate_min       meanbp_min   \n",
       "6           tempc_max         diasbp_min     bg_paco2_max   \n",
       "7     heartrate_first       albumin_last     resprate_max   \n",
       "8           CEFAZOLIN      resprate_last         spo2_min   \n",
       "9         glucose_min    SODIUM CHLORIDE   creatinine_max   \n",
       "10       resprate_max      heartrate_max       spo2_first   \n",
       "11      bilirubin_max  bicarbonate_first   resprate_first   \n",
       "12      heartrate_max        tempc_first    CHLORHEXIDINE   \n",
       "13                age         tempc_last  bicarbonate_max   \n",
       "14     creatinine_min   hematocrit_first       sysbp_last   \n",
       "15      METRONIDAZOLE     bg_paco2_first   creatinine_min   \n",
       "16          inr_first       resprate_max   hematocrit_max   \n",
       "17  AMINOCAPROIC ACID       diasbp_first        tempc_max   \n",
       "18         VANCOMYCIN      albumin_first        tempc_min   \n",
       "19         diasbp_min        albumin_max        bun_first   \n",
       "\n",
       "                       252                458               199  \\\n",
       "0               VANCOMYCIN   creatinine_first        VANCOMYCIN   \n",
       "1           resprate_first       resprate_min       tempc_first   \n",
       "2          heartrate_first          ALBUTEROL  creatinine_first   \n",
       "3         creatinine_first     creatinine_max         tempc_max   \n",
       "4            heartrate_max        calcium_min     heartrate_max   \n",
       "5                tempc_min  bg_baseexcess_max   heartrate_first   \n",
       "6                tempc_max       calcium_last    resprate_first   \n",
       "7                      BMI        tempc_first      diasbp_first   \n",
       "8           heartrate_last          tempc_max       sysbp_first   \n",
       "9                CEFAZOLIN            bun_max      resprate_max   \n",
       "10         SODIUM CHLORIDE         meanbp_min    creatinine_max   \n",
       "11         urineoutput_sum         diasbp_min     bg_pao2_first   \n",
       "12             tempc_first  bg_baseexcess_min        sysbp_last   \n",
       "13  bg_pao2fio2ratio_first       glucose_last        diasbp_min   \n",
       "14              sysbp_last       resprate_max       calcium_min   \n",
       "15           heartrate_min          sysbp_min               age   \n",
       "16          NOREPINEPHRINE      bg_pao2_first      meanbp_first   \n",
       "17             bg_pao2_min      glucose_first           wbc_min   \n",
       "18       bg_baseexcess_max        sysbp_first       bg_pao2_max   \n",
       "19            resprate_min       albumin_last      calcium_last   \n",
       "\n",
       "                 73                 Agg  \n",
       "0      PIPERACILLIN          VANCOMYCIN  \n",
       "1         bun_first      resprate_first  \n",
       "2     bg_paco2_last           tempc_max  \n",
       "3      diasbp_first        PIPERACILLIN  \n",
       "4         CEFAZOLIN       NITROGLYCERIN  \n",
       "5               BMI        resprate_min  \n",
       "6           bun_max  bg_baseexcess_last  \n",
       "7   creatinine_last           sysbp_min  \n",
       "8       glucose_max    creatinine_first  \n",
       "9       tempc_first     heartrate_first  \n",
       "10         wbc_last       heartrate_max  \n",
       "11       meanbp_max   bg_baseexcess_min  \n",
       "12     lactate_last     electivesurgery  \n",
       "13   resprate_first     SODIUM CHLORIDE  \n",
       "14     glucose_last             bun_max  \n",
       "15  heartrate_first          tempc_last  \n",
       "16        tempc_max         bg_pao2_max  \n",
       "17      bg_pao2_max           CEFAZOLIN  \n",
       "18        tempc_min      creatinine_max  \n",
       "19   hematocrit_min             bun_min  "
      ]
     },
     "execution_count": 24,
     "metadata": {},
     "output_type": "execute_result"
    }
   ],
   "source": [
    "df_top_features.head(20)"
   ]
  },
  {
   "cell_type": "markdown",
   "id": "2c128ed1",
   "metadata": {},
   "source": [
    "#### Local Feature Importances for Second Architecture"
   ]
  },
  {
   "cell_type": "code",
   "execution_count": 25,
   "id": "8c7fd2cb",
   "metadata": {},
   "outputs": [],
   "source": [
    "df_top_features_local_sec = df_top_features.drop(columns=['Agg'])\n",
    "df_feat_scores_local_sec = df_feat_scores.drop(columns=['Agg'])\n",
    "\n",
    "features, counts = np.unique(df_top_features_local_sec.values, return_counts=True)\n",
    "props = counts/7\n",
    "feature_site_props_sec = {features[i]: props[i] for i in range(len(features))}\n",
    "\n",
    "feature_col_dict_sec = dict.fromkeys(features)\n",
    "for feature in feature_col_dict_sec:\n",
    "    loc = np.where(df_top_features_local_sec.values == feature)\n",
    "    cols = loc[1]\n",
    "    feature_col_dict_sec[feature] = cols\n",
    "\n",
    "feature_score_dict_sec = dict.fromkeys(features)\n",
    "for feature in feature_score_dict_sec:\n",
    "    idx = feature_col_dict_sec[feature]\n",
    "    feature_score_dict_sec[feature] = df_feat_scores_local_sec.iloc[:, idx].loc[feature].values\n",
    "\n",
    "feature_median_dict_sec = dict.fromkeys(features)\n",
    "for feature in feature_median_dict_sec:\n",
    "    feature_median_dict_sec[feature] = np.median(feature_score_dict_sec[feature])\n",
    "values_sec = feature_median_dict_sec.values()"
   ]
  },
  {
   "cell_type": "markdown",
   "id": "0ef9e50c",
   "metadata": {},
   "source": [
    "#### Aggregate Feature Importances for Second Architecture"
   ]
  },
  {
   "cell_type": "code",
   "execution_count": 26,
   "id": "3ff7c270",
   "metadata": {},
   "outputs": [],
   "source": [
    "df_top_features_agg_sec = df_top_features['Agg']\n",
    "df_feat_scores_agg_sec = df_feat_scores['Agg']"
   ]
  },
  {
   "cell_type": "code",
   "execution_count": 27,
   "id": "50d2c682",
   "metadata": {},
   "outputs": [],
   "source": [
    "agg_feature_score_dict_sec = dict.fromkeys(df_top_features_agg_sec.values)\n",
    "for feature in agg_feature_score_dict_sec:\n",
    "    agg_feature_score_dict_sec[feature] = df_feat_scores_agg_sec.loc[feature]"
   ]
  },
  {
   "cell_type": "markdown",
   "id": "7c006178",
   "metadata": {},
   "source": [
    "#### Federated Feature Importances for Second Architecture"
   ]
  },
  {
   "cell_type": "code",
   "execution_count": 28,
   "id": "ff3dfc6f",
   "metadata": {},
   "outputs": [],
   "source": [
    "df_top_fed_features = pd.read_csv(f\"Sepsis Code/Feature Importances/Federated {model_type}_\" + prediction_window + \"_SHAPImportantFeatures.csv\")\n",
    "df_top_fed_features = df_top_fed_features.loc[:, ~df_top_fed_features.columns.str.contains('^Unnamed')]\n",
    "df_top_fed_features_sec = df_top_fed_features.iloc[0:100]"
   ]
  },
  {
   "cell_type": "code",
   "execution_count": 29,
   "id": "3a01d66c",
   "metadata": {},
   "outputs": [],
   "source": [
    "if do_soft_rankings:\n",
    "    init_data = np.zeros((len(feats_index), 1))\n",
    "    df_soft_rankings = pd.DataFrame(data = init_data, columns=list(df_top_fed_features_sec), index=feats_index)\n",
    "\n",
    "    s = df_top_fed_features_sec.shape[0] \n",
    "    features = np.unique(df_top_fed_features_sec.values)\n",
    "    for feature in features:\n",
    "        loc = np.where(df_top_fed_features_sec.values == feature)\n",
    "        rows = loc[0]\n",
    "        cols = loc[1]\n",
    "        feature_index = df_soft_rankings.index.get_loc(feature)\n",
    "        for i in range(0, len(cols)):\n",
    "            df_soft_rankings.iloc[feature_index, cols[i]] = np.exp((-1 * (rows[i] + 1))/s)\n",
    "    df_fed_feat_scores_sec = df_soft_rankings"
   ]
  },
  {
   "cell_type": "code",
   "execution_count": 30,
   "id": "dc738848",
   "metadata": {},
   "outputs": [],
   "source": [
    "df_all_scores_sec = pd.merge(df_feat_scores, df_fed_feat_scores_sec, left_index=True, right_index=True)"
   ]
  },
  {
   "cell_type": "code",
   "execution_count": 31,
   "id": "62dfecbb",
   "metadata": {},
   "outputs": [],
   "source": [
    "df_top_features_fed_sec = df_top_fed_features_sec['fed']\n",
    "df_feat_scores_fed_sec = df_all_scores_sec['fed']"
   ]
  },
  {
   "cell_type": "code",
   "execution_count": 32,
   "id": "89d7b4c6",
   "metadata": {},
   "outputs": [],
   "source": [
    "fed_feature_score_dict_sec = dict.fromkeys(df_top_features_fed_sec.values)\n",
    "for feature in fed_feature_score_dict_sec:\n",
    "    fed_feature_score_dict_sec[feature] = df_feat_scores_fed_sec.loc[feature]"
   ]
  },
  {
   "cell_type": "markdown",
   "id": "86308d72",
   "metadata": {},
   "source": [
    "### Comparison Analysis Between Models"
   ]
  },
  {
   "cell_type": "markdown",
   "id": "66199ec5",
   "metadata": {},
   "source": [
    "#### At Each Hospital"
   ]
  },
  {
   "cell_type": "code",
   "execution_count": 33,
   "id": "e00be827",
   "metadata": {},
   "outputs": [
    {
     "data": {
      "image/png": "[encoded data removed]",
      "text/plain": [
       "<Figure size 1440x432 with 3 Axes>"
      ]
     },
     "metadata": {
      "needs_background": "light"
     },
     "output_type": "display_data"
    },
    {
     "data": {
      "text/plain": [
       "<Figure size 432x432 with 0 Axes>"
      ]
     },
     "metadata": {},
     "output_type": "display_data"
    },
    {
     "data": {
      "text/plain": [
       "<Figure size 432x432 with 0 Axes>"
      ]
     },
     "metadata": {},
     "output_type": "display_data"
    },
    {
     "data": {
      "text/plain": [
       "<Figure size 432x432 with 0 Axes>"
      ]
     },
     "metadata": {},
     "output_type": "display_data"
    }
   ],
   "source": [
    "num_rows = 1\n",
    "num_cols = 3\n",
    "\n",
    "fig, axes = plt.subplots(nrows=num_rows, ncols=num_cols, figsize=(20,6))\n",
    "# fig.delaxes(axes[(2, 1)])\n",
    "# fig.delaxes(axes[(2, 2)])\n",
    "colors = ['b', 'g', 'r', 'c', 'm', 'y', 'k']\n",
    "\n",
    "select_hosps = ['420', '252', '73']\n",
    "for i, hosp in enumerate(select_hosps):\n",
    "    hosp_local_dict_first = dict(zip(df_all_scores_first.index, df_all_scores_first[hosp]))\n",
    "    hosp_local_dict_sec = dict(zip(df_all_scores_sec.index, df_all_scores_sec[hosp]))\n",
    "    hosp_local_dict_first = {x:y for x,y in hosp_local_dict_first.items() if y!=0}\n",
    "    hosp_local_dict_sec = {x:y for x,y in hosp_local_dict_sec.items() if y!=0}\n",
    "\n",
    "    df_first = pd.DataFrame(data={'feature':hosp_local_dict_first.keys(), 'First Architecture Importances':hosp_local_dict_first.values()})\n",
    "    df_sec = pd.DataFrame(data={'feature':hosp_local_dict_sec.keys(), 'Second Architecture Importances':hosp_local_dict_sec.values()})\n",
    "\n",
    "    plt.figure(figsize=(6,6))        \n",
    "\n",
    "    df_plot = pd.merge(df_first, df_sec, on='feature')\n",
    "    first_arch_values = df_plot['First Architecture Importances'].values\n",
    "    second_arch_values = df_plot['Second Architecture Importances'].values     \n",
    "\n",
    "    slope, intercept, r_value, p_value, std_err = scipy.stats.linregress(first_arch_values, second_arch_values)\n",
    "    my_rho = np.corrcoef(first_arch_values, second_arch_values)\n",
    "\n",
    "#     ax = axes[divmod(i, num_cols)]\n",
    "    ax = axes[i]\n",
    "    g = sns.regplot(data=df_plot, x=\"First Architecture Importances\", y=\"Second Architecture Importances\", ax=ax, color=colors[i])\n",
    "    g.set_xlabel(\"MLP Importances\")\n",
    "    g.set_ylabel(\"LR Importances\")\n",
    "    ax.set_title(hosp + \" Feature Importances Between Architectures, PC = {}\".format(np.round(my_rho[0, 1], 2)))\n",
    "    \n",
    "plt.tight_layout()"
   ]
  },
  {
   "cell_type": "markdown",
   "id": "1e5072f8",
   "metadata": {},
   "source": [
    "#### Across All Hospitals"
   ]
  },
  {
   "cell_type": "code",
   "execution_count": 34,
   "id": "e74b314b",
   "metadata": {},
   "outputs": [
    {
     "data": {
      "text/plain": [
       "Text(0.5, 1.0, 'Local Hospital Feature Importances Between Architectures, PC = 0.36')"
      ]
     },
     "execution_count": 34,
     "metadata": {},
     "output_type": "execute_result"
    },
    {
     "data": {
      "image/png": "[encoded data removed]",
      "text/plain": [
       "<Figure size 432x432 with 1 Axes>"
      ]
     },
     "metadata": {
      "needs_background": "light"
     },
     "output_type": "display_data"
    }
   ],
   "source": [
    "df_first = pd.DataFrame(data={'feature':feature_median_dict_first.keys(), 'First Architecture Importances':feature_median_dict_first.values()})\n",
    "df_sec = pd.DataFrame(data={'feature':feature_median_dict_sec.keys(), 'Second Architecture Importances':feature_median_dict_sec.values()})\n",
    "\n",
    "plt.figure(figsize=(6,6))        \n",
    "\n",
    "df_plot = pd.merge(df_first, df_sec, on='feature')\n",
    "first_arch_values = df_plot['First Architecture Importances'].values\n",
    "second_arch_values = df_plot['Second Architecture Importances'].values   \n",
    "\n",
    "slope, intercept, r_value, p_value, std_err = scipy.stats.linregress(first_arch_values, second_arch_values)\n",
    "my_rho = np.corrcoef(first_arch_values, second_arch_values)\n",
    "\n",
    "g = sns.regplot(data=df_plot, x=\"First Architecture Importances\", y=\"Second Architecture Importances\")\n",
    "g.set_xlabel(\"MLP Importances\")\n",
    "g.set_ylabel(\"LR Importances\")\n",
    "plt.title(\"Local Hospital Feature Importances Between Architectures, PC = {}\".format(np.round(my_rho[0, 1], 2)))"
   ]
  },
  {
   "cell_type": "markdown",
   "id": "e1151353",
   "metadata": {},
   "source": [
    "#### Pooled Data"
   ]
  },
  {
   "cell_type": "code",
   "execution_count": 35,
   "id": "4b4026e3",
   "metadata": {},
   "outputs": [
    {
     "data": {
      "text/plain": [
       "Text(0.5, 1.0, 'Pooled Data Feature Importances Between Architectures, PC = 0.16')"
      ]
     },
     "execution_count": 35,
     "metadata": {},
     "output_type": "execute_result"
    },
    {
     "data": {
      "image/png": "[encoded data removed]",
      "text/plain": [
       "<Figure size 432x432 with 1 Axes>"
      ]
     },
     "metadata": {
      "needs_background": "light"
     },
     "output_type": "display_data"
    }
   ],
   "source": [
    "df_first = pd.DataFrame(data={'feature':agg_feature_score_dict_first.keys(), 'First Architecture Importances':agg_feature_score_dict_first.values()})\n",
    "df_sec = pd.DataFrame(data={'feature':agg_feature_score_dict_sec.keys(), 'Second Architecture Importances':agg_feature_score_dict_sec.values()})\n",
    "\n",
    "plt.figure(figsize=(6,6))        \n",
    "\n",
    "df_plot = pd.merge(df_first, df_sec, on='feature')\n",
    "first_arch_values = df_plot['First Architecture Importances'].values\n",
    "second_arch_values = df_plot['Second Architecture Importances'].values\n",
    "\n",
    "slope, intercept, r_value, p_value, std_err = scipy.stats.linregress(first_arch_values, second_arch_values)\n",
    "my_rho = np.corrcoef(first_arch_values, second_arch_values)\n",
    "\n",
    "g = sns.regplot(data=df_plot, x=\"First Architecture Importances\", y=\"Second Architecture Importances\")\n",
    "g.set_xlabel(\"MLP Importances\")\n",
    "g.set_ylabel(\"LR Importances\")\n",
    "plt.title(\"Pooled Data Feature Importances Between Architectures, PC = {}\".format(np.round(my_rho[0, 1], 2)))"
   ]
  },
  {
   "cell_type": "markdown",
   "id": "1dcef713",
   "metadata": {},
   "source": [
    "#### Federated Environments"
   ]
  },
  {
   "cell_type": "code",
   "execution_count": 36,
   "id": "9b8e4e66",
   "metadata": {},
   "outputs": [
    {
     "data": {
      "text/plain": [
       "Text(0.5, 1.0, 'Federated Feature Importances Between Architectures, PC = 0.26')"
      ]
     },
     "execution_count": 36,
     "metadata": {},
     "output_type": "execute_result"
    },
    {
     "data": {
      "image/png": "[encoded data removed]",
      "text/plain": [
       "<Figure size 432x432 with 1 Axes>"
      ]
     },
     "metadata": {
      "needs_background": "light"
     },
     "output_type": "display_data"
    }
   ],
   "source": [
    "df_first = pd.DataFrame(data={'feature':fed_feature_score_dict_first.keys(), 'First Architecture Importances':fed_feature_score_dict_first.values()})\n",
    "df_sec = pd.DataFrame(data={'feature':fed_feature_score_dict_sec.keys(), 'Second Architecture Importances':fed_feature_score_dict_sec.values()})\n",
    "\n",
    "plt.figure(figsize=(6,6))        \n",
    "\n",
    "df_plot = pd.merge(df_first, df_sec, on='feature')\n",
    "first_arch_values = df_plot['First Architecture Importances'].values\n",
    "second_arch_values = df_plot['Second Architecture Importances'].values\n",
    "\n",
    "slope, intercept, r_value, p_value, std_err = scipy.stats.linregress(first_arch_values, second_arch_values)\n",
    "my_rho = np.corrcoef(first_arch_values, second_arch_values)\n",
    "\n",
    "g = sns.regplot(data=df_plot, x=\"First Architecture Importances\", y=\"Second Architecture Importances\")\n",
    "g.set_xlabel(\"MLP Importances\")\n",
    "g.set_ylabel(\"LR Importances\")\n",
    "plt.title(\"Federated Feature Importances Between Architectures, PC = {}\".format(np.round(my_rho[0, 1], 2)))"
   ]
  }
 ],
 "metadata": {
  "kernelspec": {
   "display_name": "Python 3 (ipykernel)",
   "language": "python",
   "name": "python3"
  },
  "language_info": {
   "codemirror_mode": {
    "name": "ipython",
    "version": 3
   },
   "file_extension": ".py",
   "mimetype": "text/x-python",
   "name": "python",
   "nbconvert_exporter": "python",
   "pygments_lexer": "ipython3",
   "version": "3.8.12"
  }
 },
 "nbformat": 4,
 "nbformat_minor": 5
}
