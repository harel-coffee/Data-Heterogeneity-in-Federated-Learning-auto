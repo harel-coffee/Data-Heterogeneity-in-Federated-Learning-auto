{
 "cells": [
  {
   "cell_type": "code",
   "execution_count": 1,
   "id": "93e3d229",
   "metadata": {},
   "outputs": [],
   "source": [
    "import numpy as np\n",
    "import pandas as pd\n",
    "import os\n",
    "import pprint\n",
    "import sklearn\n",
    "from sklearn import preprocessing\n",
    "from sklearn.decomposition import PCA\n",
    "import warnings\n",
    "import matplotlib\n",
    "from os import listdir\n",
    "import seaborn as sns\n",
    "import scipy\n",
    "import sys\n",
    "import pickle\n",
    "import miceforest as mf\n",
    "warnings.filterwarnings(\"ignore\")\n",
    "import functools\n",
    "from functools import reduce\n",
    "from mc4.algorithm import mc4_aggregator\n",
    "from copy import deepcopy\n",
    "\n",
    "import sklearn.neighbors._base\n",
    "sys.modules['sklearn.neighbors.base'] = sklearn.neighbors._base\n",
    "\n",
    "from sklearn.preprocessing import StandardScaler, MinMaxScaler\n",
    "import missingpy\n",
    "from sklearn.experimental import enable_iterative_imputer\n",
    "from sklearn.model_selection import train_test_split\n",
    "from sklearn.ensemble import RandomForestClassifier\n",
    "from sklearn.metrics import classification_report, confusion_matrix, accuracy_score, ConfusionMatrixDisplay\n",
    "from sklearn.metrics import brier_score_loss, precision_score, recall_score, f1_score, log_loss, roc_auc_score\n",
    "from collections import Counter\n",
    "import torch\n",
    "from torch import nn\n",
    "import torch.nn.functional as F\n",
    "from tqdm import tqdm\n",
    "\n",
    "import warnings\n",
    "warnings.filterwarnings(\"ignore\")\n",
    "\n",
    "from imblearn.over_sampling import SMOTE\n",
    "from imblearn.under_sampling import RandomUnderSampler\n",
    "from imblearn.over_sampling import RandomOverSampler\n",
    "from imblearn.under_sampling import TomekLinks\n",
    "from imblearn.under_sampling import NearMiss\n",
    "from collections import Counter\n",
    "\n",
    "import shap\n",
    "import matplotlib.pyplot as plt\n",
    "import statsmodels.api as sm\n",
    "from torch.utils.data import Dataset, DataLoader"
   ]
  },
  {
   "cell_type": "code",
   "execution_count": 2,
   "id": "f7803c05",
   "metadata": {},
   "outputs": [],
   "source": [
    "rs = 42"
   ]
  },
  {
   "cell_type": "code",
   "execution_count": 3,
   "id": "b8ba2520",
   "metadata": {},
   "outputs": [],
   "source": [
    "import random\n",
    "\n",
    "def _init_fn(worker_id):\n",
    "    np.random.seed(int(rs))\n",
    "    \n",
    "def seed_torch(seed=42):\n",
    "    random.seed(seed)\n",
    "    os.environ['PYTHONHASHSEED'] = str(seed)\n",
    "    np.random.seed(seed)\n",
    "    torch.manual_seed(seed)\n",
    "    torch.cuda.manual_seed(seed)\n",
    "    torch.cuda.manual_seed_all(seed) # if you are using multi-GPU.\n",
    "    torch.backends.cudnn.benchmark = False\n",
    "    torch.backends.cudnn.deterministic = True\n",
    "\n",
    "seed_torch()"
   ]
  },
  {
   "cell_type": "code",
   "execution_count": 4,
   "id": "59e5baac",
   "metadata": {},
   "outputs": [],
   "source": [
    "# Undersample Test Set\n",
    "test_under_sampler = 0\n",
    "do_class_weight = 1\n",
    "\n",
    "# Undersample Train Set\n",
    "do_smote = 0\n",
    "do_random_under_sampler = 0\n",
    "do_random_over_sampler = 0\n",
    "do_tomek_links = 0\n",
    "do_near_miss = 0"
   ]
  },
  {
   "cell_type": "code",
   "execution_count": 5,
   "id": "15fdd315",
   "metadata": {},
   "outputs": [],
   "source": [
    "def find_csv_filenames( path_to_dir, suffix=\".csv\" ):\n",
    "    filenames = listdir(path_to_dir)\n",
    "    return [ filename for filename in filenames if filename.endswith( suffix ) ]"
   ]
  },
  {
   "cell_type": "code",
   "execution_count": 6,
   "id": "bd826a06",
   "metadata": {},
   "outputs": [],
   "source": [
    "os.chdir('..')"
   ]
  },
  {
   "cell_type": "code",
   "execution_count": 7,
   "id": "539d6fc3",
   "metadata": {},
   "outputs": [],
   "source": [
    "prediction_window = \"\""
   ]
  },
  {
   "cell_type": "code",
   "execution_count": 8,
   "id": "43e5c5ff",
   "metadata": {},
   "outputs": [],
   "source": [
    "data_directory = 'Sepsis Data/'\n",
    "prediction_directory = 'sepsis/'\n",
    "\n",
    "data_files = find_csv_filenames(data_directory+prediction_directory)\n",
    "\n",
    "hosps = [x.replace('.csv', '') for x in data_files]"
   ]
  },
  {
   "cell_type": "code",
   "execution_count": 9,
   "id": "82759b8f",
   "metadata": {},
   "outputs": [],
   "source": [
    "model_directory = 'Sepsis Models/' + prediction_window + '/Pytorch LR/'"
   ]
  },
  {
   "cell_type": "markdown",
   "id": "85ddcfee",
   "metadata": {},
   "source": [
    "#### Loading Cleaned Data"
   ]
  },
  {
   "cell_type": "code",
   "execution_count": 10,
   "id": "17c5edff",
   "metadata": {},
   "outputs": [],
   "source": [
    "def get_features_diag(data):\n",
    "    features = list(data_dictionary[hosp])\n",
    "    features.remove(list(data_dictionary[hosp])[-1])\n",
    "    AKI_diag = list(data_dictionary[hosp])[-1]\n",
    "    return features, AKI_diag\n",
    "\n",
    "def do_training_modifications(X_train, y_train):\n",
    "    if do_smote:\n",
    "        oversample = SMOTE(random_state=rs)\n",
    "        X_train, y_train = oversample.fit_resample(X_train, y_train)\n",
    "    if do_random_under_sampler:\n",
    "        rus = RandomUnderSampler(replacement=True, random_state=rs)\n",
    "        X_train, y_train = rus.fit_resample(X_train, y_train)\n",
    "    if do_random_over_sampler:\n",
    "        ros = RandomOverSampler(random_state=rs)\n",
    "        X_train, y_train = ros.fit_resample(X_train, y_train)\n",
    "    if do_tomek_links:\n",
    "        tl = TomekLinks(random_state=rs)\n",
    "        X_train, y_train = tl.fit_resample(X_train, y_train)\n",
    "    if do_near_miss:\n",
    "        nm = NearMiss(random_state=rs)\n",
    "        X_train, y_train = nm.fit_resample(X_train, y_train)  \n",
    "    return X_train, y_train\n",
    "\n",
    "def normalize_data(data_dictionary, hosp):\n",
    "    df = deepcopy(data_dictionary[hosp])\n",
    "    demographic_index = list(df).index('is_female')\n",
    "    medical_signs = list(df)[:demographic_index]\n",
    "    medication_index = list(df).index('ACETAMIN')\n",
    "    medications = list(df)[medication_index:len(list(data))-1]\n",
    "    demographic_binary = ['is_female', 'race_black', 'race_hispanic', 'race_asian', \n",
    "                        'race_other', 'electivesurgery']\n",
    "    binary_features = medications + demographic_binary\n",
    "    continuous_features = medical_signs + ['age', 'BMI']\n",
    "\n",
    "    df[continuous_features] = (df[continuous_features]-df[continuous_features].mean())/df[continuous_features].std()\n",
    "    df[binary_features] = df[binary_features].replace([0],-1)\n",
    "    return df"
   ]
  },
  {
   "cell_type": "code",
   "execution_count": 11,
   "id": "fdc8e926",
   "metadata": {},
   "outputs": [],
   "source": [
    "temp_data_dictionary = dict.fromkeys(hosps)\n",
    "data_dictionary = dict.fromkeys(hosps)\n",
    "missing_dictionary = dict.fromkeys(hosps)"
   ]
  },
  {
   "cell_type": "code",
   "execution_count": 62,
   "id": "8ff9883a",
   "metadata": {},
   "outputs": [],
   "source": [
    "for hosp in data_dictionary:\n",
    "    file = str(hosp) + '.csv'\n",
    "    data = pd.read_csv(data_directory + prediction_directory + \"cleaned/\" + file)\n",
    "    data = data.loc[:, ~data.columns.str.contains('^Unnamed')]\n",
    "    data_dictionary[hosp] = data\n",
    "    \n",
    "for hosp in temp_data_dictionary:\n",
    "    file = str(hosp) + '.csv'\n",
    "    data = pd.read_csv(data_directory + prediction_directory + \"cleaned/unscaled/\" + file)\n",
    "    data = data.loc[:, ~data.columns.str.contains('^Unnamed')]\n",
    "    temp_data_dictionary[hosp] = data"
   ]
  },
  {
   "cell_type": "code",
   "execution_count": 63,
   "id": "34adb0c8",
   "metadata": {},
   "outputs": [],
   "source": [
    "for hosp in data_dictionary:\n",
    "    data_dictionary[hosp] = normalize_data(data_dictionary, hosp)"
   ]
  },
  {
   "cell_type": "markdown",
   "id": "fcca96c9",
   "metadata": {},
   "source": [
    "#### Functions for Model Training and Validation"
   ]
  },
  {
   "cell_type": "code",
   "execution_count": 14,
   "id": "ca953814",
   "metadata": {},
   "outputs": [],
   "source": [
    "class LR(nn.Module):\n",
    "    def __init__(self,input_shape):\n",
    "        super(LR,self).__init__()\n",
    "        self.fc1 = nn.Linear(input_shape,1)\n",
    "    \n",
    "    def forward(self,x):\n",
    "        x = torch.sigmoid(self.fc1(x))\n",
    "        return x\n",
    "    \n",
    "    def fit(self, X_train, y_train, epochs=200, lr=0.01, batch_size=64):\n",
    "        X_train = X_train.values\n",
    "        y_train = y_train.values\n",
    "        class_weights = sklearn.utils.compute_class_weight('balanced', classes=np.unique(np.squeeze(y_train)),\n",
    "                                                           y=np.squeeze(y_train))\n",
    "        trainset = dataset(X_train, y_train)\n",
    "        train_loader = DataLoader(trainset, batch_size=batch_size, shuffle=True, num_workers = 0, worker_init_fn=_init_fn)\n",
    "        criterion = nn.BCELoss()\n",
    "        optimizer = torch.optim.SGD(self.parameters(), lr=lr)\n",
    "        self.train_model(train_loader, criterion, optimizer, epochs, class_weights)\n",
    "        return self\n",
    "    \n",
    "    def predict_prob(self, X):\n",
    "        with torch.no_grad():\n",
    "            return np.array(self(torch.tensor(X,dtype=torch.float32)).flatten())\n",
    "        \n",
    "    def get_predictions(self, X_test):\n",
    "        with torch.no_grad():\n",
    "            predicted = self(torch.tensor(X_test,dtype=torch.float32))\n",
    "            predictions_one_encoded = predicted.reshape(-1).detach().numpy().round()\n",
    "            return np.array(predicted).flatten(), predictions_one_encoded\n",
    "        \n",
    "    def train_model(self, train_loader, criterion, optimizer, epochs, class_weights):\n",
    "        for i in range(epochs):\n",
    "            for j,(x_train,y_train) in enumerate(train_loader):\n",
    "                #calculate output\n",
    "                output = self(x_train)\n",
    "                # set criterion weight\n",
    "                batch_class_weights = y_train.clone().detach()\n",
    "                batch_class_weights[batch_class_weights == 0] = class_weights[0]\n",
    "                batch_class_weights[batch_class_weights == 1] = class_weights[1]\n",
    "                criterion.weight = batch_class_weights.reshape(-1,1)\n",
    "                #calculate loss\n",
    "                loss = criterion(output,y_train.reshape(-1,1))\n",
    "                #backprop\n",
    "                loss.backward()\n",
    "                optimizer.step()\n",
    "                optimizer.zero_grad()\n",
    "    \n",
    "class dataset(Dataset):\n",
    "    def __init__(self,x,y):\n",
    "        self.x = torch.tensor(x,dtype=torch.float32)\n",
    "        self.y = torch.tensor(y,dtype=torch.float32)\n",
    "        self.length = self.x.shape[0]\n",
    "    def __getitem__(self,idx):\n",
    "        return self.x[idx],self.y[idx]\n",
    "    def __len__(self):\n",
    "        return self.length    \n"
   ]
  },
  {
   "cell_type": "code",
   "execution_count": 15,
   "id": "520d7ed3",
   "metadata": {},
   "outputs": [],
   "source": [
    "def evaluate_model_optim(model, y_test, X_test, print_dist=False):\n",
    "    y_test = y_test.values\n",
    "    probs, predictions = model.get_predictions(X_test.values)\n",
    "    y_pred_coded = predictions\n",
    "    probs = probs.flatten()\n",
    "    if print_dist == True:\n",
    "        print(\"Distribution of Test Predictions\")\n",
    "        pred_class_distribution(y_test, y_pred_coded)\n",
    "        print(\"###########\")\n",
    "    metric=[]\n",
    "    metric.append(['accuracy',np.round(accuracy_score(y_test,y_pred_coded), 3)])\n",
    "    roc_score = np.round(roc_auc_score(y_test, probs), 3)\n",
    "    metric.append(['roc',np.round(roc_score, 3)])\n",
    "    metric.append(['precision',np.round(precision_score(y_test,y_pred_coded), 3)])\n",
    "    metric.append(['recall',np.round(recall_score(y_test,y_pred_coded), 3)])\n",
    "    return metric\n",
    "\n",
    "def pred_class_distribution(y_test, y_pred_coded):\n",
    "    zero_wrong, zero_right, one_wrong, one_right = [0] * 4\n",
    "    for i in range(0, len(y_pred_coded)):\n",
    "        if y_test[i] == 0:\n",
    "            if y_pred_coded[i] == 0:\n",
    "                zero_right += 1\n",
    "            else:\n",
    "                zero_wrong += 1\n",
    "        if y_test[i] == 1:\n",
    "            if y_pred_coded[i] == 1:\n",
    "                one_right += 1\n",
    "            else:\n",
    "                one_wrong += 1\n",
    "    print(\"Number of 0 Class Predictions Right: \" + str(zero_right))\n",
    "    print(\"Number of 0 Class Predictions Wrong: \" + str(zero_wrong))\n",
    "    print(\"Number of 1 Class Predictions Right: \" + str(one_right))\n",
    "    print(\"Number of 1 Class Predictions Wrong: \" + str(one_wrong))"
   ]
  },
  {
   "cell_type": "code",
   "execution_count": 16,
   "id": "2579b7c4",
   "metadata": {},
   "outputs": [],
   "source": [
    "def get_cross_validated_scores(X, Y, partial_fit=False, model_name=None, model=None):\n",
    "    cv = sklearn.model_selection.StratifiedKFold(n_splits=5,shuffle=True, random_state=rs)\n",
    "    \n",
    "    accs = []\n",
    "    aucs = []\n",
    "    precs = []\n",
    "    recs = []\n",
    "    macro_predictions = []\n",
    "    macro_test = []\n",
    "    count = 1\n",
    "    for train, test in cv.split(X, Y):\n",
    "        if partial_fit:\n",
    "            if model == None:\n",
    "                raise ValueError('Need to have a model to train from')\n",
    "            clf = deepcopy(model)\n",
    "            X_train = X.iloc[train]\n",
    "            y_train = Y.iloc[train]\n",
    "            clf = clf.fit(X_train, y_train)\n",
    "            filename = model_directory + model_name + '_CV' + str(count) + '.pckl'\n",
    "            pickle.dump(clf, open(filename, 'wb'))\n",
    "            probs, y_pred_coded = clf.get_predictions(X.iloc[test].values)\n",
    "        else:\n",
    "            input_size = X.shape[1]\n",
    "            model = LR(input_size)\n",
    "            X_train = X.iloc[train]\n",
    "            y_train = Y.iloc[train]\n",
    "            model = model.fit(X_train, y_train, epochs=200, lr=0.01)\n",
    "            filename = model_directory + model_name + '_CV' + str(count) + '.pckl'\n",
    "            pickle.dump(model, open(filename, 'wb'))\n",
    "            probs, y_pred_coded = model.get_predictions(X.iloc[test].values)\n",
    "        fpr, tpr, t = sklearn.metrics.roc_curve(Y.iloc[test].values, probs)\n",
    "        macro_predictions.append(probs)\n",
    "        macro_test.append(Y.iloc[test].values)\n",
    "        acc = accuracy_score(Y.iloc[test].values, y_pred_coded)\n",
    "        roc_auc = sklearn.metrics.auc(fpr, tpr)\n",
    "        prec = precision_score(Y.iloc[test].values,y_pred_coded)\n",
    "        rec = recall_score(Y.iloc[test].values,y_pred_coded)\n",
    "        aucs.append(roc_auc), accs.append(acc), precs.append(prec), recs.append(rec)\n",
    "        count += 1\n",
    "    \n",
    "    # Macro AUC-ROC\n",
    "    all_predictions = np.concatenate(macro_predictions, axis=0)\n",
    "    all_test = np.concatenate(macro_test, axis=0)\n",
    "    fpr, tpr, t = sklearn.metrics.roc_curve(all_test, all_predictions)\n",
    "    roc_info = [fpr, tpr, t]\n",
    "    # find_best_threshold(t, fpr, tpr)\n",
    "    \n",
    "    # Calculating Cross Fold Metrics\n",
    "    metric = []\n",
    "    stds = []\n",
    "    mean_acc = np.round(np.mean(np.array(accs)), 3)\n",
    "    mean_auc = np.round(np.mean(np.array(aucs)), 3)\n",
    "    mean_prec = np.round(np.mean(np.array(precs)), 3)\n",
    "    mean_rec = np.round(np.mean(np.array(recs)), 3)\n",
    "    metric.append(['accuracy', mean_acc]), metric.append(['roc', mean_auc])\n",
    "    metric.append(['prec', mean_prec]), metric.append(['rec', mean_rec])\n",
    "    std_acc = np.round(np.std(np.array(accs)), 3)\n",
    "    std_auc = np.round(np.std(np.array(aucs)), 3)\n",
    "    std_prec = np.round(np.std(np.array(precs)), 3)\n",
    "    std_rec = np.round(np.std(np.array(recs)), 3)\n",
    "    stds.append(['accuracy', std_acc]), stds.append(['roc', std_auc])\n",
    "    stds.append(['prec', std_prec]), stds.append(['rec', std_rec])\n",
    "    return metric, stds, roc_info"
   ]
  },
  {
   "cell_type": "code",
   "execution_count": 17,
   "id": "6c95886e",
   "metadata": {},
   "outputs": [],
   "source": [
    "def get_pooled_cross_validated_scores(hosps, model_name='Agg'):\n",
    "    splits = 5\n",
    "    cv = sklearn.model_selection.StratifiedKFold(n_splits=splits,shuffle=True, random_state=rs)\n",
    "    \n",
    "    all_accs = []\n",
    "    all_aucs = []\n",
    "    all_precs = []\n",
    "    all_recs = []\n",
    "    all_macro_predictions = []\n",
    "    all_macro_test = []\n",
    "    \n",
    "    for split_count in range(splits):    \n",
    "        X_training_dictionary = dict.fromkeys(hosps)\n",
    "        X_testing_dictionary = dict.fromkeys(hosps)\n",
    "        y_training_dictionary = dict.fromkeys(hosps)\n",
    "        y_testing_dictionary = dict.fromkeys(hosps)\n",
    "\n",
    "        for hosp in data_dictionary:\n",
    "            data = data_dictionary[hosp]\n",
    "            features, AKI_diag = get_features_diag(data)\n",
    "            X = data[features]\n",
    "            Y = data[AKI_diag]\n",
    "            train, test = get_fold_info(split_count, cv.split(X, Y))\n",
    "            X_training_dictionary[hosp] = X.iloc[train]\n",
    "            X_testing_dictionary[hosp] = X.iloc[test]\n",
    "            y_training_dictionary[hosp] = Y.iloc[train]\n",
    "            y_testing_dictionary[hosp] = Y.iloc[test]\n",
    "        \n",
    "        input_size = len(features)\n",
    "        X_train = pd.concat(X_training_dictionary.values())\n",
    "        y_train = pd.concat(y_training_dictionary.values())\n",
    "        model = LR(input_size)\n",
    "        X_train = X.iloc[train]\n",
    "        y_train = Y.iloc[train]\n",
    "        model = model.fit(X_train, y_train, epochs=200, lr=0.01, batch_size=256)\n",
    "        filename = model_directory + model_name + '_CV' + str(split_count+1) + '.pckl'\n",
    "        pickle.dump(model, open(filename, 'wb'))\n",
    "        \n",
    "        accs = []\n",
    "        aucs = []\n",
    "        precs = []\n",
    "        recs = []\n",
    "        macro_predictions = []\n",
    "        macro_test = []\n",
    "        \n",
    "        for hosp in hosps:\n",
    "            probs, y_pred_coded = model.get_predictions(X_testing_dictionary[hosp].values)\n",
    "            fpr, tpr, t = sklearn.metrics.roc_curve(y_testing_dictionary[hosp].values, probs)\n",
    "            acc = accuracy_score(y_testing_dictionary[hosp].values, y_pred_coded)\n",
    "            roc_auc = sklearn.metrics.auc(fpr, tpr)\n",
    "            prec = precision_score(y_testing_dictionary[hosp].values,y_pred_coded)\n",
    "            rec = recall_score(y_testing_dictionary[hosp].values,y_pred_coded)\n",
    "            aucs.append(roc_auc), accs.append(acc), precs.append(prec), recs.append(rec)\n",
    "            macro_predictions.append(probs)\n",
    "            macro_test.append(y_testing_dictionary[hosp].values)\n",
    "\n",
    "        all_accs.append(accs), all_aucs.append(aucs), all_precs.append(precs), all_recs.append(recs)\n",
    "        all_macro_predictions.append(np.array(macro_predictions)), all_macro_test.append(np.array(macro_test))\n",
    "    \n",
    "    all_accs = np.array(all_accs)\n",
    "    all_aucs = np.array(all_aucs)\n",
    "    all_precs = np.array(all_precs)\n",
    "    all_recs = np.array(all_recs)\n",
    "    all_macro_predictions = np.array(all_macro_predictions)\n",
    "    all_macro_test = np.array(all_macro_test)\n",
    "    \n",
    "    metrics_dictionary = dict.fromkeys(hosps)\n",
    "    stds_dictionary = dict.fromkeys(hosps)\n",
    "    roc_info_dictionary = dict.fromkeys(hosps)\n",
    "    \n",
    "    for i, hosp in enumerate(hosps):\n",
    "        metric = []\n",
    "        stds = []\n",
    "        mean_acc = np.round(np.mean(all_accs[:, i]), 3)\n",
    "        mean_auc = np.round(np.mean(all_aucs[:, i]), 3)\n",
    "        mean_prec = np.round(np.mean(all_precs[:, i]), 3)\n",
    "        mean_rec = np.round(np.mean(all_recs[:, i]), 3)\n",
    "        metric.append(['accuracy', mean_acc]), metric.append(['roc', mean_auc])\n",
    "        metric.append(['prec', mean_prec]), metric.append(['rec', mean_rec])\n",
    "        std_acc = np.round(np.std(all_accs[:, i]), 3)\n",
    "        std_auc = np.round(np.std(all_aucs[:, i]), 3)\n",
    "        std_prec = np.round(np.std(all_precs[:, i]), 3)\n",
    "        std_rec = np.round(np.std(all_recs[:, i]), 3)\n",
    "        stds.append(['accuracy', std_acc]), stds.append(['roc', std_auc])\n",
    "        stds.append(['prec', std_prec]), stds.append(['rec', std_rec])\n",
    "        metrics_dictionary[hosp] = metric\n",
    "        stds_dictionary[hosp] = stds\n",
    "        \n",
    "        roc_info = []\n",
    "        all_predictions = np.concatenate(all_macro_predictions[:, i])\n",
    "        all_test = np.concatenate(all_macro_test[:, i])\n",
    "        fpr, tpr, t = sklearn.metrics.roc_curve(all_test, all_predictions)\n",
    "        roc_info = [fpr, tpr, t]\n",
    "        roc_info_dictionary[hosp] = roc_info\n",
    "    \n",
    "    return metrics_dictionary, stds_dictionary, roc_info_dictionary\n",
    "\n",
    "\n",
    "def get_fold_info(split_count, gen):\n",
    "    j = 0\n",
    "    for train, test in gen:\n",
    "        train = train\n",
    "        test = test\n",
    "        if split_count == j:\n",
    "            break\n",
    "        j += 1\n",
    "    return train, test"
   ]
  },
  {
   "cell_type": "code",
   "execution_count": 18,
   "id": "8b595262",
   "metadata": {},
   "outputs": [],
   "source": [
    "def display_metrics(metrics, stand_dev = None):\n",
    "    if stand_dev is None:\n",
    "        print(\"Accuracy: {}\".format(metrics[0][1]))\n",
    "        print(\"AUC: {}\".format(metrics[1][1]))\n",
    "        print(\"Precision: {}\".format(metrics[2][1]))\n",
    "        print(\"Recall: {}\".format(metrics[3][1]))\n",
    "    else:\n",
    "        s_acc = str(metrics[0][1]) + \" ± \" + str(stand_dev[0][1])\n",
    "        s_auc = str(metrics[1][1]) + \" ± \" + str(stand_dev[1][1])\n",
    "        s_prec = str(metrics[2][1]) + \" ± \" + str(stand_dev[2][1])\n",
    "        s_rec = str(metrics[3][1]) + \" ± \" + str(stand_dev[3][1])\n",
    "        print(\"Accuracy: \" + s_acc)\n",
    "        print(\"AUC: \" + s_auc)\n",
    "        print(\"Precision: \" + s_prec)\n",
    "        print(\"Recall: \" + s_rec)\n",
    "#         print(s_acc)\n",
    "#         print(s_auc)\n",
    "#         print(s_prec)\n",
    "#         print(s_rec)"
   ]
  },
  {
   "cell_type": "markdown",
   "id": "bcfaffe3",
   "metadata": {},
   "source": [
    "#### Local Models"
   ]
  },
  {
   "cell_type": "code",
   "execution_count": null,
   "id": "0916ee61",
   "metadata": {},
   "outputs": [],
   "source": [
    "local_models = dict.fromkeys(hosps)\n",
    "local_models_performances = dict.fromkeys(hosps) \n",
    "local_models_stds = dict.fromkeys(hosps) \n",
    "local_models_roc_info = dict.fromkeys(hosps) "
   ]
  },
  {
   "cell_type": "code",
   "execution_count": null,
   "id": "770db9dd",
   "metadata": {
    "scrolled": true
   },
   "outputs": [],
   "source": [
    "for i, hosp in enumerate(data_dictionary):\n",
    "    data = data_dictionary[hosp]\n",
    "    features, AKI_diag = get_features_diag(data)\n",
    "    X = data[features]\n",
    "    Y = data[AKI_diag]\n",
    "    \n",
    "    metrics, stds, roc_info = get_cross_validated_scores(X, Y, model_name=hosp)\n",
    "    \n",
    "    X_train, X_test, y_train, y_test = train_test_split(X, Y, test_size=0.20, random_state=rs)\n",
    "    \n",
    "    input_size = X_train.shape[1]\n",
    "    model = LR(input_size)\n",
    "    \n",
    "    model = model.fit(X_train, y_train, epochs=200, lr=0.01)\n",
    "    \n",
    "    filename = model_directory + hosp + '_full.pckl'\n",
    "    pickle.dump(model, open(filename, 'wb'))\n",
    "    \n",
    "    local_models[hosp] = model\n",
    "    local_models_performances[hosp] = metrics\n",
    "    local_models_stds[hosp] = stds\n",
    "    local_models_roc_info[hosp] = roc_info\n",
    "    print(\"Done with \" + str(i+1) + \" out of \" + str(len(data_dictionary)) + \" models\", end=\"\\r\")\n",
    "    \n",
    "print(\"Finished Training all Models\")"
   ]
  },
  {
   "cell_type": "code",
   "execution_count": null,
   "id": "c7c00743",
   "metadata": {
    "scrolled": true
   },
   "outputs": [],
   "source": [
    "for hosp in local_models_performances:\n",
    "    print(\"Performance of Hosp {}:\".format(hosp))\n",
    "    display_metrics(local_models_performances[hosp], stand_dev = local_models_stds[hosp])\n",
    "    print(\"\\n\")"
   ]
  },
  {
   "cell_type": "code",
   "execution_count": null,
   "id": "1fca6308",
   "metadata": {},
   "outputs": [],
   "source": [
    "filename = model_directory + 'LocalModelPerformances.pckl'\n",
    "pickle.dump([local_models_performances, local_models_stds, local_models_roc_info], open(filename, 'wb'))"
   ]
  },
  {
   "cell_type": "markdown",
   "id": "14ae2a4f",
   "metadata": {},
   "source": [
    "#### Aggregated Model"
   ]
  },
  {
   "cell_type": "code",
   "execution_count": null,
   "id": "cfe8dadf",
   "metadata": {},
   "outputs": [],
   "source": [
    "agg_data = pd.concat(data_dictionary.values())\n",
    "\n",
    "features, AKI_diag = get_features_diag(agg_data)\n",
    "X = agg_data[features]\n",
    "Y = agg_data[AKI_diag]\n",
    "\n",
    "X_train, X_test, y_train, y_test = train_test_split(X, Y, test_size=0.20, random_state=rs)\n",
    "\n",
    "metrics_dictionary, stds_dictionary, roc_info_dictionary = get_pooled_cross_validated_scores(hosps, model_name=\"Agg\")\n",
    "\n",
    "input_size = X_train.shape[1]\n",
    "model = LR(input_size)\n",
    "\n",
    "model = model.fit(X_train, y_train, epochs=200, lr=0.01)\n",
    "\n",
    "filename = model_directory + 'Agg_full.pckl'\n",
    "pickle.dump(model, open(filename, 'wb'))\n",
    "\n",
    "agg_model = model\n",
    "\n",
    "evaluate_model_optim(agg_model, y_test, X_test, print_dist=True)"
   ]
  },
  {
   "cell_type": "code",
   "execution_count": null,
   "id": "8259471f",
   "metadata": {
    "scrolled": true
   },
   "outputs": [],
   "source": [
    "for hosp in hosps:\n",
    "    print(\"Performance of Hosp {}:\".format(hosp))\n",
    "    display_metrics(metrics_dictionary[hosp], stand_dev = stds_dictionary[hosp])\n",
    "    print(\"\\n\")"
   ]
  },
  {
   "cell_type": "code",
   "execution_count": null,
   "id": "70962557",
   "metadata": {},
   "outputs": [],
   "source": [
    "filename = model_directory + 'AggLocalModelPerformances.pckl'\n",
    "pickle.dump([metrics_dictionary, stds_dictionary, roc_info_dictionary], open(filename, 'wb'))"
   ]
  },
  {
   "cell_type": "markdown",
   "id": "1967f233",
   "metadata": {},
   "source": [
    "### Model Feature Importances"
   ]
  },
  {
   "cell_type": "code",
   "execution_count": 19,
   "id": "b989099b",
   "metadata": {},
   "outputs": [],
   "source": [
    "def load_cv_models(hosp):\n",
    "    cv_models = []\n",
    "    for i in range(0, 5):\n",
    "        fold = i + 1\n",
    "        filename = model_directory + hosp + '_CV' + str(fold) + \".pckl\"\n",
    "        model = pickle.load(open(filename, 'rb'))\n",
    "        cv_models.append(model)\n",
    "    return cv_models"
   ]
  },
  {
   "cell_type": "markdown",
   "id": "adf676f8",
   "metadata": {},
   "source": [
    "### SHAP"
   ]
  },
  {
   "cell_type": "code",
   "execution_count": 20,
   "id": "c5664d13",
   "metadata": {},
   "outputs": [],
   "source": [
    "calculate_shap_importances = 1\n",
    "import caffeine\n",
    "caffeine.on(display=False)"
   ]
  },
  {
   "cell_type": "code",
   "execution_count": 21,
   "id": "2305e44e",
   "metadata": {},
   "outputs": [],
   "source": [
    "def get_shap_feature_rankings(hosp):\n",
    "    cv_models = load_cv_models(hosp)\n",
    "    df_folds = []\n",
    "    for shap_model in cv_models:\n",
    "        if hosp == 'Agg':\n",
    "            features, AKI_diag = get_features_diag(agg_data)\n",
    "            X = agg_data[features]\n",
    "            Y = agg_data[AKI_diag]\n",
    "        else:\n",
    "            data = data_dictionary[hosp]\n",
    "            features, AKI_diag = get_features_diag(data)\n",
    "            X = data[features]\n",
    "            Y = data[AKI_diag]\n",
    "        explainer = shap.KernelExplainer(shap_model.predict_prob, shap.sample(X, 100))\n",
    "        shap_values = explainer.shap_values(shap.sample(X, 200)) #Reducing sample size b/c of how long it takes\n",
    "        vals = np.abs(shap_values)\n",
    "        temp = pd.DataFrame(list(zip(X.columns, sum(vals))), columns=['col_name','feature_importance_vals'])\n",
    "        temp.sort_values(by=['feature_importance_vals'], ascending=False,inplace=True)\n",
    "        temp = temp.set_index('col_name')\n",
    "        col_name = 'feature_importance_vals'\n",
    "        min_value = temp[col_name].min()\n",
    "        temp1 = temp[temp[col_name] > min_value]\n",
    "        temp2 = temp[temp[col_name] == min_value]\n",
    "        temp1[col_name] = temp1[col_name].rank(ascending=False)\n",
    "        temp2[col_name] = temp1[col_name].max() + 1\n",
    "        temp = pd.concat([temp1, temp2]).astype(int)\n",
    "        df_folds.append(temp)\n",
    "    df_final = reduce(lambda left,right: pd.merge(left,right, left_index=True, right_index=True), df_folds)\n",
    "    imp_features = mc4_aggregator(df_final, header_row = 0, index_col = 0) \n",
    "    imp_features = dict(sorted(imp_features.items(), key=lambda item: item[1]))\n",
    "    a = np.array(list(imp_features.items()))[:, 0]\n",
    "    return a"
   ]
  },
  {
   "cell_type": "markdown",
   "id": "5c5d2a5a",
   "metadata": {},
   "source": [
    "#### Local Models"
   ]
  },
  {
   "cell_type": "code",
   "execution_count": 22,
   "id": "969b2c0e",
   "metadata": {},
   "outputs": [],
   "source": [
    "if calculate_shap_importances:\n",
    "    local_shap_values = dict.fromkeys(hosps)\n",
    "    local_shap_features = dict.fromkeys(hosps)\n",
    "    local_shap_explainers = dict.fromkeys(hosps)\n",
    "    local_X = dict.fromkeys(hosps)"
   ]
  },
  {
   "cell_type": "code",
   "execution_count": 23,
   "id": "d357e784",
   "metadata": {
    "scrolled": true
   },
   "outputs": [
    {
     "data": {
      "application/vnd.jupyter.widget-view+json": {
       "model_id": "a3aff93b05b64c699c89cdd5ab3bda9b",
       "version_major": 2,
       "version_minor": 0
      },
      "text/plain": [
       "  0%|          | 0/1000 [00:00<?, ?it/s]"
      ]
     },
     "metadata": {},
     "output_type": "display_data"
    },
    {
     "name": "stdout",
     "output_type": "stream",
     "text": [
      "Done with 1 out of 7 hospitals\r"
     ]
    },
    {
     "data": {
      "application/vnd.jupyter.widget-view+json": {
       "model_id": "2ce0133c045344629efb89a6a29c761d",
       "version_major": 2,
       "version_minor": 0
      },
      "text/plain": [
       "  0%|          | 0/1000 [00:00<?, ?it/s]"
      ]
     },
     "metadata": {},
     "output_type": "display_data"
    },
    {
     "name": "stdout",
     "output_type": "stream",
     "text": [
      "Done with 2 out of 7 hospitals\r"
     ]
    },
    {
     "data": {
      "application/vnd.jupyter.widget-view+json": {
       "model_id": "dbc5916269744c858ee982ed1cdf4c0f",
       "version_major": 2,
       "version_minor": 0
      },
      "text/plain": [
       "  0%|          | 0/1000 [00:00<?, ?it/s]"
      ]
     },
     "metadata": {},
     "output_type": "display_data"
    },
    {
     "name": "stdout",
     "output_type": "stream",
     "text": [
      "Done with 3 out of 7 hospitals\r"
     ]
    },
    {
     "data": {
      "application/vnd.jupyter.widget-view+json": {
       "model_id": "72ef87c1c430478abcfc76f7007257db",
       "version_major": 2,
       "version_minor": 0
      },
      "text/plain": [
       "  0%|          | 0/1000 [00:00<?, ?it/s]"
      ]
     },
     "metadata": {},
     "output_type": "display_data"
    },
    {
     "name": "stdout",
     "output_type": "stream",
     "text": [
      "Done with 4 out of 7 hospitals\r"
     ]
    },
    {
     "data": {
      "application/vnd.jupyter.widget-view+json": {
       "model_id": "4dd609395b974980a9ca567b3ae19fc9",
       "version_major": 2,
       "version_minor": 0
      },
      "text/plain": [
       "  0%|          | 0/1000 [00:00<?, ?it/s]"
      ]
     },
     "metadata": {},
     "output_type": "display_data"
    },
    {
     "name": "stdout",
     "output_type": "stream",
     "text": [
      "Done with 5 out of 7 hospitals\r"
     ]
    },
    {
     "data": {
      "application/vnd.jupyter.widget-view+json": {
       "model_id": "62048ede3bc840db99e592eed345f432",
       "version_major": 2,
       "version_minor": 0
      },
      "text/plain": [
       "  0%|          | 0/1000 [00:00<?, ?it/s]"
      ]
     },
     "metadata": {},
     "output_type": "display_data"
    },
    {
     "name": "stdout",
     "output_type": "stream",
     "text": [
      "Done with 6 out of 7 hospitals\r"
     ]
    },
    {
     "data": {
      "application/vnd.jupyter.widget-view+json": {
       "model_id": "0a8cfa49e8e84a50b4aa2ed0e888a26c",
       "version_major": 2,
       "version_minor": 0
      },
      "text/plain": [
       "  0%|          | 0/1000 [00:00<?, ?it/s]"
      ]
     },
     "metadata": {},
     "output_type": "display_data"
    },
    {
     "name": "stdout",
     "output_type": "stream",
     "text": [
      "Done with 7 out of 7 hospitals\r"
     ]
    }
   ],
   "source": [
    "if calculate_shap_importances:\n",
    "    for i, hosp in enumerate(data_dictionary):\n",
    "        data = data_dictionary[hosp]\n",
    "        features, AKI_diag = get_features_diag(data)\n",
    "\n",
    "        X = data[features]\n",
    "        Y = data[AKI_diag]\n",
    "        \n",
    "        input_size = X.shape[1]\n",
    "        shap_model = LR(input_size)\n",
    "        shap_model = shap_model.fit(X, Y, epochs=200, lr=0.01)\n",
    "\n",
    "        explainer = shap.KernelExplainer(shap_model.predict_prob, shap.sample(X, 100))\n",
    "        shap_values = explainer.shap_values(shap.sample(X, 1000))\n",
    "\n",
    "        local_shap_explainers[hosp] = explainer\n",
    "        local_shap_values[hosp] = shap_values\n",
    "        local_X[hosp] = X\n",
    "\n",
    "        vals = np.abs(shap_values)\n",
    "        feature_importance = pd.DataFrame(list(zip(X.columns, sum(vals))), columns=['col_name','feature_importance_vals'])\n",
    "        feature_importance.sort_values(by=['feature_importance_vals'], ascending=False,inplace=True)\n",
    "\n",
    "        local_shap_features[hosp] = feature_importance\n",
    "        print(\"Done with \" + str(i+1) + \" out of \" + str(len(data_dictionary)) + \" hospitals\", end=\"\\r\")"
   ]
  },
  {
   "cell_type": "code",
   "execution_count": 30,
   "id": "c5dc7c2e",
   "metadata": {
    "scrolled": true
   },
   "outputs": [
    {
     "data": {
      "image/png": "[encoded data removed]",
      "text/plain": [
       "<Figure size 720x720 with 10 Axes>"
      ]
     },
     "metadata": {
      "needs_background": "light"
     },
     "output_type": "display_data"
    }
   ],
   "source": [
    "if calculate_shap_importances:\n",
    "    # Using One Specific Hospital\n",
    "    hosp = \"420\"\n",
    "    num_rows = 5\n",
    "    num_cols = 2\n",
    "    df_temp = pd.read_csv(\"Sepsis Code/Feature Importances/Pytorch LR_\" + prediction_window + \"_SHAPImportantFeatures.csv\")\n",
    "    top_features = (df_temp[hosp].values)[0:10]\n",
    "    fig, axes = plt.subplots(nrows=num_rows, ncols=num_cols, figsize=(10,10))\n",
    "    for i, feature in enumerate(top_features):\n",
    "        idx = np.where(local_X[hosp].columns==feature)[0][0]\n",
    "        unscaled_X = temp_data_dictionary[hosp][features]\n",
    "        x = shap.sample(unscaled_X, 1000).iloc[:,idx]\n",
    "        y_sv = local_shap_values[hosp][:,idx]\n",
    "        lowess = sm.nonparametric.lowess(y_sv, x, frac=.3)\n",
    "        ax = axes[divmod(i, num_cols)]\n",
    "        ax.hlines(y=0, xmin=np.min(x), xmax=np.max(x), linestyles='dashed', color='black')\n",
    "        ax.plot(*list(zip(*lowess)), color=\"red\", )\n",
    "        shap.dependence_plot(feature, local_shap_values[hosp], shap.sample(unscaled_X, 1000), ax=ax, show=False,\n",
    "                             interaction_index=None)\n",
    "    fig.tight_layout()"
   ]
  },
  {
   "cell_type": "markdown",
   "id": "cc132fd3",
   "metadata": {},
   "source": [
    "#### Aggregated Model"
   ]
  },
  {
   "cell_type": "code",
   "execution_count": 27,
   "id": "bc3af112",
   "metadata": {},
   "outputs": [
    {
     "data": {
      "application/vnd.jupyter.widget-view+json": {
       "model_id": "2241abcbe6ab40cca7eecef40711f772",
       "version_major": 2,
       "version_minor": 0
      },
      "text/plain": [
       "  0%|          | 0/1000 [00:00<?, ?it/s]"
      ]
     },
     "metadata": {},
     "output_type": "display_data"
    }
   ],
   "source": [
    "if calculate_shap_importances:\n",
    "    agg_data = pd.concat(data_dictionary.values())\n",
    "    features, AKI_diag = get_features_diag(agg_data)\n",
    "    X = agg_data[features]\n",
    "    Y = agg_data[AKI_diag]\n",
    "    \n",
    "    input_size = X.shape[1]\n",
    "    shap_model = LR(input_size)\n",
    "    shap_model = shap_model.fit(X, Y, epochs=200, lr=0.01)\n",
    "\n",
    "    explainer_agg = shap.KernelExplainer(shap_model.predict_prob, shap.sample(X, 100))\n",
    "    shap_values_agg = explainer_agg.shap_values(shap.sample(X, 1000))\n",
    "\n",
    "    vals = np.abs(shap_values_agg)\n",
    "    agg_feature_importance = pd.DataFrame(list(zip(X.columns, sum(vals))), columns=['col_name','feature_importance_vals'])\n",
    "    agg_feature_importance.sort_values(by=['feature_importance_vals'], ascending=False,inplace=True)"
   ]
  },
  {
   "cell_type": "code",
   "execution_count": 31,
   "id": "2d7ded88",
   "metadata": {
    "scrolled": true
   },
   "outputs": [
    {
     "data": {
      "image/png": "[encoded data removed]",
      "text/plain": [
       "<Figure size 720x720 with 10 Axes>"
      ]
     },
     "metadata": {
      "needs_background": "light"
     },
     "output_type": "display_data"
    }
   ],
   "source": [
    "if calculate_shap_importances:\n",
    "    num_rows = 5\n",
    "    num_cols = 2\n",
    "    df_temp = pd.read_csv(\"Sepsis Code/Feature Importances/Pytorch LR_\" + prediction_window + \"_SHAPImportantFeatures.csv\")\n",
    "    top_features = (df_temp['Agg'].values)[0:10]\n",
    "    fig, axes = plt.subplots(nrows=num_rows, ncols=num_cols, figsize=(10,10))\n",
    "    for i, feature in enumerate(top_features):\n",
    "        idx = np.where(X.columns==feature)[0][0]\n",
    "        unscaled_agg_data = pd.concat(temp_data_dictionary.values())\n",
    "        unscaled_X = unscaled_agg_data[features]\n",
    "        x = shap.sample(unscaled_X, 1000).iloc[:,idx]\n",
    "        y_sv = shap_values_agg[:,idx]\n",
    "        lowess = sm.nonparametric.lowess(y_sv, x, frac=.3)\n",
    "        ax = axes[divmod(i, num_cols)]\n",
    "        ax.hlines(y=0, xmin=np.min(x), xmax=np.max(x), linestyles='dashed', color='black')\n",
    "        ax.plot(*list(zip(*lowess)), color=\"red\", )\n",
    "        shap.dependence_plot(feature, shap_values_agg, shap.sample(unscaled_X, 1000), ax=ax, show=False,\n",
    "                             interaction_index=None)\n",
    "        ax.set(ylabel=None)\n",
    "    fig.tight_layout()"
   ]
  },
  {
   "cell_type": "code",
   "execution_count": 50,
   "id": "f7157899",
   "metadata": {},
   "outputs": [],
   "source": [
    "if calculate_shap_importances:\n",
    "    filename = 'Sepsis Code/Feature Importances/Pytorch LR_Feat_Dicts.pckl'\n",
    "    information = [local_shap_explainers, local_shap_values, local_X, explainer_agg, shap_values_agg]\n",
    "    pickle.dump(information, open(filename, 'wb'), protocol=5)"
   ]
  },
  {
   "cell_type": "markdown",
   "id": "2844463c",
   "metadata": {},
   "source": [
    "##### Making CSV File for SHAP Feature Importances"
   ]
  },
  {
   "cell_type": "code",
   "execution_count": null,
   "id": "a48b11e5",
   "metadata": {},
   "outputs": [],
   "source": [
    "# if calculate_shap_importances:\n",
    "#     shap_feat_imp_dfs = []\n",
    "#     for hosp in local_shap_features:\n",
    "#         temp_df = local_shap_features[hosp].set_index('col_name')\n",
    "#         temp_df = temp_df.rename(columns={\"feature_importance_vals\": hosp})\n",
    "#         shap_feat_imp_dfs.append(temp_df)\n",
    "\n",
    "#     temp_df = agg_feature_importance.set_index('col_name')\n",
    "#     temp_df = temp_df.rename(columns={\"feature_importance_vals\": \"Agg\"})\n",
    "#     shap_feat_imp_dfs.append(temp_df)\n",
    "#     df_shap_feat_imps_scores = pd.concat(shap_feat_imp_dfs, axis=1)\n",
    "#     df_shap_feat_imps_scores.to_csv(\"Sepsis Code/Feature Importances/Pytorch LR_\" + prediction_window + \"_SHAPFeatureImportanceScores.csv\")"
   ]
  },
  {
   "cell_type": "code",
   "execution_count": null,
   "id": "5e9c5962",
   "metadata": {
    "scrolled": true
   },
   "outputs": [],
   "source": [
    "if calculate_shap_importances:\n",
    "    comb_hosps = hosps + [\"Agg\"]\n",
    "    shap_top_features = dict.fromkeys(comb_hosps)\n",
    "    for i, hosp in enumerate(comb_hosps):\n",
    "        top_features = get_shap_feature_rankings(hosp)\n",
    "        shap_top_features[hosp] = top_features\n",
    "        print(\"Done with \" + str(i+1) + \" out of \" + str(len(comb_hosps)) + \" hospitals\", end=\"\\r\")\n",
    "\n",
    "    shap_top_df = pd.DataFrame(shap_top_features)\n",
    "    shap_top_df.to_csv(\"Sepsis Code/Feature Importances/Pytorch LR_\" + prediction_window + \"_SHAPImportantFeatures.csv\")"
   ]
  },
  {
   "cell_type": "code",
   "execution_count": null,
   "id": "68281d0a",
   "metadata": {
    "scrolled": true
   },
   "outputs": [],
   "source": [
    "if calculate_shap_importances:\n",
    "    shap_top_df.head(20)"
   ]
  },
  {
   "cell_type": "code",
   "execution_count": null,
   "id": "9141c86a",
   "metadata": {},
   "outputs": [],
   "source": [
    "caffeine.off()"
   ]
  },
  {
   "cell_type": "markdown",
   "id": "131c52cb",
   "metadata": {},
   "source": [
    "### Transporting and Refitting Model from Source to Site"
   ]
  },
  {
   "cell_type": "markdown",
   "id": "79c36671",
   "metadata": {},
   "source": [
    "- Source: Institution X"
   ]
  },
  {
   "cell_type": "code",
   "execution_count": null,
   "id": "742d3409",
   "metadata": {},
   "outputs": [],
   "source": [
    "source_hosp = \"252\"\n",
    "site_hosps = [x for x in hosps if x != source_hosp]\n",
    "site_models_transported_performance = dict.fromkeys(site_hosps)\n",
    "site_models_refitted = dict.fromkeys(site_hosps)\n",
    "site_models_refitted_performance = dict.fromkeys(site_hosps)"
   ]
  },
  {
   "cell_type": "code",
   "execution_count": null,
   "id": "ed56afe9",
   "metadata": {
    "scrolled": true
   },
   "outputs": [],
   "source": [
    "for i, site_hosp in enumerate(site_hosps):\n",
    "    source_model = local_models[source_hosp]\n",
    "    site_data = data_dictionary[site_hosp]\n",
    "    features, AKI_diag = get_features_diag(site_data)\n",
    "    \n",
    "    X = site_data[features]\n",
    "    Y = site_data[AKI_diag]\n",
    "    site_models_transported_performance[site_hosp] = evaluate_model_optim(source_model, Y, X, print_dist=False)\n",
    "    \n",
    "    X_train, X_test, y_train, y_test = train_test_split(X, Y, test_size=0.20, random_state=rs)\n",
    "    \n",
    "    metrics, stds, roc_info = get_cross_validated_scores(X_train, y_train, partial_fit=True,\n",
    "                                               model_name=\"Refitted_\" + hosp, model=source_model)\n",
    "    site_models_refitted_performance[site_hosp] = metrics\n",
    "\n",
    "    new_model = deepcopy(source_model)\n",
    "    refit_model = new_model.fit(X_train, y_train)\n",
    "\n",
    "    site_models_refitted[site_hosp] = refit_model\n",
    "    print(\"Done with \" + str(i+1) + \" out of \" + str(len(site_hosps)) + \" hospitals\", end=\"\\r\")\n",
    "    \n",
    "print(\"Finished Training all Models\")"
   ]
  },
  {
   "cell_type": "code",
   "execution_count": null,
   "id": "79c613df",
   "metadata": {},
   "outputs": [],
   "source": [
    "site_transported_auc_drops = []\n",
    "site_refitted_auc_drops = []\n",
    "for site_hosp in site_hosps:\n",
    "    trans_drop = local_models_performances[site_hosp][1][1] - site_models_transported_performance[site_hosp][1][1]\n",
    "    site_transported_auc_drops.append(trans_drop)\n",
    "    refit_drop = local_models_performances[site_hosp][1][1] - site_models_refitted_performance[site_hosp][1][1]\n",
    "    site_refitted_auc_drops.append(refit_drop)\n",
    "\n",
    "# Add source hospital AUC drop of 0\n",
    "site_transported_auc_drops.append(0)\n",
    "site_refitted_auc_drops.append(0)"
   ]
  },
  {
   "cell_type": "markdown",
   "id": "56974a8d",
   "metadata": {},
   "source": [
    "## Getting Transportability Metrics"
   ]
  },
  {
   "cell_type": "code",
   "execution_count": null,
   "id": "a993fb8b",
   "metadata": {},
   "outputs": [],
   "source": [
    "def initialize_metric_dictionary(hosps):\n",
    "    combs = []\n",
    "    temp = itertools.combinations(hosps, 2)\n",
    "    for t in temp:\n",
    "        combs.append(t[0] + \":\" + t[1])\n",
    "    for hosp in hosps:\n",
    "        combs.append(hosp + \":\" + hosp)\n",
    "    return dict.fromkeys(combs)\n",
    "\n",
    "def get_site_metrics(source_hosp, site_hosps, metric_dictionary):\n",
    "    site_metrics = []\n",
    "    for site_hosp in site_hosps:\n",
    "        key1 = source_hosp + \":\" + site_hosp\n",
    "        key2 = site_hosp + \":\" + source_hosp\n",
    "        if key1 in metric_dictionary:\n",
    "            site_metrics.append(metric_dictionary[key1])\n",
    "        elif key2 in metric_dictionary:\n",
    "            site_metrics.append(metric_dictionary[key2])\n",
    "    site_metrics.append(metric_dictionary[source_hosp + \":\" + source_hosp])\n",
    "    return site_metrics"
   ]
  },
  {
   "cell_type": "markdown",
   "id": "17a3408f",
   "metadata": {},
   "source": [
    "### Maximum Mean Discrepancy (MMD) Values Across Hospitals"
   ]
  },
  {
   "cell_type": "code",
   "execution_count": null,
   "id": "124196fc",
   "metadata": {},
   "outputs": [],
   "source": [
    "import mmd_functions\n",
    "import itertools\n",
    "import torch"
   ]
  },
  {
   "cell_type": "markdown",
   "id": "df599388",
   "metadata": {},
   "source": [
    "#### MMD Between Institutions"
   ]
  },
  {
   "cell_type": "code",
   "execution_count": null,
   "id": "86d1b706",
   "metadata": {},
   "outputs": [],
   "source": [
    "mmd_dictionary = initialize_metric_dictionary(hosps)"
   ]
  },
  {
   "cell_type": "code",
   "execution_count": null,
   "id": "244674fd",
   "metadata": {},
   "outputs": [],
   "source": [
    "for i, combo in enumerate(mmd_dictionary):\n",
    "    first_hosp, second_hosp = combo.split(\":\")\n",
    "    mmd_value = mmd_functions.mmd_linear(data_dictionary[first_hosp][features], data_dictionary[second_hosp][features])\n",
    "    mmd_dictionary[combo] = mmd_value\n",
    "    print(\"Done with \" + str(i+1) + \" out of \" + str(len(mmd_dictionary)) + \" combinations\", end=\"\\r\")\n",
    "mmd_dictionary = {k: v for k, v in sorted(mmd_dictionary.items(), key=lambda item: item[1])}"
   ]
  },
  {
   "cell_type": "markdown",
   "id": "0bfb0391",
   "metadata": {},
   "source": [
    "#### Relation Between MMD and AUC"
   ]
  },
  {
   "cell_type": "code",
   "execution_count": null,
   "id": "5784ad5e",
   "metadata": {},
   "outputs": [],
   "source": [
    "site_mmds = get_site_metrics(source_hosp, site_hosps, mmd_dictionary)"
   ]
  },
  {
   "cell_type": "code",
   "execution_count": null,
   "id": "0bd891da",
   "metadata": {},
   "outputs": [],
   "source": [
    "slope, intercept, r_value, p_value, std_err = scipy.stats.linregress(site_mmds, site_transported_auc_drops)\n",
    "ax = sns.regplot(site_mmds,site_transported_auc_drops, color ='blue', ci=None, \n",
    " line_kws={'label':\"y={0:.2f}x+{1:.2f}\".format(slope,intercept)})\n",
    "my_rho = np.corrcoef(site_mmds, site_transported_auc_drops)\n",
    "ax.legend()\n",
    "plt.ylabel(\"AUC Drop\")\n",
    "plt.xlabel(\"MMD Score\")\n",
    "plt.title(\"MMD Score vs AUC Drop on Transported Models, PC = {}\".format(np.round(my_rho[0, 1], 2)))"
   ]
  },
  {
   "cell_type": "code",
   "execution_count": null,
   "id": "2f860331",
   "metadata": {},
   "outputs": [],
   "source": [
    "slope, intercept, r_value, p_value, std_err = scipy.stats.linregress(site_mmds, site_refitted_auc_drops)\n",
    "ax = sns.regplot(site_mmds,site_refitted_auc_drops, color ='blue', ci=None, \n",
    " line_kws={'label':\"y={0:.2f}x+{1:.2f}\".format(slope,intercept)})\n",
    "my_rho = np.corrcoef(site_mmds, site_refitted_auc_drops)\n",
    "ax.legend()\n",
    "plt.ylabel(\"AUC Drop\")\n",
    "plt.xlabel(\"MMD Score\")\n",
    "plt.title(\"MMD Score vs AUC Drop on Refitted Models, PC = {}\".format(np.round(my_rho[0, 1], 2)))"
   ]
  },
  {
   "cell_type": "markdown",
   "id": "320a7651",
   "metadata": {},
   "source": [
    "### CORAL Values Across Hospitals"
   ]
  },
  {
   "cell_type": "code",
   "execution_count": null,
   "id": "509e8169",
   "metadata": {},
   "outputs": [],
   "source": [
    "def CORAL_loss(source, target):\n",
    "    source = torch.from_numpy(source)\n",
    "    target = torch.from_numpy(target)\n",
    "    d = source.data.shape[1]\n",
    "    ns, nt = source.data.shape[0], target.data.shape[0]\n",
    "    # source covariance\n",
    "    xm = torch.mean(source, 0, keepdim=True) - source\n",
    "    xc = xm.t() @ xm / (ns - 1)\n",
    "    # target covariance\n",
    "    xmt = torch.mean(target, 0, keepdim=True) - target\n",
    "    xct = xmt.t() @ xmt / (nt - 1)\n",
    "    # frobenius norm between source and target\n",
    "    loss = torch.mul((xc - xct), (xc - xct))\n",
    "    loss = torch.sum(loss) / (4*d*d)\n",
    "    return loss"
   ]
  },
  {
   "cell_type": "markdown",
   "id": "2f086de7",
   "metadata": {},
   "source": [
    "#### CORAL Between Institutions"
   ]
  },
  {
   "cell_type": "code",
   "execution_count": null,
   "id": "da138701",
   "metadata": {},
   "outputs": [],
   "source": [
    "coral_dictionary = initialize_metric_dictionary(hosps)"
   ]
  },
  {
   "cell_type": "code",
   "execution_count": null,
   "id": "babebdb1",
   "metadata": {},
   "outputs": [],
   "source": [
    "for i, combo in enumerate(coral_dictionary):\n",
    "    first_hosp, second_hosp = combo.split(\":\")\n",
    "    coral_value = CORAL_loss(data_dictionary[first_hosp][features].values, data_dictionary[second_hosp][features].values)\n",
    "    coral_dictionary[combo] = np.float(coral_value)\n",
    "    print(\"Done with \" + str(i+1) + \" out of \" + str(len(coral_dictionary)) + \" combinations\", end=\"\\r\")\n",
    "coral_dictionary = {k: v for k, v in sorted(coral_dictionary.items(), key=lambda item: item[1])}"
   ]
  },
  {
   "cell_type": "markdown",
   "id": "04286409",
   "metadata": {},
   "source": [
    "#### Relation Between CORAL and AUC"
   ]
  },
  {
   "cell_type": "code",
   "execution_count": null,
   "id": "0b375211",
   "metadata": {},
   "outputs": [],
   "source": [
    "site_corals = get_site_metrics(source_hosp, site_hosps, coral_dictionary)"
   ]
  },
  {
   "cell_type": "code",
   "execution_count": null,
   "id": "13320788",
   "metadata": {},
   "outputs": [],
   "source": [
    "slope, intercept, r_value, p_value, std_err = scipy.stats.linregress(site_corals, site_transported_auc_drops)\n",
    "ax = sns.regplot(site_corals,site_transported_auc_drops, color ='blue', ci=None, \n",
    " line_kws={'label':\"y={0:.2f}x+{1:.2f}\".format(slope,intercept)})\n",
    "my_rho = np.corrcoef(site_corals, site_transported_auc_drops)\n",
    "ax.legend()\n",
    "plt.ylabel(\"AUC Drop\")\n",
    "plt.xlabel(\"CORAL Score\")\n",
    "plt.title(\"CORAL Score vs AUC Drop on Transported Models, PC = {}\".format(np.round(my_rho[0, 1], 2)))"
   ]
  },
  {
   "cell_type": "code",
   "execution_count": null,
   "id": "403f41b1",
   "metadata": {},
   "outputs": [],
   "source": [
    "slope, intercept, r_value, p_value, std_err = scipy.stats.linregress(site_corals, site_refitted_auc_drops)\n",
    "ax = sns.regplot(site_corals,site_refitted_auc_drops, color ='blue', ci=None, \n",
    " line_kws={'label':\"y={0:.2f}x+{1:.2f}\".format(slope,intercept)})\n",
    "my_rho = np.corrcoef(site_corals, site_refitted_auc_drops)\n",
    "ax.legend()\n",
    "plt.ylabel(\"AUC Drop\")\n",
    "plt.xlabel(\"CORAL Score\")\n",
    "plt.title(\"CORAL Score vs AUC Drop on Refitted Models, PC = {}\".format(np.round(my_rho[0, 1], 2)))"
   ]
  },
  {
   "cell_type": "markdown",
   "id": "f07b2c92",
   "metadata": {},
   "source": [
    "#### OTDD Between Institutions"
   ]
  },
  {
   "cell_type": "code",
   "execution_count": null,
   "id": "e2614221",
   "metadata": {},
   "outputs": [],
   "source": [
    "from OTDD import *\n",
    "from plot import *"
   ]
  },
  {
   "cell_type": "code",
   "execution_count": null,
   "id": "0d8b1faa",
   "metadata": {},
   "outputs": [],
   "source": [
    "def calculate_otd_distance(data1, data2):\n",
    "    features, AKI_diag = get_features_diag(data1)\n",
    "    X1 = data1[features]\n",
    "    Y1 = data1[AKI_diag]\n",
    "    features, AKI_diag = get_features_diag(data2)\n",
    "    X2 = data2[features]\n",
    "    Y2 = data2[AKI_diag]\n",
    "    data_x = ArrayDataset(X1.values, Y1.astype(int).values)\n",
    "    data_y = ArrayDataset(X2.values, Y2.astype(int).values)\n",
    "    solver = SCSSolver()\n",
    "    distance_function = POTDistance(distance_metric='sqeuclidean')\n",
    "    cost_function = EarthMoversCost(distance_function, 0.1)\n",
    "    outputs = cost_function.distance_with_labels(data_x.features, data_y.features, \n",
    "                                                  data_x.labels, data_y.labels)\n",
    "    cost, coupling, OTDD_matrix, class_distances, class_x_dict, class_y_dict = outputs\n",
    "    return cost\n",
    "\n",
    "# distance_function = POTDistance(distance_metric='euclidean')\n",
    "# cost_function = EarthMoversCost(distance_function, 0.02)"
   ]
  },
  {
   "cell_type": "code",
   "execution_count": null,
   "id": "6142a21a",
   "metadata": {},
   "outputs": [],
   "source": [
    "otdd_dictionary = initialize_metric_dictionary(hosps)"
   ]
  },
  {
   "cell_type": "code",
   "execution_count": null,
   "id": "9c24c960",
   "metadata": {
    "scrolled": true
   },
   "outputs": [],
   "source": [
    "for i, combo in enumerate(otdd_dictionary):\n",
    "    first_hosp, second_hosp = combo.split(\":\")\n",
    "    dist = calculate_otd_distance(data_dictionary[first_hosp], \n",
    "                                        data_dictionary[second_hosp])\n",
    "    otdd_dictionary[combo] = dist\n",
    "    print(\"Done with \" + str(i+1) + \" out of \" + str(len(otdd_dictionary)) + \" combinations\", end=\"\\r\")\n",
    "otdd_dictionary = {k: v for k, v in sorted(otdd_dictionary.items(), key=lambda item: item[1])}"
   ]
  },
  {
   "cell_type": "markdown",
   "id": "0e2072a2",
   "metadata": {},
   "source": [
    "#### Relation Between OTDD and AUC"
   ]
  },
  {
   "cell_type": "code",
   "execution_count": null,
   "id": "7d7dfa2d",
   "metadata": {},
   "outputs": [],
   "source": [
    "otdd_sites = get_site_metrics(source_hosp, site_hosps, otdd_dictionary)"
   ]
  },
  {
   "cell_type": "code",
   "execution_count": null,
   "id": "4611796d",
   "metadata": {},
   "outputs": [],
   "source": [
    "slope, intercept, r_value, p_value, std_err = scipy.stats.linregress(otdd_sites, site_transported_auc_drops)\n",
    "ax = sns.regplot(otdd_sites,site_transported_auc_drops, color ='blue', ci=None, \n",
    " line_kws={'label':\"y={0:.2f}x+{1:.2f}\".format(slope,intercept)})\n",
    "my_rho = np.corrcoef(otdd_sites, site_transported_auc_drops)\n",
    "ax.legend()\n",
    "plt.ylabel(\"AUC Drop\")\n",
    "plt.xlabel(\"OTDD Score\")\n",
    "plt.title(\"OTDD Score vs AUC Drop on Transported Models, PC = {}\".format(np.round(my_rho[0, 1], 2)))"
   ]
  },
  {
   "cell_type": "code",
   "execution_count": null,
   "id": "ec3685f4",
   "metadata": {},
   "outputs": [],
   "source": [
    "slope, intercept, r_value, p_value, std_err = scipy.stats.linregress(otdd_sites, site_refitted_auc_drops)\n",
    "ax = sns.regplot(otdd_sites,site_refitted_auc_drops, color ='blue', ci=None, \n",
    " line_kws={'label':\"y={0:.2f}x+{1:.2f}\".format(slope,intercept)})\n",
    "my_rho = np.corrcoef(otdd_sites, site_refitted_auc_drops)\n",
    "ax.legend()\n",
    "plt.ylabel(\"AUC Drop\")\n",
    "plt.xlabel(\"OTDD Score\")\n",
    "plt.title(\"OTDD Score vs AUC Drop on Transported Models, PC = {}\".format(np.round(my_rho[0, 1], 2)))"
   ]
  }
 ],
 "metadata": {
  "kernelspec": {
   "display_name": "Python 3 (ipykernel)",
   "language": "python",
   "name": "python3"
  },
  "language_info": {
   "codemirror_mode": {
    "name": "ipython",
    "version": 3
   },
   "file_extension": ".py",
   "mimetype": "text/x-python",
   "name": "python",
   "nbconvert_exporter": "python",
   "pygments_lexer": "ipython3",
   "version": "3.8.12"
  }
 },
 "nbformat": 4,
 "nbformat_minor": 5
}
