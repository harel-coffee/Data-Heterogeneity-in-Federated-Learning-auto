{
 "cells": [
  {
   "cell_type": "code",
   "execution_count": 1,
   "id": "93e3d229",
   "metadata": {},
   "outputs": [],
   "source": [
    "import numpy as np\n",
    "import pandas as pd\n",
    "import os\n",
    "import pprint\n",
    "import sklearn\n",
    "from sklearn import preprocessing\n",
    "from sklearn.decomposition import PCA\n",
    "import warnings\n",
    "import matplotlib\n",
    "from os import listdir\n",
    "import seaborn as sns\n",
    "import scipy\n",
    "import sys\n",
    "import pickle\n",
    "import miceforest as mf\n",
    "warnings.filterwarnings(\"ignore\")\n",
    "import functools\n",
    "from functools import reduce\n",
    "from mc4.algorithm import mc4_aggregator\n",
    "from copy import deepcopy\n",
    "\n",
    "import sklearn.neighbors._base\n",
    "sys.modules['sklearn.neighbors.base'] = sklearn.neighbors._base\n",
    "\n",
    "from sklearn.preprocessing import StandardScaler, MinMaxScaler\n",
    "import missingpy\n",
    "from sklearn.experimental import enable_iterative_imputer\n",
    "from sklearn.model_selection import train_test_split\n",
    "from sklearn.ensemble import RandomForestClassifier\n",
    "from sklearn.metrics import classification_report, confusion_matrix, accuracy_score, ConfusionMatrixDisplay\n",
    "from sklearn.metrics import brier_score_loss, precision_score, recall_score, f1_score, log_loss, roc_auc_score\n",
    "from collections import Counter\n",
    "import torch\n",
    "from torch import nn\n",
    "import torch.nn.functional as F\n",
    "from tqdm import tqdm\n",
    "\n",
    "import warnings\n",
    "warnings.filterwarnings(\"ignore\")\n",
    "\n",
    "from imblearn.over_sampling import SMOTE\n",
    "from imblearn.under_sampling import RandomUnderSampler\n",
    "from imblearn.over_sampling import RandomOverSampler\n",
    "from imblearn.under_sampling import TomekLinks\n",
    "from imblearn.under_sampling import NearMiss\n",
    "from collections import Counter\n",
    "\n",
    "import shap\n",
    "import matplotlib.pyplot as plt\n",
    "import statsmodels.api as sm\n",
    "from torch.utils.data import Dataset, DataLoader"
   ]
  },
  {
   "cell_type": "code",
   "execution_count": 2,
   "id": "f7803c05",
   "metadata": {},
   "outputs": [],
   "source": [
    "rs = 42"
   ]
  },
  {
   "cell_type": "code",
   "execution_count": 3,
   "id": "b8ba2520",
   "metadata": {},
   "outputs": [],
   "source": [
    "import random\n",
    "\n",
    "def _init_fn(worker_id):\n",
    "    np.random.seed(int(rs))\n",
    "    \n",
    "def seed_torch(seed=42):\n",
    "    random.seed(seed)\n",
    "    os.environ['PYTHONHASHSEED'] = str(seed)\n",
    "    np.random.seed(seed)\n",
    "    torch.manual_seed(seed)\n",
    "    torch.cuda.manual_seed(seed)\n",
    "    torch.cuda.manual_seed_all(seed) # if you are using multi-GPU.\n",
    "    torch.backends.cudnn.benchmark = False\n",
    "    torch.backends.cudnn.deterministic = True\n",
    "\n",
    "seed_torch()"
   ]
  },
  {
   "cell_type": "code",
   "execution_count": 4,
   "id": "59e5baac",
   "metadata": {},
   "outputs": [],
   "source": [
    "# Undersample Test Set\n",
    "test_under_sampler = 0\n",
    "do_class_weight = 1\n",
    "\n",
    "# Undersample Train Set\n",
    "do_smote = 0\n",
    "do_random_under_sampler = 0\n",
    "do_random_over_sampler = 0\n",
    "do_tomek_links = 0\n",
    "do_near_miss = 0"
   ]
  },
  {
   "cell_type": "code",
   "execution_count": 5,
   "id": "15fdd315",
   "metadata": {},
   "outputs": [],
   "source": [
    "def find_csv_filenames( path_to_dir, suffix=\".csv\" ):\n",
    "    filenames = listdir(path_to_dir)\n",
    "    return [ filename for filename in filenames if filename.endswith( suffix ) ]"
   ]
  },
  {
   "cell_type": "code",
   "execution_count": 6,
   "id": "bd826a06",
   "metadata": {},
   "outputs": [],
   "source": [
    "os.chdir('..')"
   ]
  },
  {
   "cell_type": "code",
   "execution_count": 7,
   "id": "539d6fc3",
   "metadata": {},
   "outputs": [],
   "source": [
    "prediction_window = \"\""
   ]
  },
  {
   "cell_type": "code",
   "execution_count": 8,
   "id": "43e5c5ff",
   "metadata": {},
   "outputs": [],
   "source": [
    "data_directory = 'Sepsis Data/'\n",
    "prediction_directory = 'sepsis/'\n",
    "\n",
    "data_files = find_csv_filenames(data_directory+prediction_directory)\n",
    "\n",
    "hosps = [x.replace('.csv', '') for x in data_files]"
   ]
  },
  {
   "cell_type": "code",
   "execution_count": 9,
   "id": "82759b8f",
   "metadata": {},
   "outputs": [],
   "source": [
    "model_directory = 'Sepsis Models/' + prediction_window + '/Pytorch MLP/'"
   ]
  },
  {
   "cell_type": "markdown",
   "id": "85ddcfee",
   "metadata": {},
   "source": [
    "#### Loading Cleaned Data"
   ]
  },
  {
   "cell_type": "code",
   "execution_count": 10,
   "id": "17c5edff",
   "metadata": {},
   "outputs": [],
   "source": [
    "def get_features_diag(data):\n",
    "    features = list(data_dictionary[hosp])\n",
    "    features.remove(list(data_dictionary[hosp])[-1])\n",
    "    AKI_diag = list(data_dictionary[hosp])[-1]\n",
    "    return features, AKI_diag\n",
    "\n",
    "def do_training_modifications(X_train, y_train):\n",
    "    if do_smote:\n",
    "        oversample = SMOTE(random_state=rs)\n",
    "        X_train, y_train = oversample.fit_resample(X_train, y_train)\n",
    "    if do_random_under_sampler:\n",
    "        rus = RandomUnderSampler(replacement=True, random_state=rs)\n",
    "        X_train, y_train = rus.fit_resample(X_train, y_train)\n",
    "    if do_random_over_sampler:\n",
    "        ros = RandomOverSampler(random_state=rs)\n",
    "        X_train, y_train = ros.fit_resample(X_train, y_train)\n",
    "    if do_tomek_links:\n",
    "        tl = TomekLinks(random_state=rs)\n",
    "        X_train, y_train = tl.fit_resample(X_train, y_train)\n",
    "    if do_near_miss:\n",
    "        nm = NearMiss(random_state=rs)\n",
    "        X_train, y_train = nm.fit_resample(X_train, y_train)  \n",
    "    return X_train, y_train\n",
    "\n",
    "def normalize_data(data_dictionary, hosp):\n",
    "    df = deepcopy(data_dictionary[hosp])\n",
    "    demographic_index = list(df).index('is_female')\n",
    "    medical_signs = list(df)[:demographic_index]\n",
    "    medication_index = list(df).index('ACETAMIN')\n",
    "    medications = list(df)[medication_index:len(list(data))-1]\n",
    "    demographic_binary = ['is_female', 'race_black', 'race_hispanic', 'race_asian', \n",
    "                        'race_other', 'electivesurgery']\n",
    "    binary_features = medications + demographic_binary\n",
    "    continuous_features = medical_signs + ['age', 'BMI']\n",
    "\n",
    "    df[continuous_features] = (df[continuous_features]-df[continuous_features].mean())/df[continuous_features].std()\n",
    "    df[binary_features] = df[binary_features].replace([0],-1)\n",
    "    return df"
   ]
  },
  {
   "cell_type": "code",
   "execution_count": 11,
   "id": "fdc8e926",
   "metadata": {},
   "outputs": [],
   "source": [
    "temp_data_dictionary = dict.fromkeys(hosps)\n",
    "data_dictionary = dict.fromkeys(hosps)\n",
    "missing_dictionary = dict.fromkeys(hosps)"
   ]
  },
  {
   "cell_type": "code",
   "execution_count": 12,
   "id": "8ff9883a",
   "metadata": {},
   "outputs": [],
   "source": [
    "for hosp in data_dictionary:\n",
    "    file = str(hosp) + '.csv'\n",
    "    data = pd.read_csv(data_directory + prediction_directory + \"cleaned/\" + file)\n",
    "    data = data.loc[:, ~data.columns.str.contains('^Unnamed')]\n",
    "    data_dictionary[hosp] = data"
   ]
  },
  {
   "cell_type": "code",
   "execution_count": 13,
   "id": "34adb0c8",
   "metadata": {},
   "outputs": [],
   "source": [
    "for hosp in data_dictionary:\n",
    "    data_dictionary[hosp] = normalize_data(data_dictionary, hosp)"
   ]
  },
  {
   "cell_type": "markdown",
   "id": "fcca96c9",
   "metadata": {},
   "source": [
    "#### Functions for Model Training and Validation"
   ]
  },
  {
   "cell_type": "code",
   "execution_count": 14,
   "id": "a35c3f59",
   "metadata": {},
   "outputs": [],
   "source": [
    "class MLP(nn.Module):\n",
    "    def __init__(self,input_shape):\n",
    "        super(MLP,self).__init__()\n",
    "        self.fc1 = nn.Linear(input_shape,10)\n",
    "        self.fc2 = nn.Linear(10,1)\n",
    "    \n",
    "    def forward(self,x):\n",
    "        x = torch.relu(self.fc1(x))\n",
    "        x = torch.sigmoid(self.fc2(x))\n",
    "        return x\n",
    "    \n",
    "    def fit(self, X_train, y_train, epochs=200, lr=0.001):\n",
    "        X_train = X_train.values\n",
    "        y_train = y_train.values\n",
    "        class_weights = sklearn.utils.compute_class_weight('balanced', classes=np.unique(np.squeeze(y_train)),\n",
    "                                                           y=np.squeeze(y_train))\n",
    "        trainset = dataset(X_train, y_train)\n",
    "        train_loader = DataLoader(trainset, batch_size=64, shuffle=True, num_workers = 0, worker_init_fn=_init_fn)\n",
    "        criterion = nn.BCELoss()\n",
    "        optimizer = torch.optim.SGD(self.parameters(), lr=lr)\n",
    "        self.train_model(train_loader, criterion, optimizer, epochs, class_weights)\n",
    "        return self\n",
    "    \n",
    "    def predict_prob(self, X):\n",
    "        with torch.no_grad():\n",
    "            return np.array(self(torch.tensor(X,dtype=torch.float32)).flatten())\n",
    "        \n",
    "    def get_predictions(self, X_test):\n",
    "        with torch.no_grad():\n",
    "            predicted = self(torch.tensor(X_test,dtype=torch.float32))\n",
    "            predictions_one_encoded = predicted.reshape(-1).detach().numpy().round()\n",
    "            return np.array(predicted).flatten(), predictions_one_encoded\n",
    "        \n",
    "    def train_model(self, train_loader, criterion, optimizer, epochs, class_weights):\n",
    "        for i in range(epochs):\n",
    "            for j,(x_train,y_train) in enumerate(train_loader):\n",
    "                #calculate output\n",
    "                output = self(x_train)\n",
    "                # set criterion weight\n",
    "                batch_class_weights = y_train.clone().detach()\n",
    "                batch_class_weights[batch_class_weights == 0] = class_weights[0]\n",
    "                batch_class_weights[batch_class_weights == 1] = class_weights[1]\n",
    "                criterion.weight = batch_class_weights.reshape(-1,1)\n",
    "                #calculate loss\n",
    "                loss = criterion(output,y_train.reshape(-1,1))\n",
    "                #backprop\n",
    "                loss.backward()\n",
    "                optimizer.step()\n",
    "                optimizer.zero_grad()"
   ]
  },
  {
   "cell_type": "code",
   "execution_count": 15,
   "id": "520d7ed3",
   "metadata": {},
   "outputs": [],
   "source": [
    "def evaluate_model_optim(model, y_test, X_test, print_dist=False):\n",
    "    y_test = y_test.values\n",
    "    probs, predictions = model.get_predictions(X_test.values)\n",
    "    y_pred_coded = predictions\n",
    "    probs = probs.flatten()\n",
    "    if print_dist == True:\n",
    "        print(\"Distribution of Test Predictions\")\n",
    "        pred_class_distribution(y_test, y_pred_coded)\n",
    "        print(\"###########\")\n",
    "    metric=[]\n",
    "    metric.append(['accuracy',np.round(accuracy_score(y_test,y_pred_coded), 3)])\n",
    "    roc_score = np.round(roc_auc_score(y_test, probs), 3)\n",
    "    metric.append(['roc',np.round(roc_score, 3)])\n",
    "    metric.append(['precision',np.round(precision_score(y_test,y_pred_coded), 3)])\n",
    "    metric.append(['recall',np.round(recall_score(y_test,y_pred_coded), 3)])\n",
    "    return metric\n",
    "\n",
    "def pred_class_distribution(y_test, y_pred_coded):\n",
    "    zero_wrong, zero_right, one_wrong, one_right = [0] * 4\n",
    "    for i in range(0, len(y_pred_coded)):\n",
    "        if y_test[i] == 0:\n",
    "            if y_pred_coded[i] == 0:\n",
    "                zero_right += 1\n",
    "            else:\n",
    "                zero_wrong += 1\n",
    "        if y_test[i] == 1:\n",
    "            if y_pred_coded[i] == 1:\n",
    "                one_right += 1\n",
    "            else:\n",
    "                one_wrong += 1\n",
    "    print(\"Number of 0 Class Predictions Right: \" + str(zero_right))\n",
    "    print(\"Number of 0 Class Predictions Wrong: \" + str(zero_wrong))\n",
    "    print(\"Number of 1 Class Predictions Right: \" + str(one_right))\n",
    "    print(\"Number of 1 Class Predictions Wrong: \" + str(one_wrong))"
   ]
  },
  {
   "cell_type": "code",
   "execution_count": 16,
   "id": "b989099b",
   "metadata": {},
   "outputs": [],
   "source": [
    "def load_cv_models(hosp):\n",
    "    cv_models = []\n",
    "    for i in range(0, 5):\n",
    "        fold = i + 1\n",
    "        filename = model_directory + hosp + '_CV' + str(fold) + \".pckl\"\n",
    "        model = pickle.load(open(filename, 'rb'))\n",
    "        cv_models.append(model)\n",
    "    return cv_models"
   ]
  },
  {
   "cell_type": "code",
   "execution_count": 17,
   "id": "6c95886e",
   "metadata": {},
   "outputs": [],
   "source": [
    "def get_cross_validated_scores_race(hosps, strat_feature, model_name='Agg', return_positive=1):\n",
    "    splits = 5\n",
    "    cv = sklearn.model_selection.StratifiedKFold(n_splits=splits,shuffle=True, random_state=rs)\n",
    "    \n",
    "    all_accs = []\n",
    "    all_aucs = []\n",
    "    all_precs = []\n",
    "    all_recs = []\n",
    "    all_macro_predictions = []\n",
    "    all_macro_test = []\n",
    "    \n",
    "    models = load_cv_models('Agg')\n",
    "    \n",
    "    for split_count in range(splits):    \n",
    "        X_training_dictionary = {}\n",
    "        X_testing_dictionary = {}\n",
    "        y_training_dictionary = {}\n",
    "        y_testing_dictionary = {}\n",
    "\n",
    "        empty_flag = 0\n",
    "        \n",
    "        for hosp in data_dictionary:\n",
    "            data = data_dictionary[hosp]\n",
    "            data = data[data[strat_feature] == return_positive]\n",
    "            features, AKI_diag = get_features_diag(data)\n",
    "            X = data[features]\n",
    "            Y = data[AKI_diag]\n",
    "            if not X.empty:\n",
    "                train, test = get_fold_info(split_count, cv.split(X, Y))\n",
    "                X_training_dictionary[hosp] = X.iloc[train]\n",
    "                X_testing_dictionary[hosp] = X.iloc[test]\n",
    "                y_training_dictionary[hosp] = Y.iloc[train]\n",
    "                y_testing_dictionary[hosp] = Y.iloc[test]\n",
    "        \n",
    "        accs = []\n",
    "        aucs = []\n",
    "        precs = []\n",
    "        recs = []\n",
    "        macro_predictions = []\n",
    "        macro_test = []\n",
    "        \n",
    "        model = models[split_count]\n",
    "        \n",
    "        for hosp in X_testing_dictionary:\n",
    "            probs, y_pred_coded = model.get_predictions(X_testing_dictionary[hosp].values)\n",
    "            fpr, tpr, t = sklearn.metrics.roc_curve(y_testing_dictionary[hosp].values, probs)\n",
    "            acc = accuracy_score(y_testing_dictionary[hosp].values, y_pred_coded)\n",
    "            roc_auc = sklearn.metrics.auc(fpr, tpr)\n",
    "            prec = precision_score(y_testing_dictionary[hosp].values,y_pred_coded)\n",
    "            rec = recall_score(y_testing_dictionary[hosp].values,y_pred_coded)\n",
    "            aucs.append(roc_auc), accs.append(acc), precs.append(prec), recs.append(rec)\n",
    "            macro_predictions.append(probs)\n",
    "            macro_test.append(y_testing_dictionary[hosp].values)\n",
    "\n",
    "        all_accs.append(accs), all_aucs.append(aucs), all_precs.append(precs), all_recs.append(recs)\n",
    "        all_macro_predictions.append(np.array(macro_predictions)), all_macro_test.append(np.array(macro_test))\n",
    "    \n",
    "    all_accs = np.array(all_accs)\n",
    "    all_aucs = np.array(all_aucs)\n",
    "    all_precs = np.array(all_precs)\n",
    "    all_recs = np.array(all_recs)\n",
    "    all_macro_predictions = np.array(all_macro_predictions)\n",
    "    all_macro_test = np.array(all_macro_test)\n",
    "    \n",
    "    available_hosps = X_testing_dictionary.keys()\n",
    "    \n",
    "    metrics_dictionary = dict.fromkeys(available_hosps)\n",
    "    stds_dictionary = dict.fromkeys(available_hosps)\n",
    "    roc_info_dictionary = dict.fromkeys(available_hosps)\n",
    "    \n",
    "    for i, hosp in enumerate(available_hosps):\n",
    "        metric = []\n",
    "        stds = []        \n",
    "        mean_acc = np.round(np.nanmean(all_accs[:, i]), 3)\n",
    "        mean_auc = np.round(np.nanmean(all_aucs[:, i]), 3)\n",
    "        mean_prec = np.round(np.nanmean(all_precs[:, i]), 3)\n",
    "        mean_rec = np.round(np.nanmean(all_recs[:, i]), 3)\n",
    "        metric.append(['accuracy', mean_acc]), metric.append(['roc', mean_auc])\n",
    "        metric.append(['prec', mean_prec]), metric.append(['rec', mean_rec])\n",
    "        std_acc = np.round(np.nanstd(all_accs[:, i]), 3)\n",
    "        std_auc = np.round(np.nanstd(all_aucs[:, i]), 3)\n",
    "        std_prec = np.round(np.nanstd(all_precs[:, i]), 3)\n",
    "        std_rec = np.round(np.nanstd(all_recs[:, i]), 3)\n",
    "        stds.append(['accuracy', std_acc]), stds.append(['roc', std_auc])\n",
    "        stds.append(['prec', std_prec]), stds.append(['rec', std_rec])\n",
    "        metrics_dictionary[hosp] = metric\n",
    "        stds_dictionary[hosp] = stds\n",
    "        \n",
    "        roc_info = []\n",
    "        all_predictions = np.concatenate(all_macro_predictions[:, i])\n",
    "        all_test = np.concatenate(all_macro_test[:, i])\n",
    "        fpr, tpr, t = sklearn.metrics.roc_curve(all_test, all_predictions)\n",
    "        roc_info = [fpr, tpr, t]\n",
    "        roc_info_dictionary[hosp] = roc_info\n",
    "    \n",
    "    return metrics_dictionary, stds_dictionary, roc_info_dictionary\n",
    "\n",
    "\n",
    "def get_fold_info(split_count, gen):\n",
    "    j = 0\n",
    "    for train, test in gen:\n",
    "        train = train\n",
    "        test = test\n",
    "        if split_count == j:\n",
    "            break\n",
    "        j += 1\n",
    "    return train, test"
   ]
  },
  {
   "cell_type": "code",
   "execution_count": 18,
   "id": "8b595262",
   "metadata": {},
   "outputs": [],
   "source": [
    "def display_metrics(metrics, stand_dev = None):\n",
    "    if stand_dev is None:\n",
    "        print(\"Accuracy: {}\".format(metrics[0][1]))\n",
    "        print(\"AUC: {}\".format(metrics[1][1]))\n",
    "        print(\"Precision: {}\".format(metrics[2][1]))\n",
    "        print(\"Recall: {}\".format(metrics[3][1]))\n",
    "    else:\n",
    "        s_acc = str(metrics[0][1]) + \" ± \" + str(stand_dev[0][1])\n",
    "        s_auc = str(metrics[1][1]) + \" ± \" + str(stand_dev[1][1])\n",
    "        s_prec = str(metrics[2][1]) + \" ± \" + str(stand_dev[2][1])\n",
    "        s_rec = str(metrics[3][1]) + \" ± \" + str(stand_dev[3][1])\n",
    "        print(\"Accuracy: \" + s_acc)\n",
    "        print(\"AUC: \" + s_auc)\n",
    "        print(\"Precision: \" + s_prec)\n",
    "        print(\"Recall: \" + s_rec)"
   ]
  },
  {
   "cell_type": "markdown",
   "id": "14ae2a4f",
   "metadata": {},
   "source": [
    "#### Aggregated Model Performances by Race"
   ]
  },
  {
   "cell_type": "code",
   "execution_count": 19,
   "id": "cfe8dadf",
   "metadata": {},
   "outputs": [],
   "source": [
    "agg_data = pd.concat(data_dictionary.values())\n",
    "\n",
    "features, AKI_diag = get_features_diag(agg_data)\n",
    "X = agg_data[features]\n",
    "Y = agg_data[AKI_diag]\n",
    "\n",
    "X_train, X_test, y_train, y_test = train_test_split(X, Y, test_size=0.20, random_state=rs)\n",
    "\n",
    "strat_feature = 'NITROGLYCERIN'\n",
    "black_metrics_dictionary, black_stds_dictionary, black_roc_info_dictionary = get_cross_validated_scores_race(hosps, \n",
    "                                                                                           strat_feature, \n",
    "                                                                                           model_name='Agg', \n",
    "                                                                                           return_positive=1)\n",
    "\n",
    "nonblack_metrics_dictionary, nonblack_stds_dictionary, nonblack_roc_info_dictionary = get_cross_validated_scores_race(hosps, \n",
    "                                                                                           strat_feature, \n",
    "                                                                                           model_name='Agg', \n",
    "                                                                                           return_positive=-1)"
   ]
  },
  {
   "cell_type": "code",
   "execution_count": 20,
   "id": "8259471f",
   "metadata": {
    "scrolled": true
   },
   "outputs": [],
   "source": [
    "# for hosp in hosps:\n",
    "#     print(\"Performance of Hosp {}:\".format(hosp))\n",
    "#     display_metrics(black_metrics_dictionary[hosp], stand_dev = black_stds_dictionary[hosp])\n",
    "#     print(\"\\n\")"
   ]
  },
  {
   "cell_type": "code",
   "execution_count": 21,
   "id": "3cfa4dfe",
   "metadata": {
    "scrolled": true
   },
   "outputs": [],
   "source": [
    "# for hosp in hosps:\n",
    "#     print(\"Performance of Hosp {}:\".format(hosp))\n",
    "#     display_metrics(nonblack_metrics_dictionary[hosp], stand_dev = nonblack_stds_dictionary[hosp])\n",
    "#     print(\"\\n\")"
   ]
  },
  {
   "cell_type": "markdown",
   "id": "cee9fe04",
   "metadata": {},
   "source": [
    "#### Plotting Stratified Performances for Pooled Model"
   ]
  },
  {
   "cell_type": "code",
   "execution_count": 22,
   "id": "bbe4f0f3",
   "metadata": {},
   "outputs": [],
   "source": [
    "channel = ['Positive', 'Negative', 'Positive', 'Negative', 'Positive', 'Negative', 'Positive', 'Negative', \n",
    "          'Positive', 'Negative', 'Positive', 'Negative', 'Positive', 'Negative', ]\n",
    "average_auc = []\n",
    "std_auc = []\n",
    "for hosp in hosps:\n",
    "    average_auc.append(black_metrics_dictionary[hosp][1][1])\n",
    "    average_auc.append(nonblack_metrics_dictionary[hosp][1][1])\n",
    "    std_auc.append(black_stds_dictionary[hosp][1][1])\n",
    "    std_auc.append(nonblack_stds_dictionary[hosp][1][1])"
   ]
  },
  {
   "cell_type": "code",
   "execution_count": 23,
   "id": "fc983894",
   "metadata": {},
   "outputs": [],
   "source": [
    "conc = np.repeat(hosps,2)\n",
    "a = list(set(conc))\n",
    "conc2 = [a.index(x) for x in conc]\n",
    "conc2.sort()"
   ]
  },
  {
   "cell_type": "code",
   "execution_count": 24,
   "id": "77ae5708",
   "metadata": {},
   "outputs": [
    {
     "data": {
      "image/png": "[encoded data removed]",
      "text/plain": [
       "<Figure size 720x720 with 1 Axes>"
      ]
     },
     "metadata": {
      "needs_background": "light"
     },
     "output_type": "display_data"
    }
   ],
   "source": [
    "df = pd.DataFrame({\"Feature Present\": channel,\n",
    "                  \"Average AUC\": average_auc,\n",
    "                  \"sd\" : std_auc,\n",
    "                  \"Hospital\": conc})\n",
    "\n",
    "order = hosps\n",
    "plt.figure(figsize=(10,10))\n",
    "plt.ylim(0.5, 1.05)\n",
    "sns.barplot(x=\"Hospital\", y=\"Average AUC\", hue=\"Feature Present\", data=df, ci=None, \n",
    "            order=order)\n",
    "\n",
    "width = .25\n",
    "add = [-0.5*width, 0.5*width, -0.5*width, 0.5*width, -0.5*width, 0.5*width, -0.5*width, 0.5*width,\n",
    "      -0.5*width, 0.5*width, -0.5*width, 0.5*width, -0.5*width, 0.5*width,]\n",
    "x = np.array(conc2)+np.array(add)\n",
    "\n",
    "plt.errorbar(x = x, y = df['Average AUC'],\n",
    "            yerr=df['sd'], fmt='none', c= 'black', capsize = 2)\n",
    "plt.show()"
   ]
  }
 ],
 "metadata": {
  "kernelspec": {
   "display_name": "Python 3 (ipykernel)",
   "language": "python",
   "name": "python3"
  },
  "language_info": {
   "codemirror_mode": {
    "name": "ipython",
    "version": 3
   },
   "file_extension": ".py",
   "mimetype": "text/x-python",
   "name": "python",
   "nbconvert_exporter": "python",
   "pygments_lexer": "ipython3",
   "version": "3.8.12"
  }
 },
 "nbformat": 4,
 "nbformat_minor": 5
}
